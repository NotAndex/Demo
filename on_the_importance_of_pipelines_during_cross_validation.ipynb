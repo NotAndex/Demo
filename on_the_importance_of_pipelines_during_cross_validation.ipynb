{
  "nbformat": 4,
  "nbformat_minor": 0,
  "metadata": {
    "colab": {
      "name": "on_the_importance_of_pipelines_during_cross_validation.ipynb",
      "provenance": [],
      "authorship_tag": "ABX9TyO1I0+qKD0/aTH4NgxnOmU+",
      "include_colab_link": true
    },
    "kernelspec": {
      "name": "python3",
      "display_name": "Python 3"
    },
    "language_info": {
      "name": "python"
    },
    "accelerator": "GPU"
  },
  "cells": [
    {
      "cell_type": "markdown",
      "metadata": {
        "id": "view-in-github",
        "colab_type": "text"
      },
      "source": [
        "<a href=\"https://colab.research.google.com/github/NotAndex/Demo/blob/main/on_the_importance_of_pipelines_during_cross_validation.ipynb\" target=\"_parent\"><img src=\"https://colab.research.google.com/assets/colab-badge.svg\" alt=\"Open In Colab\"/></a>"
      ]
    },
    {
      "cell_type": "markdown",
      "metadata": {
        "id": "FfgAXTm81hdJ"
      },
      "source": [
        "# 1 Setup"
      ]
    },
    {
      "cell_type": "code",
      "metadata": {
        "id": "jH8IWURiqdcE"
      },
      "source": [
        "import pandas as pd\n",
        "import numpy as np\n",
        "\n",
        "\n",
        "import sklearn\n",
        "from sklearn.model_selection import train_test_split\n",
        "from sklearn.metrics import accuracy_score, confusion_matrix, classification_report, f1_score, precision_recall_curve\n",
        "from sklearn.preprocessing import Normalizer, MinMaxScaler, StandardScaler\n",
        "from sklearn.pipeline import Pipeline\n",
        "from sklearn.impute import SimpleImputer\n",
        "from sklearn.compose import ColumnTransformer\n",
        "from sklearn.model_selection import GridSearchCV \n",
        "\n",
        "!pip install catboost\n",
        "from catboost import CatBoostClassifier\n"
      ],
      "execution_count": null,
      "outputs": []
    },
    {
      "cell_type": "markdown",
      "metadata": {
        "id": "0kIcySxj1owo"
      },
      "source": [
        "# 2 Data"
      ]
    },
    {
      "cell_type": "code",
      "metadata": {
        "id": "218Mvnojq1Rh"
      },
      "source": [
        "df = pd.read_csv('https://storage.googleapis.com/download.tensorflow.org/data/creditcard.csv')\n",
        "\n",
        "\n",
        "df.rename(columns={'Class':'label'}, inplace=True)\n",
        "df['log10_amount'] = np.log10(df.Amount + 0.00001)\n",
        "df = df.drop(['Time','Amount'],axis=1)\n",
        "\n",
        "X = df.drop('label', axis=1)\n",
        "y = df.label\n",
        "\n",
        "X_train, X_test, y_train, y_test = \\\n",
        "    train_test_split(X, y, test_size=0.3, random_state=42)\n",
        "    \n",
        "X_train, X_validate, y_train, y_validate = \\\n",
        "    train_test_split(X_train, y_train, test_size=0.2, random_state=42)"
      ],
      "execution_count": 3,
      "outputs": []
    },
    {
      "cell_type": "markdown",
      "metadata": {
        "id": "KA_G2JbW1sOI"
      },
      "source": [
        "# 3 Implementation pre-processing pipeline"
      ]
    },
    {
      "cell_type": "code",
      "metadata": {
        "id": "_4yrth-NrAXI"
      },
      "source": [
        "# Definition of how to transform numeric values\n",
        "num_transformer = Pipeline(steps=[('scaler', StandardScaler())])\n",
        "\n",
        "# Columns of the data that are numeric features\n",
        "num_feat = X_train.select_dtypes(include=['float64']).columns\n",
        "\n",
        "# Pipeline: How (num_transformer) to transform which (num_feat) columns\n",
        "preprocessor = ColumnTransformer(transformers=[('num', num_transformer, num_feat)])\n",
        "\n",
        "# Glue pipeline together: preprocessor + Classifier\n",
        "cat_clf = Pipeline(steps=[('preprocessor', preprocessor),\n",
        "                      ('cb_clf', CatBoostClassifier())])"
      ],
      "execution_count": 4,
      "outputs": []
    },
    {
      "cell_type": "markdown",
      "metadata": {
        "id": "SeNru75u0MQi"
      },
      "source": [
        "## But why is a pipeline important? \n",
        "Imagine you want to transform your data for better learning of the model. So you have to transform your train, validation, and test set. You use for example the StandardScaler() which is calculated like this: z = (x – u (mean)) / s(standard deviation). What is to be recognized here is, that you can’t know u and s of the validation and test set. Because of that, you use u and s of the train set to transform the validation and test set. This is achieved by fitting the StandardScaler() to the train set. Using the StandardScaler() in a pipeline, this behavior is [transferred to cross-validation](https://scikit-learn.org/stable/modules/cross_validation.html). That means exactly, in every cross-validation step the StandardScaler() is fitted to the train set to transform the held out (K-fold) set."
      ]
    },
    {
      "cell_type": "markdown",
      "metadata": {
        "id": "-Pidz-Da2IRZ"
      },
      "source": [
        "#4 Hyperparameter tuning\n",
        "\n"
      ]
    },
    {
      "cell_type": "markdown",
      "metadata": {
        "id": "AWKV_SPz2VRw"
      },
      "source": [
        "## 4.1 Hyperparameter definition\n"
      ]
    },
    {
      "cell_type": "code",
      "metadata": {
        "id": "RLLcm6FArTQy"
      },
      "source": [
        "cat_hyperparams = {'cb_clf__learning_rate' : [0.01, 0.03, 0.1],\n",
        "          'cb_clf__objective': ['CrossEntropy'],\n",
        "          'cb_clf__eval_metric' :['BalancedAccuracy']}"
      ],
      "execution_count": 5,
      "outputs": []
    },
    {
      "cell_type": "markdown",
      "metadata": {
        "id": "12GndySf2nuZ"
      },
      "source": [
        "## 4.2 Hyperparameter search via GridSearchCV()\n",
        "\n",
        "![Pic](https://github.com/NotAndex/Demo/blob/main/images/visio_cross_val_graphic.png?raw=true)"
      ]
    },
    {
      "cell_type": "code",
      "metadata": {
        "id": "pP3UsWAtrYwh"
      },
      "source": [
        "cat_model = GridSearchCV(cat_clf, cat_hyperparams, scoring=\"balanced_accuracy\", cv = 5)\n",
        "\n",
        "cat_model.fit(X_train, y_train)"
      ],
      "execution_count": null,
      "outputs": []
    },
    {
      "cell_type": "markdown",
      "metadata": {
        "id": "qTn6bTay25w4"
      },
      "source": [
        "# 5 Model implementation"
      ]
    },
    {
      "cell_type": "markdown",
      "metadata": {
        "id": "10CPxErC3G4I"
      },
      "source": [
        "## 5.1 Get + set best model configuration"
      ]
    },
    {
      "cell_type": "code",
      "metadata": {
        "colab": {
          "base_uri": "https://localhost:8080/"
        },
        "id": "2eqZMSi1rciB",
        "outputId": "5d916b3a-3dd0-46db-ba78-5d9ea41473d3"
      },
      "source": [
        "best_parameter = cat_model.best_params_\n",
        "print(best_parameter)\n",
        "cat_clf.set_params(**best_parameter)"
      ],
      "execution_count": 10,
      "outputs": [
        {
          "output_type": "stream",
          "text": [
            "{'cb_clf__eval_metric': 'BalancedAccuracy', 'cb_clf__learning_rate': 0.03, 'cb_clf__objective': 'CrossEntropy'}\n"
          ],
          "name": "stdout"
        }
      ]
    },
    {
      "cell_type": "markdown",
      "metadata": {
        "id": "GdjhwyWW3VGI"
      },
      "source": [
        "## 5.2 Model fit + predict"
      ]
    },
    {
      "cell_type": "code",
      "metadata": {
        "id": "DtTNoMiWribB"
      },
      "source": [
        "cat_clf.fit(X_train, y_train,\n",
        "                 cb_clf__eval_set = (X_validate, y_validate))\n",
        "\n",
        "\n",
        "y_test_pred_cat = cat_clf.predict(X_test)"
      ],
      "execution_count": null,
      "outputs": []
    }
  ]
}