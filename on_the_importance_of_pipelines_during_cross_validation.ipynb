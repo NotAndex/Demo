{
  "nbformat": 4,
  "nbformat_minor": 2,
  "metadata": {
    "colab": {
      "name": "on_the_importance_of_pipelines_during_cross_validation.ipynb",
      "provenance": [],
      "authorship_tag": "ABX9TyO1I0+qKD0/aTH4NgxnOmU+",
      "include_colab_link": true
    },
    "kernelspec": {
      "name": "python3",
      "display_name": "Python 3"
    },
    "language_info": {
      "name": "python"
    },
    "accelerator": "GPU"
  },
  "cells": [
    {
      "cell_type": "markdown",
      "source": [
        "<a href=\"https://colab.research.google.com/github/NotAndex/Demo/blob/main/on_the_importance_of_pipelines_during_cross_validation.ipynb\" target=\"_parent\"><img src=\"https://colab.research.google.com/assets/colab-badge.svg\" alt=\"Open In Colab\"/></a>"
      ],
      "metadata": {
        "id": "view-in-github",
        "colab_type": "text"
      }
    },
    {
      "cell_type": "markdown",
      "source": [
        "# 1 Setup"
      ],
      "metadata": {
        "id": "FfgAXTm81hdJ"
      }
    },
    {
      "cell_type": "code",
      "execution_count": null,
      "source": [
        "import pandas as pd\r\n",
        "import numpy as np\r\n",
        "\r\n",
        "\r\n",
        "import sklearn\r\n",
        "from sklearn.model_selection import train_test_split\r\n",
        "from sklearn.metrics import accuracy_score, confusion_matrix, classification_report, f1_score, precision_recall_curve\r\n",
        "from sklearn.preprocessing import Normalizer, MinMaxScaler, StandardScaler\r\n",
        "from sklearn.pipeline import Pipeline\r\n",
        "from sklearn.impute import SimpleImputer\r\n",
        "from sklearn.compose import ColumnTransformer\r\n",
        "from sklearn.model_selection import GridSearchCV \r\n",
        "\r\n",
        "#!pip install catboost\r\n",
        "from catboost import CatBoostClassifier\r\n"
      ],
      "outputs": [],
      "metadata": {
        "id": "jH8IWURiqdcE"
      }
    },
    {
      "cell_type": "markdown",
      "source": [
        "# 2 Data"
      ],
      "metadata": {
        "id": "0kIcySxj1owo"
      }
    },
    {
      "cell_type": "code",
      "execution_count": 3,
      "source": [
        "df = pd.read_csv('https://storage.googleapis.com/download.tensorflow.org/data/creditcard.csv')\r\n",
        "\r\n",
        "\r\n",
        "df.rename(columns={'Class':'label'}, inplace=True)\r\n",
        "df['log10_amount'] = np.log10(df.Amount + 0.00001)\r\n",
        "df = df.drop(['Time','Amount'],axis=1)\r\n",
        "\r\n",
        "X = df.drop('label', axis=1)\r\n",
        "y = df.label\r\n",
        "\r\n",
        "X_train, X_test, y_train, y_test = \\\r\n",
        "    train_test_split(X, y, test_size=0.3, random_state=42)\r\n",
        "    \r\n",
        "X_train, X_validate, y_train, y_validate = \\\r\n",
        "    train_test_split(X_train, y_train, test_size=0.2, random_state=42)"
      ],
      "outputs": [],
      "metadata": {
        "id": "218Mvnojq1Rh"
      }
    },
    {
      "cell_type": "markdown",
      "source": [
        "# 3 Implementation pre-processing pipeline"
      ],
      "metadata": {
        "id": "KA_G2JbW1sOI"
      }
    },
    {
      "cell_type": "code",
      "execution_count": 4,
      "source": [
        "# Definition of how to transform numeric values\r\n",
        "num_transformer = Pipeline(steps=[('scaler', StandardScaler())])\r\n",
        "\r\n",
        "# Columns of the data that are numeric features\r\n",
        "num_feat = X_train.select_dtypes(include=['float64']).columns\r\n",
        "\r\n",
        "# Pipeline: How (num_transformer) to transform which (num_feat) columns\r\n",
        "preprocessor = ColumnTransformer(transformers=[('num', num_transformer, num_feat)])\r\n",
        "\r\n",
        "# Glue pipeline together: preprocessor + Classifier\r\n",
        "cat_clf = Pipeline(steps=[('preprocessor', preprocessor),\r\n",
        "                      ('cb_clf', CatBoostClassifier())])"
      ],
      "outputs": [],
      "metadata": {
        "id": "_4yrth-NrAXI"
      }
    },
    {
      "cell_type": "markdown",
      "source": [
        "## But why is a pipeline important? \r\n",
        "Imagine you want to transform your data for better learning of the model. So you have to transform your train, validation, and test set. You use for example the StandardScaler() which is calculated like this: z = (x – u (mean)) / s(standard deviation). What is to be recognized here is, that you can’t know u and s of the validation and test set. Because of that, you use u and s of the train set to transform the validation and test set. This is achieved by fitting the StandardScaler() to the train set. Using the StandardScaler() in a pipeline, this behavior is [transferred to cross-validation](https://scikit-learn.org/stable/modules/cross_validation.html). That means exactly, in every cross-validation step the StandardScaler() is fitted to the train set to transform the held out (K-fold) set."
      ],
      "metadata": {
        "id": "SeNru75u0MQi"
      }
    },
    {
      "cell_type": "markdown",
      "source": [
        "#4 Hyperparameter tuning\r\n",
        "\r\n"
      ],
      "metadata": {
        "id": "-Pidz-Da2IRZ"
      }
    },
    {
      "cell_type": "markdown",
      "source": [
        "## 4.1 Hyperparameter definition\n"
      ],
      "metadata": {
        "id": "AWKV_SPz2VRw"
      }
    },
    {
      "cell_type": "code",
      "execution_count": 5,
      "source": [
        "cat_hyperparams = {'cb_clf__learning_rate' : [0.01, 0.03, 0.1],\r\n",
        "          'cb_clf__objective': ['CrossEntropy'],\r\n",
        "          'cb_clf__eval_metric' :['BalancedAccuracy']}"
      ],
      "outputs": [],
      "metadata": {
        "id": "RLLcm6FArTQy"
      }
    },
    {
      "cell_type": "markdown",
      "source": [
        "## 4.2 Hyperparameter search via GridSearchCV()\n",
        "\n",
        "![Pic](https://github.com/NotAndex/Demo/blob/main/images/visio_cross_val_graphic.png?raw=true)"
      ],
      "metadata": {
        "id": "12GndySf2nuZ"
      }
    },
    {
      "cell_type": "code",
      "execution_count": null,
      "source": [
        "cat_model = GridSearchCV(cat_clf, cat_hyperparams, scoring=\"balanced_accuracy\", cv = 5)\r\n",
        "\r\n",
        "cat_model.fit(X_train, y_train)"
      ],
      "outputs": [],
      "metadata": {
        "id": "pP3UsWAtrYwh"
      }
    },
    {
      "cell_type": "markdown",
      "source": [
        "# 5 Model implementation"
      ],
      "metadata": {
        "id": "qTn6bTay25w4"
      }
    },
    {
      "cell_type": "markdown",
      "source": [
        "## 5.1 Get + set best model configuration"
      ],
      "metadata": {
        "id": "10CPxErC3G4I"
      }
    },
    {
      "cell_type": "code",
      "execution_count": 10,
      "source": [
        "best_parameter = cat_model.best_params_\r\n",
        "print(best_parameter)\r\n",
        "cat_clf.set_params(**best_parameter)"
      ],
      "outputs": [
        {
          "output_type": "stream",
          "name": "stdout",
          "text": [
            "{'cb_clf__eval_metric': 'BalancedAccuracy', 'cb_clf__learning_rate': 0.03, 'cb_clf__objective': 'CrossEntropy'}\n"
          ]
        }
      ],
      "metadata": {
        "colab": {
          "base_uri": "https://localhost:8080/"
        },
        "id": "2eqZMSi1rciB",
        "outputId": "5d916b3a-3dd0-46db-ba78-5d9ea41473d3"
      }
    },
    {
      "cell_type": "markdown",
      "source": [
        "## 5.2 Model fit + predict"
      ],
      "metadata": {
        "id": "GdjhwyWW3VGI"
      }
    },
    {
      "cell_type": "code",
      "execution_count": null,
      "source": [
        "cat_clf.fit(X_train, y_train,\r\n",
        "                 cb_clf__eval_set = (X_validate, y_validate))\r\n",
        "\r\n",
        "\r\n",
        "y_test_pred_cat = cat_clf.predict(X_test)"
      ],
      "outputs": [],
      "metadata": {
        "id": "DtTNoMiWribB"
      }
    }
  ]
}