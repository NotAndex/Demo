{
  "nbformat": 4,
  "nbformat_minor": 0,
  "metadata": {
    "colab": {
      "name": "Anomaly_Detection.ipynb",
      "provenance": [],
      "authorship_tag": "ABX9TyMCVJCU++LIiRlB8jRnRjJN",
      "include_colab_link": true
    },
    "kernelspec": {
      "name": "python3",
      "display_name": "Python 3"
    },
    "language_info": {
      "name": "python"
    },
    "accelerator": "GPU"
  },
  "cells": [
    {
      "cell_type": "markdown",
      "metadata": {
        "id": "view-in-github",
        "colab_type": "text"
      },
      "source": [
        "<a href=\"https://colab.research.google.com/github/NotAndex/Demo/blob/main/Anomaly_Detection.ipynb\" target=\"_parent\"><img src=\"https://colab.research.google.com/assets/colab-badge.svg\" alt=\"Open In Colab\"/></a>"
      ]
    },
    {
      "cell_type": "markdown",
      "metadata": {
        "id": "lTsbcAzJz3dM"
      },
      "source": [
        "# 0 Anomaly (Fraud) Detection with autoencoder (work in progress)\n",
        "\n",
        "Inpired by:\n",
        "* the use-case of  [Credit Card Fraud Detection (Kaggle)](https://www.kaggle.com/mlg-ulb/creditcardfraud) on [TensorFlow](https://www.tensorflow.org/tutorials/structured_data/imbalanced_data#plot_the_auprc)\n",
        "* [Autoencoder](https://www.tensorflow.org/tutorials/generative/autoencoder) architecture proposed for Anomaly detection on TensorFlow.\n"
      ]
    },
    {
      "cell_type": "code",
      "metadata": {
        "id": "r4XOKbsjhqtk"
      },
      "source": [
        "import numpy as np\n",
        "import pandas as pd \n",
        "import tensorflow as tf\n",
        "\n",
        "import matplotlib.pyplot as plt\n",
        "import seaborn as sns\n",
        "sns.set(style='whitegrid', context='notebook')\n",
        "%matplotlib notebook\n",
        "\n",
        "import random as rn\n",
        "\n",
        "RANDOM_SEED = 33\n",
        "np.random.seed(RANDOM_SEED)\n",
        "rn.seed(RANDOM_SEED)\n",
        "tf.random.set_seed(RANDOM_SEED)"
      ],
      "execution_count": 1,
      "outputs": []
    },
    {
      "cell_type": "code",
      "metadata": {
        "colab": {
          "base_uri": "https://localhost:8080/"
        },
        "id": "_QLcncQAiKGk",
        "outputId": "b1147c4c-102b-4e63-f9b5-4e917c5c4e34"
      },
      "source": [
        "df = pd.read_csv('https://storage.googleapis.com/download.tensorflow.org/data/creditcard.csv')\n",
        "df.rename(columns={'Class': 'label'}, inplace=True)\n",
        "df['log10_amount'] = np.log10(df.Amount + 0.00001)\n",
        "\n",
        "print(f'Observations of fraud: {len(df.loc[df.label == 1])} == {format(len(df.loc[df.label == 1])/len(df)*100)}% of all observations: {len(df)}')\n"
      ],
      "execution_count": 2,
      "outputs": [
        {
          "output_type": "stream",
          "text": [
            "Observations of fraud: 492 == 0.1727485630620034% of all observations: 284807\n"
          ],
          "name": "stdout"
        }
      ]
    },
    {
      "cell_type": "code",
      "metadata": {
        "colab": {
          "base_uri": "https://localhost:8080/",
          "height": 318
        },
        "id": "Gyl_ngC3ppr5",
        "outputId": "adebc2dd-1608-4627-e8ce-6b1e6e28b49b"
      },
      "source": [
        "%matplotlib inline\n",
        "plt.hist(df['Amount'], bins=100)\n",
        "plt.title(\"Hist\")\n",
        "plt.xlabel(\"Amount\")\n",
        "plt.ylabel(\"freq\")"
      ],
      "execution_count": 3,
      "outputs": [
        {
          "output_type": "execute_result",
          "data": {
            "text/plain": [
              "Text(0, 0.5, 'freq')"
            ]
          },
          "metadata": {
            "tags": []
          },
          "execution_count": 3
        },
        {
          "output_type": "display_data",
          "data": {
            "image/png": "[encoded data removed]",
            "text/plain": [
              "<Figure size 432x288 with 1 Axes>"
            ]
          },
          "metadata": {
            "tags": [],
            "needs_background": "light"
          }
        }
      ]
    },
    {
      "cell_type": "code",
      "metadata": {
        "colab": {
          "base_uri": "https://localhost:8080/",
          "height": 318
        },
        "id": "vqQCIb81u5mS",
        "outputId": "14ad2170-4710-4282-c51f-beba8b9a98ac"
      },
      "source": [
        "plt.hist(df['log10_amount'], bins=100)\n",
        "plt.title(\"Hist\")\n",
        "plt.xlabel(\"log(Amount)\")\n",
        "plt.ylabel(\"freq\")"
      ],
      "execution_count": 4,
      "outputs": [
        {
          "output_type": "execute_result",
          "data": {
            "text/plain": [
              "Text(0, 0.5, 'freq')"
            ]
          },
          "metadata": {
            "tags": []
          },
          "execution_count": 4
        },
        {
          "output_type": "display_data",
          "data": {
            "image/png": "[encoded data removed]",
            "text/plain": [
              "<Figure size 432x288 with 1 Axes>"
            ]
          },
          "metadata": {
            "tags": [],
            "needs_background": "light"
          }
        }
      ]
    },
    {
      "cell_type": "code",
      "metadata": {
        "id": "UQ-oOdtuENBl"
      },
      "source": [
        "df = df.drop(['Time','Amount'],axis=1)\n",
        "\n",
        "fraud_df = df[df.label == 1]\n",
        "clean_df = df[df.label == 0]"
      ],
      "execution_count": 5,
      "outputs": []
    },
    {
      "cell_type": "code",
      "metadata": {
        "id": "9zksZdHEFNLV"
      },
      "source": [
        "len_df = len(df)\n",
        "len_train = int(len(df)*.7)\n",
        "\n",
        "clean_df = clean_df.sample(frac=1).reset_index(drop=True)\n",
        "\n",
        "X_train = clean_df.iloc[:len_train].drop('label', axis=1)\n",
        "\n",
        "# testing  set: the remaining non-fraud + all the fraud \n",
        "X_test = clean_df.iloc[len_train:].append(fraud_df).sample(frac=1)"
      ],
      "execution_count": 6,
      "outputs": []
    },
    {
      "cell_type": "code",
      "metadata": {
        "id": "3OsgLVUhFhbU"
      },
      "source": [
        "from sklearn.model_selection import train_test_split\n",
        "\n",
        "# train // validate - no labels since they're all clean anyway\n",
        "X_train, X_validate = train_test_split(X_train, \n",
        "                                       test_size=.2, \n",
        "                                       random_state=RANDOM_SEED)\n",
        "\n",
        "# manually splitting the labels from the test df\n",
        "X_test, y_test = X_test.drop('label', axis=1).values, X_test.label.values\n",
        "\n"
      ],
      "execution_count": 7,
      "outputs": []
    },
    {
      "cell_type": "code",
      "metadata": {
        "id": "UArIapMnIF19"
      },
      "source": [
        "from sklearn.preprocessing import Normalizer, MinMaxScaler\n",
        "from sklearn.pipeline import Pipeline\n",
        "\n",
        "# configure our pipeline\n",
        "pipeline = Pipeline([('normalizer', Normalizer()),\n",
        "                     ('scaler', MinMaxScaler())])"
      ],
      "execution_count": 8,
      "outputs": []
    },
    {
      "cell_type": "code",
      "metadata": {
        "colab": {
          "base_uri": "https://localhost:8080/"
        },
        "id": "iS1FBJPUIG_r",
        "outputId": "35ffbc93-778c-4776-b7c9-6ffe400a2a38"
      },
      "source": [
        "pipeline.fit(X_train)"
      ],
      "execution_count": 9,
      "outputs": [
        {
          "output_type": "execute_result",
          "data": {
            "text/plain": [
              "Pipeline(memory=None,\n",
              "         steps=[('normalizer', Normalizer(copy=True, norm='l2')),\n",
              "                ('scaler', MinMaxScaler(copy=True, feature_range=(0, 1)))],\n",
              "         verbose=False)"
            ]
          },
          "metadata": {
            "tags": []
          },
          "execution_count": 9
        }
      ]
    },
    {
      "cell_type": "code",
      "metadata": {
        "id": "NEG2BjiSKgAD"
      },
      "source": [
        "X_train_transformed = pipeline.transform(X_train)\n",
        "X_validate_transformed = pipeline.transform(X_validate)"
      ],
      "execution_count": 10,
      "outputs": []
    },
    {
      "cell_type": "code",
      "metadata": {
        "id": "YD-L77IuKmiz"
      },
      "source": [
        "# Load the extension and start TensorBoard\n",
        "#%tensorboard --logdir logs"
      ],
      "execution_count": 11,
      "outputs": []
    },
    {
      "cell_type": "code",
      "metadata": {
        "id": "sQq4m8c9K8sE"
      },
      "source": [
        "# data dimensions // hyperparameters \n",
        "input_dim = X_train_transformed.shape[1]\n",
        "BATCH_SIZE = 256\n",
        "EPOCHS = 100\n",
        "\n",
        "# https://keras.io/layers/core/\n",
        "autoencoder = tf.keras.models.Sequential([\n",
        "    \n",
        "    # deconstruct / encode\n",
        "    tf.keras.layers.Dense(input_dim, activation='elu', input_shape=(input_dim, )), \n",
        "    tf.keras.layers.Dense(16, activation='elu'),\n",
        "    tf.keras.layers.Dense(8, activation='elu'),\n",
        "    tf.keras.layers.Dense(4, activation='elu'),\n",
        "    tf.keras.layers.Dense(2, activation='elu'),\n",
        "    \n",
        "    # reconstruction / decode\n",
        "    tf.keras.layers.Dense(4, activation='elu'),\n",
        "    tf.keras.layers.Dense(8, activation='elu'),\n",
        "    tf.keras.layers.Dense(16, activation='elu'),\n",
        "    tf.keras.layers.Dense(input_dim, activation='elu')\n",
        "    \n",
        "])\n",
        "\n",
        "# https://keras.io/api/models/model_training_apis/\n",
        "autoencoder.compile(optimizer=\"adam\", \n",
        "                    loss=\"mse\",\n",
        "                    metrics=[\"acc\"])"
      ],
      "execution_count": 12,
      "outputs": []
    },
    {
      "cell_type": "code",
      "metadata": {
        "id": "w5atwANyLBha"
      },
      "source": [
        "from datetime import datetime\n",
        "\n",
        "# current date and time\n",
        "yyyymmddHHMM = datetime.now().strftime('%Y%m%d%H%M')\n",
        "\n",
        "# new folder for a new run\n",
        "log_subdir = f'{yyyymmddHHMM}_batch{BATCH_SIZE}_layers{len(autoencoder.layers)}'\n",
        "\n",
        "# define our early stopping\n",
        "early_stop = tf.keras.callbacks.EarlyStopping(\n",
        "    monitor='val_loss',\n",
        "    min_delta=0.0001,\n",
        "    patience=10,\n",
        "    verbose=1, \n",
        "    mode='min',\n",
        "    restore_best_weights=True\n",
        ")\n",
        "\n",
        "save_model = tf.keras.callbacks.ModelCheckpoint(\n",
        "    filepath='autoencoder_best_weights.hdf5',\n",
        "    save_best_only=True,\n",
        "    monitor='val_loss',\n",
        "    verbose=0,\n",
        "    mode='min'\n",
        ")\n",
        "\n",
        "tensorboard = tf.keras.callbacks.TensorBoard(\n",
        "    f'logs/{log_subdir}',\n",
        "    histogram_freq=1\n",
        ")\n",
        "\n",
        "# callbacks argument only takes a list\n",
        "cb = [early_stop, save_model, tensorboard]"
      ],
      "execution_count": 13,
      "outputs": []
    },
    {
      "cell_type": "code",
      "metadata": {
        "id": "wtCH6yk2LICC"
      },
      "source": [
        "history = autoencoder.fit(\n",
        "    X_train_transformed, X_train_transformed,\n",
        "    shuffle=True,\n",
        "    epochs=EPOCHS,\n",
        "    batch_size=BATCH_SIZE,\n",
        "    callbacks=cb,\n",
        "    validation_data=(X_validate_transformed, X_validate_transformed)\n",
        ")"
      ],
      "execution_count": null,
      "outputs": []
    },
    {
      "cell_type": "code",
      "metadata": {
        "id": "m6MUZhN1L_D0"
      },
      "source": [
        "# transform the test set with the pipeline fitted to the training set\n",
        "X_test_transformed = pipeline.transform(X_test)\n",
        "\n",
        "# pass the transformed test set through the autoencoder to get the reconstructed result\n",
        "reconstructions = autoencoder.predict(X_test_transformed)"
      ],
      "execution_count": 15,
      "outputs": []
    },
    {
      "cell_type": "code",
      "metadata": {
        "colab": {
          "base_uri": "https://localhost:8080/"
        },
        "id": "ejFLj5NaMRET",
        "outputId": "48954af9-5118-459c-ccb3-6b00242179fc"
      },
      "source": [
        "# calculating the mean squared error reconstruction loss per row in the numpy array\n",
        "mse = np.mean(np.power(X_test_transformed - reconstructions, 2), axis=1)\n",
        "print(mse)"
      ],
      "execution_count": 16,
      "outputs": [
        {
          "output_type": "stream",
          "text": [
            "[0.01754633 0.01352249 0.00338585 ... 0.01451256 0.00654141 0.01453154]\n"
          ],
          "name": "stdout"
        }
      ]
    },
    {
      "cell_type": "markdown",
      "metadata": {
        "id": "jfqLPAW3z1Y1"
      },
      "source": [
        ""
      ]
    },
    {
      "cell_type": "code",
      "metadata": {
        "colab": {
          "base_uri": "https://localhost:8080/",
          "height": 393
        },
        "id": "QB5RpRodMU5b",
        "outputId": "baddc077-6e24-43a4-9735-e2f8b15d6e84"
      },
      "source": [
        "clean = mse[y_test==0]\n",
        "fraud = mse[y_test==1]\n",
        "%matplotlib inline\n",
        "fig, ax = plt.subplots(figsize=(6,6))\n",
        "\n",
        "ax.hist(clean, bins=50, density=True, label=\"clean\", alpha=.6, color=\"green\")\n",
        "ax.hist(fraud, bins=50, density=True, label=\"fraud\", alpha=.6, color=\"red\")\n",
        "\n",
        "plt.title(\"(Normalized) Distribution of the Reconstruction Loss\")\n",
        "plt.legend()\n",
        "plt.show()\n"
      ],
      "execution_count": 17,
      "outputs": [
        {
          "output_type": "display_data",
          "data": {
            "image/png": "[encoded data removed]",
            "text/plain": [
              "<Figure size 432x432 with 1 Axes>"
            ]
          },
          "metadata": {
            "tags": [],
            "needs_background": "light"
          }
        }
      ]
    },
    {
      "cell_type": "code",
      "metadata": {
        "id": "HEQvHQ3XRQ-A"
      },
      "source": [
        "THRESHOLD = 3\n",
        "\n",
        "def mad_score(points):\n",
        "    \"\"\"https://www.itl.nist.gov/div898/handbook/eda/section3/eda35h.htm \"\"\"\n",
        "    m = np.median(points)\n",
        "    ad = np.abs(points - m)\n",
        "    mad = np.median(ad)\n",
        "    \n",
        "    return 0.6745 * ad / mad\n",
        "\n",
        "z_scores = mad_score(mse)\n",
        "outliers = z_scores > THRESHOLD"
      ],
      "execution_count": 18,
      "outputs": []
    },
    {
      "cell_type": "code",
      "metadata": {
        "id": "2iTp7mzvRg7z"
      },
      "source": [
        "from sklearn.metrics import (confusion_matrix, \n",
        "                             precision_recall_curve)\n",
        "\n",
        "# get (mis)classification\n",
        "cm = confusion_matrix(y_test, outliers)\n",
        "\n",
        "# true/false positives/negatives\n",
        "(tn, fp, \n",
        " fn, tp) = cm.flatten()"
      ],
      "execution_count": 19,
      "outputs": []
    },
    {
      "cell_type": "code",
      "metadata": {
        "colab": {
          "base_uri": "https://localhost:8080/"
        },
        "id": "hgXKUlycRlCy",
        "outputId": "421857c0-aefc-45e9-fe98-4d04911fc648"
      },
      "source": [
        "print(f\"\"\"The classifications using the MAD method with threshold={THRESHOLD} are as follows:\n",
        "{cm}\n",
        "\n",
        "% of transactions labeled as fraud that were correct (precision): {tp}/({fp}+{tp}) = {tp/(fp+tp):.2%}\n",
        "% of fraudulent transactions were caught succesfully (recall):    {tp}/({fn}+{tp}) = {tp/(fn+tp):.2%}\"\"\")"
      ],
      "execution_count": 20,
      "outputs": [
        {
          "output_type": "stream",
          "text": [
            "The classifications using the MAD method with threshold=3 are as follows:\n",
            "[[84034   917]\n",
            " [  145   347]]\n",
            "\n",
            "% of transactions labeled as fraud that were correct (precision): 347/(917+347) = 27.45%\n",
            "% of fraudulent transactions were caught succesfully (recall):    347/(145+347) = 70.53%\n"
          ],
          "name": "stdout"
        }
      ]
    },
    {
      "cell_type": "code",
      "metadata": {
        "colab": {
          "base_uri": "https://localhost:8080/",
          "height": 354
        },
        "id": "QRyoHNDDucyX",
        "outputId": "0541c4c5-dbf0-432f-f052-b1a9915db8b4"
      },
      "source": [
        "def plot_cm(labels, predictions, p=0.5):\n",
        "  cm = confusion_matrix(labels, predictions > p)\n",
        "  plt.figure(figsize=(5,5))\n",
        "  sns.heatmap(cm, annot=True, fmt=\"d\")\n",
        "  plt.title('Confusion matrix @{:.2f}'.format(p))\n",
        "  plt.ylabel('Actual label')\n",
        "  plt.xlabel('Predicted label')\n",
        "\n",
        "plot_cm(y_test,outliers)"
      ],
      "execution_count": 21,
      "outputs": [
        {
          "output_type": "display_data",
          "data": {
            "image/png": "[encoded data removed]",
            "text/plain": [
              "<Figure size 360x360 with 2 Axes>"
            ]
          },
          "metadata": {
            "tags": [],
            "needs_background": "light"
          }
        }
      ]
    },
    {
      "cell_type": "code",
      "metadata": {
        "colab": {
          "base_uri": "https://localhost:8080/",
          "height": 393
        },
        "id": "qvOdXGTTTLrq",
        "outputId": "414d245b-38ee-442c-dd04-a409b7b74990"
      },
      "source": [
        "clean = z_scores[y_test==0]\n",
        "fraud = z_scores[y_test==1]\n",
        "\n",
        "fig, ax = plt.subplots(figsize=(6,6))\n",
        "\n",
        "ax.hist(clean, bins=50, density=True, label=\"clean\", alpha=.6, color=\"green\")\n",
        "ax.hist(fraud, bins=50, density=True, label=\"fraud\", alpha=.6, color=\"red\")\n",
        "\n",
        "plt.title(\"Distribution of the modified z-scores\")\n",
        "plt.legend()\n",
        "plt.show()"
      ],
      "execution_count": 22,
      "outputs": [
        {
          "output_type": "display_data",
          "data": {
            "image/png": "[encoded data removed]",
            "text/plain": [
              "<Figure size 432x432 with 1 Axes>"
            ]
          },
          "metadata": {
            "tags": [],
            "needs_background": "light"
          }
        }
      ]
    }
  ]
}