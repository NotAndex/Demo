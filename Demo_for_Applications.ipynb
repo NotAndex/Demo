{
  "nbformat": 4,
  "nbformat_minor": 0,
  "metadata": {
    "colab": {
      "name": "Demo for Applications.ipynb",
      "provenance": [],
      "collapsed_sections": [],
      "authorship_tag": "ABX9TyOglTLCOOTBoHqHOhcP57My",
      "include_colab_link": true
    },
    "kernelspec": {
      "name": "python3",
      "display_name": "Python 3"
    },
    "language_info": {
      "name": "python"
    }
  },
  "cells": [
    {
      "cell_type": "markdown",
      "metadata": {
        "id": "view-in-github",
        "colab_type": "text"
      },
      "source": [
        "<a href=\"https://colab.research.google.com/github/NotAndex/Demo/blob/main/Demo_for_Applications.ipynb\" target=\"_parent\"><img src=\"https://colab.research.google.com/assets/colab-badge.svg\" alt=\"Open In Colab\"/></a>"
      ]
    },
    {
      "cell_type": "markdown",
      "metadata": {
        "id": "g3g40Hvhje8N"
      },
      "source": [
        "# 1 Setup"
      ]
    },
    {
      "cell_type": "code",
      "metadata": {
        "id": "1NQmMNSo5-vI"
      },
      "source": [
        "import os\n",
        "import datetime\n",
        "\n",
        "#download yfinance package\n",
        "!pip install yfinance\n",
        "import yfinance as yf\n",
        "import IPython\n",
        "import IPython.display\n",
        "import matplotlib as mpl\n",
        "import matplotlib.pyplot as plt\n",
        "import numpy as np\n",
        "import pandas as pd\n",
        "import seaborn as sns\n",
        "import tensorflow as tf\n",
        "\n",
        "mpl.rcParams['figure.figsize'] = (16, 9)\n",
        "mpl.rcParams['axes.grid'] = False"
      ],
      "execution_count": null,
      "outputs": []
    },
    {
      "cell_type": "markdown",
      "metadata": {
        "id": "AbwPepmqVMqX"
      },
      "source": [
        "#2 Data Mining / Web Scraping"
      ]
    },
    {
      "cell_type": "markdown",
      "metadata": {
        "id": "EqbpJzQ0jyb8"
      },
      "source": [
        "## 2.1 BTC-USD dataset\n",
        "\n",
        "This dataset contains..."
      ]
    },
    {
      "cell_type": "code",
      "metadata": {
        "id": "zWP9iIHO8rxs"
      },
      "source": [
        "today = datetime.date.today()\n",
        "start_date = today - datetime.timedelta(days=365*3)\n",
        "symbol = 'BTC-USD'\n",
        "\n",
        "cc_data = yf.download(symbol, start=start_date, end=today)\n",
        "cc_data.reset_index(inplace=True,col_fill=('Date'))\n"
      ],
      "execution_count": null,
      "outputs": []
    },
    {
      "cell_type": "code",
      "metadata": {
        "id": "zbApF2zpDYf1"
      },
      "source": [
        "fig1, ax1 = plt.subplots()\n",
        "ax1.yaxis.set_major_formatter(mpl.ticker.StrMethodFormatter('{x:,.0f}$'))\n",
        "ax1.plot(cc_data['Date'], cc_data['Close'],label = 'Close')\n",
        "ax1.set_title((f'{symbol} from {start_date} to {today}'), fontsize = 12)\n",
        "ax1.legend(fontsize=8)"
      ],
      "execution_count": null,
      "outputs": []
    },
    {
      "cell_type": "markdown",
      "metadata": {
        "id": "cKZv9YOym0Wt"
      },
      "source": [
        "# 3 Data Preprocessing"
      ]
    },
    {
      "cell_type": "markdown",
      "metadata": {
        "id": "1I2vShWrxtRt"
      },
      "source": [
        "## 3.1 Feature Enigneering\n",
        "...."
      ]
    },
    {
      "cell_type": "markdown",
      "metadata": {
        "id": "8nWsaAWKnhu9"
      },
      "source": [
        "## 3.2 Training, Validation, and Test Data Split"
      ]
    },
    {
      "cell_type": "code",
      "metadata": {
        "id": "76-BpeUfkpU0"
      },
      "source": [
        "data = cc_data.loc[:,['Close']]\n",
        "\n",
        "len_data = len(data)\n",
        "train_data = data[0:int(len_data*0.7)] # 70%\n",
        "val_data = data[int(len_data*0.7):int(len_data*0.9)] # 20%\n",
        "test_data = data[int(len_data*0.9):] # 10%\n"
      ],
      "execution_count": 4,
      "outputs": []
    },
    {
      "cell_type": "markdown",
      "metadata": {
        "id": "yKTqjlVZqpc9"
      },
      "source": [
        "## 3.3 Data Normalization\n"
      ]
    },
    {
      "cell_type": "code",
      "metadata": {
        "id": "HPbMO71bq3D6"
      },
      "source": [
        "train_data_mean = train_data.mean()\n",
        "train_data_std = train_data.std()\n",
        "\n",
        "train_data = (train_data - train_data_mean) / train_data_std\n",
        "val_data = (val_data - train_data_mean) / train_data_std\n",
        "test_data = (test_data - train_data_mean) / train_data_std"
      ],
      "execution_count": 5,
      "outputs": []
    },
    {
      "cell_type": "markdown",
      "metadata": {
        "id": "NaZzB5-CyGO9"
      },
      "source": [
        "## 3.4 Data Set Generator Pipeline"
      ]
    },
    {
      "cell_type": "markdown",
      "metadata": {
        "id": "uNsXnKvSL6Tl"
      },
      "source": [
        "### 3.4.1 Window Generator"
      ]
    },
    {
      "cell_type": "code",
      "metadata": {
        "id": "344kqYoVzVBE"
      },
      "source": [
        "class WindowGenerator():\n",
        "  def __init__(self, input_width, label_width, shift,\n",
        "               train_df, val_df, test_df, label_columns=None):\n",
        "    \n",
        "    # Store the raw data.\n",
        "    self.train_df = train_df\n",
        "    self.val_df = val_df\n",
        "    self.test_df = test_df\n",
        "\n",
        "    # Work out the label column indices.\n",
        "    self.label_columns = label_columns\n",
        "    if label_columns is not None:\n",
        "      self.label_columns_indices = {name: i for i, name in\n",
        "                                    enumerate(label_columns)}\n",
        "    self.column_indices = {name: i for i, name in\n",
        "                           enumerate(train_df.columns)}\n",
        "\n",
        "    # Work out the window parameters.\n",
        "    self.input_width = input_width\n",
        "    self.label_width = label_width\n",
        "    self.shift = shift\n",
        "\n",
        "    self.total_window_size = input_width + shift\n",
        "\n",
        "    self.input_slice = slice(0, input_width)\n",
        "    self.input_indices = np.arange(self.total_window_size)[self.input_slice]\n",
        "\n",
        "    self.label_start = self.total_window_size - self.label_width\n",
        "    self.labels_slice = slice(self.label_start, None)\n",
        "    self.label_indices = np.arange(self.total_window_size)[self.labels_slice]\n",
        "\n",
        "  def __repr__(self):\n",
        "    return '\\n'.join([\n",
        "        f'Total window size: {self.total_window_size}',\n",
        "        f'Input indices: {self.input_indices}',\n",
        "        f'Label indices: {self.label_indices}',\n",
        "        f'Label column name(s): {self.label_columns}'])"
      ],
      "execution_count": 6,
      "outputs": []
    },
    {
      "cell_type": "code",
      "metadata": {
        "id": "ZvzRaRXD0g9l"
      },
      "source": [
        "def split_window(self, features):\n",
        "  inputs = features[:, self.input_slice, :]\n",
        "  labels = features[:, self.labels_slice, :]\n",
        "  if self.label_columns is not None:\n",
        "    labels = tf.stack(\n",
        "        [labels[:, :, self.column_indices[name]] for name in self.label_columns],\n",
        "        axis=-1)\n",
        "\n",
        "  # Slicing doesn't preserve static shape information, so set the shapes\n",
        "  # manually. This way the `tf.data.Datasets` are easier to inspect.\n",
        "  inputs.set_shape([None, self.input_width, None])\n",
        "  labels.set_shape([None, self.label_width, None])\n",
        "\n",
        "  return inputs, labels\n",
        "\n",
        "WindowGenerator.split_window = split_window"
      ],
      "execution_count": 7,
      "outputs": []
    },
    {
      "cell_type": "code",
      "metadata": {
        "id": "lBiZAf_u1sIl"
      },
      "source": [
        "def plot(self, model=None, plot_col='Close', max_subplots=5):\n",
        "  inputs, labels = self.example\n",
        "  plt.figure(figsize=(12, 8))\n",
        "  plot_col_index = self.column_indices[plot_col]\n",
        "  max_n = min(max_subplots, len(inputs))\n",
        "  for n in range(max_n):\n",
        "    plt.subplot(max_n, 1, n+1)\n",
        "    plt.ylabel(f'{plot_col} [normed]')\n",
        "    plt.plot(self.input_indices, inputs[n, :, plot_col_index],\n",
        "             label='Inputs', marker='.', zorder=-10)\n",
        "\n",
        "    if self.label_columns:\n",
        "      label_col_index = self.label_columns_indices.get(plot_col, None)\n",
        "    else:\n",
        "      label_col_index = plot_col_index\n",
        "\n",
        "    if label_col_index is None:\n",
        "      continue\n",
        "\n",
        "    plt.scatter(self.label_indices, labels[n, :, label_col_index],\n",
        "                edgecolors='k', label='Labels', c='#2ca02c', s=64)\n",
        "    if model is not None:\n",
        "      predictions = model(inputs)\n",
        "      plt.scatter(self.label_indices, predictions[n, :, label_col_index],\n",
        "                  marker='X', edgecolors='k', label='Predictions',\n",
        "                  c='#ff7f0e', s=64)\n",
        "\n",
        "    if n == 0:\n",
        "      plt.legend()\n",
        "\n",
        "  plt.xlabel('Time [h]')\n",
        "\n",
        "WindowGenerator.plot = plot"
      ],
      "execution_count": 8,
      "outputs": []
    },
    {
      "cell_type": "code",
      "metadata": {
        "id": "KWLzV92c2H5j"
      },
      "source": [
        "def make_dataset(self, data):\n",
        "  data = np.array(data, dtype=np.float32)\n",
        "  ds = tf.keras.preprocessing.timeseries_dataset_from_array(\n",
        "      data=data,\n",
        "      targets=None,\n",
        "      sequence_length=self.total_window_size,\n",
        "      sequence_stride=1,\n",
        "      shuffle=False,\n",
        "      batch_size=32,)\n",
        "\n",
        "  ds = ds.map(self.split_window)\n",
        "\n",
        "  return ds\n",
        "\n",
        "WindowGenerator.make_dataset = make_dataset"
      ],
      "execution_count": 9,
      "outputs": []
    },
    {
      "cell_type": "code",
      "metadata": {
        "id": "ewDPrfTG2bqM"
      },
      "source": [
        "@property\n",
        "def train(self):\n",
        "  return self.make_dataset(self.train_df)\n",
        "\n",
        "@property\n",
        "def val(self):\n",
        "  return self.make_dataset(self.val_df)\n",
        "\n",
        "@property\n",
        "def test(self):\n",
        "  return self.make_dataset(self.test_df)\n",
        "\n",
        "@property\n",
        "def example(self):\n",
        "  \"\"\"Get and cache an example batch of `inputs, labels` for plotting.\"\"\"\n",
        "  result = getattr(self, '_example', None)\n",
        "  if result is None:\n",
        "    # No example batch was found, so get one from the `.train` dataset\n",
        "    result = next(iter(self.train))\n",
        "    # And cache it for next time\n",
        "    self._example = result\n",
        "  return result\n",
        "\n",
        "WindowGenerator.train = train\n",
        "WindowGenerator.val = val\n",
        "WindowGenerator.test = test\n",
        "WindowGenerator.example = example"
      ],
      "execution_count": 10,
      "outputs": []
    },
    {
      "cell_type": "markdown",
      "metadata": {
        "id": "o1CD7tAwOjUl"
      },
      "source": [
        "#4 Prediction Models\n"
      ]
    },
    {
      "cell_type": "markdown",
      "metadata": {
        "id": "QANqBIS6Poyz"
      },
      "source": [
        "Compile and Fit function"
      ]
    },
    {
      "cell_type": "code",
      "metadata": {
        "id": "HUNt4_unPUit"
      },
      "source": [
        "def compile_and_fit(model, window, patience=2):\n",
        "  early_stopping = tf.keras.callbacks.EarlyStopping(monitor='val_loss',\n",
        "                                                    patience=patience,\n",
        "                                                    mode='min')\n",
        "\n",
        "  model.compile(loss=tf.losses.MeanSquaredError(),\n",
        "                optimizer=tf.optimizers.Adam(),\n",
        "                metrics=[tf.metrics.MeanAbsoluteError()])\n",
        "\n",
        "  history = model.fit(window.train, epochs=20,\n",
        "                      validation_data=window.val,\n",
        "                      callbacks=[early_stopping])\n",
        "  return history"
      ],
      "execution_count": 11,
      "outputs": []
    },
    {
      "cell_type": "markdown",
      "metadata": {
        "id": "a2Dlojli2rmN"
      },
      "source": [
        "## 4.1 Univariate Input and Single Step Output Models"
      ]
    },
    {
      "cell_type": "code",
      "metadata": {
        "id": "LcJP7GX0Qx9b"
      },
      "source": [
        "val_performance = {}\n",
        "performance = {}"
      ],
      "execution_count": 12,
      "outputs": []
    },
    {
      "cell_type": "markdown",
      "metadata": {
        "id": "yqdSv4OxP8b9"
      },
      "source": [
        "### 4.1.1 LSTM"
      ]
    },
    {
      "cell_type": "markdown",
      "metadata": {
        "id": "NiViRcFwSlwN"
      },
      "source": [
        "#### 4.1.1.1 Model definition + compile and fit"
      ]
    },
    {
      "cell_type": "code",
      "metadata": {
        "id": "9rtu9V5h3JSr"
      },
      "source": [
        "wide_window = WindowGenerator(\n",
        "    input_width=50, label_width=50, shift=1,\n",
        "    train_df=train_data, val_df=val_data, test_df= test_data,\n",
        "    label_columns=['Close'])\n",
        "\n",
        "lstm_model = tf.keras.models.Sequential([\n",
        "    # Shape [batch, time, features] => [batch, time, lstm_units]\n",
        "    tf.keras.layers.LSTM(32, return_sequences=True),\n",
        "    # Shape => [batch, time, features]\n",
        "    tf.keras.layers.Dense(units=1)\n",
        "])\n",
        "\n",
        "history = compile_and_fit(lstm_model, wide_window)\n",
        "\n",
        "IPython.display.clear_output()"
      ],
      "execution_count": null,
      "outputs": []
    },
    {
      "cell_type": "markdown",
      "metadata": {
        "id": "c0vE3eUwTaY7"
      },
      "source": [
        "#### 4.1.1.2 Model Performance + Plot"
      ]
    },
    {
      "cell_type": "code",
      "metadata": {
        "colab": {
          "base_uri": "https://localhost:8080/",
          "height": 569
        },
        "id": "aNs-_qTB5-S5",
        "outputId": "0bdcfed2-d052-4808-a6da-55bceb325559"
      },
      "source": [
        "val_performance['LSTM'] = lstm_model.evaluate(wide_window.val)\n",
        "performance['LSTM']= lstm_model.evaluate( wide_window.test)\n",
        "print(performance)\n",
        "print(val_performance)\n",
        "\n",
        "wide_window.plot(lstm_model)"
      ],
      "execution_count": 14,
      "outputs": [
        {
          "output_type": "stream",
          "text": [
            "5/5 [==============================] - 0s 7ms/step - loss: 18.9508 - mean_absolute_error: 2.7213\n",
            "2/2 [==============================] - 0s 10ms/step - loss: 319.5062 - mean_absolute_error: 17.7290\n",
            "{'LSTM': [319.5062255859375, 17.728986740112305]}\n",
            "{'LSTM': [18.95083236694336, 2.7213048934936523]}\n"
          ],
          "name": "stdout"
        },
        {
          "output_type": "display_data",
          "data": {
            "image/png": "[encoded data removed]",
            "text/plain": [
              "<Figure size 864x576 with 5 Axes>"
            ]
          },
          "metadata": {
            "tags": [],
            "needs_background": "light"
          }
        }
      ]
    },
    {
      "cell_type": "markdown",
      "metadata": {
        "id": "G3OiCsCxNBrM"
      },
      "source": [
        "## 4.2 Univariate Input and Multi Step Output Models"
      ]
    }
  ]
}