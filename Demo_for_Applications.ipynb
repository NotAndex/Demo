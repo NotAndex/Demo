{
  "nbformat": 4,
  "nbformat_minor": 0,
  "metadata": {
    "colab": {
      "name": "Demo for Applications.ipynb",
      "provenance": [],
      "collapsed_sections": [],
      "authorship_tag": "ABX9TyN8Qal5SGjjB/0Vgc/h1jOm",
      "include_colab_link": true
    },
    "kernelspec": {
      "name": "python3",
      "display_name": "Python 3"
    },
    "language_info": {
      "name": "python"
    }
  },
  "cells": [
    {
      "cell_type": "markdown",
      "metadata": {
        "id": "view-in-github",
        "colab_type": "text"
      },
      "source": [
        "<a href=\"https://colab.research.google.com/github/NotAndex/Demo/blob/main/Demo_for_Applications.ipynb\" target=\"_parent\"><img src=\"https://colab.research.google.com/assets/colab-badge.svg\" alt=\"Open In Colab\"/></a>"
      ]
    },
    {
      "cell_type": "markdown",
      "metadata": {
        "id": "g3g40Hvhje8N"
      },
      "source": [
        "# 1 Setup"
      ]
    },
    {
      "cell_type": "code",
      "metadata": {
        "id": "1NQmMNSo5-vI"
      },
      "source": [
        "import os\n",
        "import datetime\n",
        "\n",
        "#download yfinance package\n",
        "!pip install yfinance\n",
        "import yfinance as yf\n",
        "import IPython\n",
        "import IPython.display\n",
        "import matplotlib as mpl\n",
        "import matplotlib.pyplot as plt\n",
        "import numpy as np\n",
        "import pandas as pd\n",
        "import seaborn as sns\n",
        "import tensorflow as tf\n",
        "\n",
        "mpl.rcParams['figure.figsize'] = (12, 8)\n",
        "mpl.rcParams['axes.grid'] = False"
      ],
      "execution_count": null,
      "outputs": []
    },
    {
      "cell_type": "markdown",
      "metadata": {
        "id": "EqbpJzQ0jyb8"
      },
      "source": [
        "# 2 BTC-USD dataset\n",
        "\n",
        "This dataset contains..."
      ]
    },
    {
      "cell_type": "code",
      "metadata": {
        "id": "zWP9iIHO8rxs"
      },
      "source": [
        "today = datetime.date.today()\n",
        "start_date = today - datetime.timedelta(days=365)\n",
        "symbol = 'BTC-USD'\n",
        "\n",
        "cc_data = yf.download(symbol, start=start_date, end=today)\n",
        "cc_data.reset_index(inplace=True,col_fill=('Date'))\n",
        "cc_data.head()"
      ],
      "execution_count": null,
      "outputs": []
    },
    {
      "cell_type": "code",
      "metadata": {
        "id": "zbApF2zpDYf1"
      },
      "source": [
        "fig1, ax1 = plt.subplots()\n",
        "ax1.yaxis.set_major_formatter(mpl.ticker.StrMethodFormatter('{x:,.0f}$'))\n",
        "ax1.plot(cc_data['Date'], cc_data['Close'],label = 'Close')\n",
        "ax1.set_title((f'{symbol} from {start_date} to {today}'), fontsize = 12)\n",
        "ax1.legend(fontsize=8)"
      ],
      "execution_count": null,
      "outputs": []
    },
    {
      "cell_type": "markdown",
      "metadata": {
        "id": "cKZv9YOym0Wt"
      },
      "source": [
        "# 3 Data Preprocessing"
      ]
    },
    {
      "cell_type": "markdown",
      "metadata": {
        "id": "8nWsaAWKnhu9"
      },
      "source": [
        "## 3.1 Data Split"
      ]
    },
    {
      "cell_type": "code",
      "metadata": {
        "id": "76-BpeUfkpU0"
      },
      "source": [
        "data = cc_data.loc[:,['Close']]\n",
        "\n",
        "len_data = len(data)\n",
        "train_data = data[0:int(len_data*0.7)] # 70%\n",
        "val_data = data[int(len_data*0.7):int(len_data*0.9)] # 20%\n",
        "test_data = data[int(len_data*0.9):] # 10%\n"
      ],
      "execution_count": 32,
      "outputs": []
    },
    {
      "cell_type": "markdown",
      "metadata": {
        "id": "yKTqjlVZqpc9"
      },
      "source": [
        "## 3.2 Data Normalization\n"
      ]
    },
    {
      "cell_type": "code",
      "metadata": {
        "id": "HPbMO71bq3D6"
      },
      "source": [
        "train_data_mean = train_data.mean()\n",
        "train_data_std = train_data.std()\n",
        "\n",
        "train_data = (train_data - train_data_mean) / train_data_std\n",
        "val_data = (val_data - train_data_mean) / train_data_std\n",
        "test_data = (test_data - train_data_mean) / train_data_std"
      ],
      "execution_count": null,
      "outputs": []
    }
  ]
}