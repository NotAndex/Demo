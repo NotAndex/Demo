{
  "nbformat": 4,
  "nbformat_minor": 0,
  "metadata": {
    "colab": {
      "name": "Demo for Applications.ipynb",
      "provenance": [],
      "collapsed_sections": [],
      "authorship_tag": "ABX9TyMOHJSORWA1vi0v9MBlqrfr",
      "include_colab_link": true
    },
    "kernelspec": {
      "name": "python3",
      "display_name": "Python 3"
    },
    "language_info": {
      "name": "python"
    }
  },
  "cells": [
    {
      "cell_type": "markdown",
      "metadata": {
        "id": "view-in-github",
        "colab_type": "text"
      },
      "source": [
        "<a href=\"https://colab.research.google.com/github/NotAndex/Demo/blob/main/Demo_for_Applications.ipynb\" target=\"_parent\"><img src=\"https://colab.research.google.com/assets/colab-badge.svg\" alt=\"Open In Colab\"/></a>"
      ]
    },
    {
      "cell_type": "code",
      "metadata": {
        "id": "1NQmMNSo5-vI"
      },
      "source": [
        "import numpy as np\n",
        "import pandas as pd\n",
        "import yfinance as yf\n",
        "import matplotlib.pyplot as plt\n",
        "import matplotlib as mpl\n",
        "\n",
        "import plotly.graph_objects as go\n",
        "\n",
        "from datetime import datetime, timedelta\n",
        "\n",
        "from sklearn import preprocessing\n",
        "from scipy.stats import spearmanr\n",
        "import seaborn as sb"
      ],
      "execution_count": null,
      "outputs": []
    },
    {
      "cell_type": "code",
      "metadata": {
        "colab": {
          "base_uri": "https://localhost:8080/",
          "height": 221
        },
        "id": "zWP9iIHO8rxs",
        "outputId": "5fff43d8-4c26-4b25-cf9f-462f067dc2c7"
      },
      "source": [
        "today = datetime.today().date()\n",
        "start_date = today - timedelta(days=365)\n",
        "symbol = 'BTC-USD'\n",
        "\n",
        "cc_data = yf.download(symbol, start=start_date, end=today)\n",
        "cc_data.reset_index(inplace=True,col_fill=('Date'))\n",
        "cc_data.head()"
      ],
      "execution_count": null,
      "outputs": [
        {
          "output_type": "stream",
          "text": [
            "\r[*********************100%***********************]  1 of 1 completed\n"
          ],
          "name": "stdout"
        },
        {
          "output_type": "execute_result",
          "data": {
            "text/html": [
              "<div>\n",
              "<style scoped>\n",
              "    .dataframe tbody tr th:only-of-type {\n",
              "        vertical-align: middle;\n",
              "    }\n",
              "\n",
              "    .dataframe tbody tr th {\n",
              "        vertical-align: top;\n",
              "    }\n",
              "\n",
              "    .dataframe thead th {\n",
              "        text-align: right;\n",
              "    }\n",
              "</style>\n",
              "<table border=\"1\" class=\"dataframe\">\n",
              "  <thead>\n",
              "    <tr style=\"text-align: right;\">\n",
              "      <th></th>\n",
              "      <th>Date</th>\n",
              "      <th>Open</th>\n",
              "      <th>High</th>\n",
              "      <th>Low</th>\n",
              "      <th>Close</th>\n",
              "      <th>Adj Close</th>\n",
              "      <th>Volume</th>\n",
              "    </tr>\n",
              "  </thead>\n",
              "  <tbody>\n",
              "    <tr>\n",
              "      <th>0</th>\n",
              "      <td>2020-05-29</td>\n",
              "      <td>9528.355469</td>\n",
              "      <td>9573.666992</td>\n",
              "      <td>9379.338867</td>\n",
              "      <td>9439.124023</td>\n",
              "      <td>9439.124023</td>\n",
              "      <td>32896642044</td>\n",
              "    </tr>\n",
              "    <tr>\n",
              "      <th>1</th>\n",
              "      <td>2020-05-30</td>\n",
              "      <td>9438.914062</td>\n",
              "      <td>9704.030273</td>\n",
              "      <td>9366.729492</td>\n",
              "      <td>9700.414062</td>\n",
              "      <td>9700.414062</td>\n",
              "      <td>32722975141</td>\n",
              "    </tr>\n",
              "    <tr>\n",
              "      <th>2</th>\n",
              "      <td>2020-05-31</td>\n",
              "      <td>9700.105469</td>\n",
              "      <td>9700.343750</td>\n",
              "      <td>9432.296875</td>\n",
              "      <td>9461.058594</td>\n",
              "      <td>9461.058594</td>\n",
              "      <td>27773290299</td>\n",
              "    </tr>\n",
              "    <tr>\n",
              "      <th>3</th>\n",
              "      <td>2020-06-01</td>\n",
              "      <td>9463.605469</td>\n",
              "      <td>10199.565430</td>\n",
              "      <td>9450.899414</td>\n",
              "      <td>10167.268555</td>\n",
              "      <td>10167.268555</td>\n",
              "      <td>35198901068</td>\n",
              "    </tr>\n",
              "    <tr>\n",
              "      <th>4</th>\n",
              "      <td>2020-06-02</td>\n",
              "      <td>10162.973633</td>\n",
              "      <td>10182.340820</td>\n",
              "      <td>9460.571289</td>\n",
              "      <td>9529.803711</td>\n",
              "      <td>9529.803711</td>\n",
              "      <td>39137252109</td>\n",
              "    </tr>\n",
              "  </tbody>\n",
              "</table>\n",
              "</div>"
            ],
            "text/plain": [
              "        Date          Open  ...     Adj Close       Volume\n",
              "0 2020-05-29   9528.355469  ...   9439.124023  32896642044\n",
              "1 2020-05-30   9438.914062  ...   9700.414062  32722975141\n",
              "2 2020-05-31   9700.105469  ...   9461.058594  27773290299\n",
              "3 2020-06-01   9463.605469  ...  10167.268555  35198901068\n",
              "4 2020-06-02  10162.973633  ...   9529.803711  39137252109\n",
              "\n",
              "[5 rows x 7 columns]"
            ]
          },
          "metadata": {
            "tags": []
          },
          "execution_count": 48
        }
      ]
    },
    {
      "cell_type": "code",
      "metadata": {
        "colab": {
          "base_uri": "https://localhost:8080/",
          "height": 298
        },
        "id": "zbApF2zpDYf1",
        "outputId": "5f3aac71-a498-48a3-f9dd-df4b44c4ec7e"
      },
      "source": [
        "fig1, ax1 = plt.subplots()\n",
        "ax1.yaxis.set_major_formatter(mpl.ticker.StrMethodFormatter('{x:,.0f}$'))\n",
        "ax1.plot(cc_data['Date'], cc_data['Close'],label = 'Close')\n",
        "ax1.set_title((f'{symbol} from {start_date} to {today}'), fontsize = 12)\n",
        "ax1.legend(fontsize=8)"
      ],
      "execution_count": null,
      "outputs": [
        {
          "output_type": "execute_result",
          "data": {
            "text/plain": [
              "<matplotlib.legend.Legend at 0x7fe512e82790>"
            ]
          },
          "metadata": {
            "tags": []
          },
          "execution_count": 49
        },
        {
          "output_type": "display_data",
          "data": {
            "image/png": "[encoded data removed]",
            "text/plain": [
              "<Figure size 432x288 with 1 Axes>"
            ]
          },
          "metadata": {
            "tags": [],
            "needs_background": "light"
          }
        }
      ]
    },
    {
      "cell_type": "code",
      "metadata": {
        "id": "VsOVe11AHtxD"
      },
      "source": [
        "fig1 = go.Figure(data=[go.Candlestick(x=cc_data['Date'],\n",
        "                open = cc_data['Open'],\n",
        "                high = cc_data['High'],\n",
        "                low = cc_data['Low'],\n",
        "                close = cc_data['Close'])])\n",
        "fig1"
      ],
      "execution_count": null,
      "outputs": []
    }
  ]
}