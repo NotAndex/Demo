{
  "nbformat": 4,
  "nbformat_minor": 0,
  "metadata": {
    "colab": {
      "name": "timeSeriesFeatures.ipynb",
      "provenance": [],
      "authorship_tag": "ABX9TyM79qT1QooSnZujlBgxxTZE",
      "include_colab_link": true
    },
    "kernelspec": {
      "name": "python3",
      "display_name": "Python 3"
    },
    "language_info": {
      "name": "python"
    }
  },
  "cells": [
    {
      "cell_type": "markdown",
      "metadata": {
        "id": "view-in-github",
        "colab_type": "text"
      },
      "source": [
        "<a href=\"https://colab.research.google.com/github/NotAndex/Demo/blob/main/timeSeriesFeatures.ipynb\" target=\"_parent\"><img src=\"https://colab.research.google.com/assets/colab-badge.svg\" alt=\"Open In Colab\"/></a>"
      ]
    },
    {
      "cell_type": "code",
      "metadata": {
        "id": "cOrtINXZgxA5"
      },
      "source": [
        "import numpy as np\n",
        "import pandas as pd\n",
        "from sklearn.preprocessing import LabelEncoder\n",
        "from sklearn.preprocessing import OneHotEncoder"
      ],
      "execution_count": 1,
      "outputs": []
    },
    {
      "cell_type": "code",
      "metadata": {
        "id": "3QWiHXI9hQpb"
      },
      "source": [
        "def addTimeFeatures(data):\n",
        "    \n",
        "    data['Date'] = pd.to_datetime(data['Date'])\n",
        "    data['year']    = data['Date'].dt.year\n",
        "    data['quarter'] = data['Date'].dt.quarter\n",
        "    data['month']   = data['Date'].dt.month\n",
        "    label_encoder   = LabelEncoder()\n",
        "    data = pd.concat([data,pd.DataFrame(to_categorical(label_encoder.fit_transform(data['month'])))],axis=1)\n",
        "    data['day']     = data['Date'].dt.day\n",
        "    data['wday']    = data['Date'].dt.dayofweek\n",
        "    data = pd.concat([data,pd.DataFrame(to_categorical(data['wday']),columns=[\"Monday\",\"Tuesday\",\"Wednesday\",\"Thursday\",\"Friday\"])],axis=1)\n",
        "    \n",
        "    data = data.drop('Date',1) \n",
        "\n",
        "    cols = list(data)\n",
        "    cols.insert(0, cols.pop(cols.index('Close')))\n",
        "    data = data.loc[:, cols]\n",
        "    \n",
        "    return(data)"
      ],
      "execution_count": 2,
      "outputs": []
    },
    {
      "cell_type": "code",
      "metadata": {
        "id": "lzPDhEvIhjOi"
      },
      "source": [
        "def addSMAFeature(data, colName, window_size):\n",
        "    data[f'{colName} {window_size}d_sma'] = data[colName].rolling(window=window_size, min_periods=1).mean()\n",
        "    return(data)\n",
        "\n",
        "def addEMAFeature(data, colName, alpha):\n",
        "    data[f'{colName} {alpha}_ema'] = data[colName].ewm(alpha=alpha, adjust=False).mean()\n",
        "    return(data)\n",
        "\n",
        "def addLagFeature(data, colName, lag):\n",
        "    data[f'{colName} t-{lag}'] = data[colName].shift(lag).fillna(0)\n",
        "    return(data)\n"
      ],
      "execution_count": 3,
      "outputs": []
    }
  ]
}