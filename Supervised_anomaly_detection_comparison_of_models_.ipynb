{
  "nbformat": 4,
  "nbformat_minor": 0,
  "metadata": {
    "colab": {
      "name": "Supervised_anomaly_detection_comparison_of_models .ipynb",
      "provenance": [],
      "collapsed_sections": [
        "F93JOUPBh2-d"
      ],
      "toc_visible": true,
      "authorship_tag": "ABX9TyM1IEYpNa7AbiQuV6LhBqQ3",
      "include_colab_link": true
    },
    "kernelspec": {
      "name": "python3",
      "display_name": "Python 3"
    },
    "language_info": {
      "name": "python"
    },
    "accelerator": "GPU"
  },
  "cells": [
    {
      "cell_type": "markdown",
      "metadata": {
        "id": "view-in-github",
        "colab_type": "text"
      },
      "source": [
        "<a href=\"https://colab.research.google.com/github/NotAndex/Demo/blob/main/Supervised_anomaly_detection_comparison_of_models_.ipynb\" target=\"_parent\"><img src=\"https://colab.research.google.com/assets/colab-badge.svg\" alt=\"Open In Colab\"/></a>"
      ]
    },
    {
      "cell_type": "code",
      "metadata": {
        "id": "eS4mc8qGgx1M"
      },
      "source": [
        "import pandas as pd\n",
        "import numpy as np\n",
        "\n",
        "\n",
        "%matplotlib inline\n",
        "import matplotlib as mpl\n",
        "import matplotlib.pyplot as plt\n",
        "import seaborn as sns\n",
        "\n",
        "import sklearn\n",
        "from sklearn.model_selection import train_test_split\n",
        "from sklearn.metrics import accuracy_score, confusion_matrix, classification_report, f1_score, precision_recall_curve\n",
        "from sklearn.preprocessing import Normalizer, MinMaxScaler\n",
        "from sklearn.pipeline import Pipeline\n",
        "\n",
        "#Models\n",
        "import tensorflow as tf\n",
        "from xgboost import XGBClassifier\n",
        "!pip install catboost\n",
        "from catboost import CatBoostClassifier\n",
        "!pip install lightgbm\n",
        "from lightgbm import LGBMClassifier\n",
        "\n",
        "#\n",
        "!pip install keras-tuner\n",
        "import keras_tuner as kt\n",
        "\n",
        "import IPython.display\n",
        "IPython.display.clear_output()\n",
        "\n",
        "colors = plt.rcParams['axes.prop_cycle'].by_key()['color']\n",
        "mpl.rcParams['figure.figsize'] = (16, 9)"
      ],
      "execution_count": 19,
      "outputs": []
    },
    {
      "cell_type": "markdown",
      "metadata": {
        "id": "q3sMP0w1hp4U"
      },
      "source": [
        "# Pre-Processing"
      ]
    },
    {
      "cell_type": "code",
      "metadata": {
        "id": "um1uRqsIhcbi"
      },
      "source": [
        "df = pd.read_csv('https://storage.googleapis.com/download.tensorflow.org/data/creditcard.csv')\n",
        "\n",
        "df.rename(columns={'Class':'label'}, inplace=True)\n",
        "df['log10_amount'] = np.log10(df.Amount + 0.00001)\n",
        "df = df.drop(['Time','Amount'],axis=1)\n",
        "\n",
        "X = df.drop('label', axis=1)\n",
        "y = df.label\n",
        "\n",
        "X_train, X_test, y_train, y_test = \\\n",
        "    train_test_split(X, y, test_size=0.3, random_state=42)\n",
        "    \n",
        "X_train, X_validate, y_train, y_validate = \\\n",
        "    train_test_split(X_train, y_train, test_size=0.2, random_state=42)\n",
        "   \n",
        "pipeline = Pipeline([('normalizer', Normalizer()),\n",
        "                     ('scaler', MinMaxScaler())])\n",
        "\n",
        "pipeline.fit(X_train)\n",
        "\n",
        "X_train_transformed = pipeline.transform(X_train)\n",
        "X_validate_transformed = pipeline.transform(X_validate)\n",
        "X_test_transformed = pipeline.transform(X_test)\n",
        "      \n",
        "fraud_weight = len(y_train[y_train == 1]) / len(y_train)\n",
        "no_fraud_weight = len(y_train[y_train == 0]) / len(y_train)"
      ],
      "execution_count": 2,
      "outputs": []
    },
    {
      "cell_type": "markdown",
      "metadata": {
        "id": "F93JOUPBh2-d"
      },
      "source": [
        "# Convenience Functions\n"
      ]
    },
    {
      "cell_type": "code",
      "metadata": {
        "id": "PuymvD8riGjs"
      },
      "source": [
        "def print_score(label, prediction, train=True):\n",
        "    if train:\n",
        "        clf_report = pd.DataFrame(classification_report(label, prediction, output_dict=True))\n",
        "        print(\"Train Result:\\n================================================\")\n",
        "        print(f\"Accuracy Score: {accuracy_score(label, prediction) * 100:.2f}%\")\n",
        "        print(\"_______________________________________________\")\n",
        "        print(f\"Classification Report:\\n{clf_report}\")\n",
        "        print(\"_______________________________________________\")\n",
        "        print(f\"Confusion Matrix: \\n {confusion_matrix(y_train, prediction)}\\n\")\n",
        "        \n",
        "    elif train==False:\n",
        "        clf_report = pd.DataFrame(classification_report(label, prediction, output_dict=True))\n",
        "        print(\"Test Result:\\n================================================\")        \n",
        "        print(f\"Accuracy Score: {accuracy_score(label, prediction) * 100:.2f}%\")\n",
        "        print(\"_______________________________________________\")\n",
        "        print(f\"Classification Report:\\n{clf_report}\")\n",
        "        print(\"_______________________________________________\")\n",
        "        print(f\"Confusion Matrix: \\n {confusion_matrix(label, prediction)}\\n\")\n",
        "\n",
        "def plot_metrics(history):\n",
        "  colors = plt.rcParams['axes.prop_cycle'].by_key()['color']\n",
        "  metrics = ['loss', 'aucpr', 'precision', 'recall']\n",
        "  for n, metric in enumerate(metrics):\n",
        "    name = metric.replace(\"_\",\" \").capitalize()\n",
        "    plt.subplot(2,2,n+1)\n",
        "    plt.plot(history.epoch, history.history[metric], color=colors[0], label='Train')\n",
        "    plt.plot(history.epoch, history.history['val_'+metric],\n",
        "             color=colors[0], linestyle=\"--\", label='Val')\n",
        "    plt.xlabel('Epoch')\n",
        "    plt.ylabel(name)\n",
        "    if metric == 'loss':\n",
        "      plt.ylim([0, plt.ylim()[1]])\n",
        "    elif metric == 'auc':\n",
        "      plt.ylim([0.8,1])\n",
        "    else:\n",
        "      plt.ylim([0,1])\n",
        "    plt.legend()\n",
        "\n",
        "def aucpr(labels, predictions):\n",
        "    precision, recall, _ = sklearn.metrics.precision_recall_curve(labels, predictions)\n",
        "    return(sklearn.metrics.auc(recall, precision))\n",
        "\n",
        "def plot_prc(name, labels, predictions, **kwargs):\n",
        "    precision, recall, _ = sklearn.metrics.precision_recall_curve(labels, predictions)\n",
        "    \n",
        "    plt.plot(precision, recall, label=name, linewidth=2, **kwargs)\n",
        "    plt.xlabel('Recall')\n",
        "    plt.ylabel('Precision')\n",
        "    plt.grid(True)\n",
        "    ax = plt.gca()\n",
        "    ax.set_aspect('equal')"
      ],
      "execution_count": 3,
      "outputs": []
    },
    {
      "cell_type": "markdown",
      "metadata": {
        "id": "gw5pfXCNiLdF"
      },
      "source": [
        "# Models"
      ]
    },
    {
      "cell_type": "markdown",
      "metadata": {
        "id": "AoUqpPNHiSWl"
      },
      "source": [
        "## ANN"
      ]
    },
    {
      "cell_type": "markdown",
      "metadata": {
        "id": "Ps7n9f3aGwbz"
      },
      "source": [
        "### Hyperparameter Tuning\n",
        "\n",
        "This section shows an exemplary implementation of Hyperparameter Tuning with keras_tuner. The parameters below are deterministic because only the output of the tuner should be emphasized.  "
      ]
    },
    {
      "cell_type": "code",
      "metadata": {
        "id": "eB3x-g0mT0l1",
        "colab": {
          "base_uri": "https://localhost:8080/"
        },
        "outputId": "fe3aa92d-af14-494a-f560-13a13945eca5"
      },
      "source": [
        "def model_builder(hp):\n",
        "    model = tf.keras.Sequential()\n",
        "  \n",
        "    first_l_units = hp.Int('first_l_units', min_value=256, max_value=256, step = 128)\n",
        "    second_l_units = hp.Int('second_l_units', min_value=256, max_value=256, step = 128)\n",
        "    third_l_units = hp.Int('third_l_units', min_value=256, max_value=256, step = 128)\n",
        "\n",
        "    model.add(tf.keras.layers.Dense(first_l_units, activation='relu', input_shape=(X_train.shape[-1],)))\n",
        "    model.add(tf.keras.layers.BatchNormalization())\n",
        "    model.add(tf.keras.layers.Dropout(0.3))\n",
        "    \n",
        "    model.add(tf.keras.layers.Dense(second_l_units, activation='relu'))\n",
        "    model.add(tf.keras.layers.BatchNormalization())\n",
        "    model.add(tf.keras.layers.Dropout(0.3))\n",
        "    model.add(tf.keras.layers.Dense(third_l_units, activation='relu'))\n",
        "    model.add(tf.keras.layers.BatchNormalization())\n",
        "    model.add(tf.keras.layers.Dropout(0.3))\n",
        "    \n",
        "    model.add(tf.keras.layers.Dense(1, activation='sigmoid'))\n",
        "    \n",
        "    METRICS = [\n",
        "    tf.keras.metrics.BinaryAccuracy(name='accuracy'),\n",
        "    tf.keras.metrics.FalseNegatives(name='fn'),\n",
        "    tf.keras.metrics.FalsePositives(name='fp'),\n",
        "    tf.keras.metrics.TrueNegatives(name='tn'),\n",
        "    tf.keras.metrics.TruePositives(name='tp'),\n",
        "    tf.keras.metrics.Precision(name='precision'),\n",
        "    tf.keras.metrics.Recall(name='recall'),\n",
        "    tf.keras.metrics.AUC(name='auc'),\n",
        "    tf.keras.metrics.AUC(name='aucpr', curve='PR'), # precision-recall curve\n",
        "    ]\n",
        "    \n",
        "    \n",
        "    model.compile(optimizer=tf.keras.optimizers.Adam(1e-3),\n",
        "              loss='binary_crossentropy', metrics=METRICS)\n",
        "    \n",
        "    return model\n",
        "\n",
        "\n",
        "\n",
        "\n",
        "tuner = kt.RandomSearch(model_builder,\n",
        "                     objective= kt.Objective('val_aucpr', direction=\"max\"),\n",
        "                     max_trials = 10,\n",
        "                     directory='my_dir',\n",
        "                     project_name='intro_to_kt'\n",
        "                     )\n",
        "\n",
        "early_stop = tf.keras.callbacks.EarlyStopping(\n",
        "    monitor='val_aucpr',\n",
        "    patience=10,\n",
        "    verbose=1, \n",
        "    mode='max',\n",
        "    restore_best_weights=True\n",
        ")      \n",
        "\n",
        "tuner.search(X_train, y_train,\n",
        "             validation_data=(X_validate, y_validate),\n",
        "             batch_size=2048, \n",
        "             epochs=100,\n",
        "             callbacks=[early_stop])"
      ],
      "execution_count": 4,
      "outputs": [
        {
          "output_type": "stream",
          "text": [
            "Trial 1 Complete [00h 01m 06s]\n",
            "val_aucpr: 0.8177209496498108\n",
            "\n",
            "Best val_aucpr So Far: 0.8177209496498108\n",
            "Total elapsed time: 00h 01m 06s\n",
            "INFO:tensorflow:Oracle triggered exit\n"
          ],
          "name": "stdout"
        }
      ]
    },
    {
      "cell_type": "markdown",
      "metadata": {
        "id": "TTFmkIZ3QjGo"
      },
      "source": [
        "Here you can see the output (the best hyperparameters) of the Hyperparameter tuning. Because we didn’t allow a range of parameters, the output is deterministic. -> model equals the nn_model defined below. "
      ]
    },
    {
      "cell_type": "code",
      "metadata": {
        "colab": {
          "base_uri": "https://localhost:8080/"
        },
        "id": "GoanpXGjITND",
        "outputId": "ebae2c4d-634e-470c-d047-187d0ef4d39e"
      },
      "source": [
        "best_hps=tuner.get_best_hyperparameters(num_trials=1)[0]\n",
        "model = tuner.hypermodel.build(best_hps)\n",
        "model.summary()"
      ],
      "execution_count": 5,
      "outputs": [
        {
          "output_type": "stream",
          "text": [
            "Model: \"sequential\"\n",
            "_________________________________________________________________\n",
            "Layer (type)                 Output Shape              Param #   \n",
            "=================================================================\n",
            "dense (Dense)                (None, 256)               7680      \n",
            "_________________________________________________________________\n",
            "batch_normalization (BatchNo (None, 256)               1024      \n",
            "_________________________________________________________________\n",
            "dropout (Dropout)            (None, 256)               0         \n",
            "_________________________________________________________________\n",
            "dense_1 (Dense)              (None, 256)               65792     \n",
            "_________________________________________________________________\n",
            "batch_normalization_1 (Batch (None, 256)               1024      \n",
            "_________________________________________________________________\n",
            "dropout_1 (Dropout)          (None, 256)               0         \n",
            "_________________________________________________________________\n",
            "dense_2 (Dense)              (None, 256)               65792     \n",
            "_________________________________________________________________\n",
            "batch_normalization_2 (Batch (None, 256)               1024      \n",
            "_________________________________________________________________\n",
            "dropout_2 (Dropout)          (None, 256)               0         \n",
            "_________________________________________________________________\n",
            "dense_3 (Dense)              (None, 1)                 257       \n",
            "=================================================================\n",
            "Total params: 142,593\n",
            "Trainable params: 141,057\n",
            "Non-trainable params: 1,536\n",
            "_________________________________________________________________\n"
          ],
          "name": "stdout"
        }
      ]
    },
    {
      "cell_type": "code",
      "metadata": {
        "id": "UxcU38WziVo1"
      },
      "source": [
        "nn_model = tf.keras.Sequential([\n",
        "    tf.keras.layers.Dense(256, activation='relu', input_shape=(X_train.shape[-1],)),\n",
        "    tf.keras.layers.BatchNormalization(),\n",
        "    tf.keras.layers.Dropout(0.3),\n",
        "    tf.keras.layers.Dense(256, activation='relu'),\n",
        "    tf.keras.layers.BatchNormalization(),\n",
        "    tf.keras.layers.Dropout(0.3),\n",
        "    tf.keras.layers.Dense(256, activation='relu'),\n",
        "    tf.keras.layers.BatchNormalization(),\n",
        "    tf.keras.layers.Dropout(0.3),\n",
        "    tf.keras.layers.Dense(1, activation='sigmoid'),\n",
        "])\n",
        "\n",
        "METRICS = [\n",
        "    tf.keras.metrics.BinaryAccuracy(name='accuracy'),\n",
        "    tf.keras.metrics.FalseNegatives(name='fn'),\n",
        "    tf.keras.metrics.FalsePositives(name='fp'),\n",
        "    tf.keras.metrics.TrueNegatives(name='tn'),\n",
        "    tf.keras.metrics.TruePositives(name='tp'),\n",
        "    tf.keras.metrics.Precision(name='precision'),\n",
        "    tf.keras.metrics.Recall(name='recall'),\n",
        "    tf.keras.metrics.AUC(name='auc'),\n",
        "    tf.keras.metrics.AUC(name='aucpr', curve='PR'), # precision-recall curve\n",
        "]\n",
        "\n",
        "nn_model.compile(optimizer=tf.keras.optimizers.Adam(1e-3),loss='binary_crossentropy', metrics=METRICS)\n",
        "\n",
        "early_stop = tf.keras.callbacks.EarlyStopping(\n",
        "    monitor='val_aucpr',\n",
        "    patience=10,\n",
        "    verbose=1, \n",
        "    mode='max',\n",
        "    restore_best_weights=True\n",
        ")\n",
        "\n",
        "save_model = tf.keras.callbacks.ModelCheckpoint(\n",
        "    filepath='Neural_net_best_weights.hdf5',\n",
        "    save_best_only=True,\n",
        "    monitor='val_aucpr',\n",
        "    verbose=0,\n",
        "    mode='max'\n",
        ")\n",
        "\n",
        "cb = [early_stop,save_model]\n",
        "\n",
        "nn_model_history = nn_model.fit(\n",
        "    X_train, y_train, \n",
        "    validation_data=(X_validate, y_validate),\n",
        "    batch_size=2048, \n",
        "    epochs=100, \n",
        "#   class_weight=class_weight,\n",
        "    callbacks=cb\n",
        ")\n",
        "\n",
        "IPython.display.clear_output()"
      ],
      "execution_count": 6,
      "outputs": []
    },
    {
      "cell_type": "code",
      "metadata": {
        "colab": {
          "base_uri": "https://localhost:8080/",
          "height": 609
        },
        "id": "MqkTvnvIjBRP",
        "outputId": "28378664-f4f4-49b3-c292-9b507aaed355"
      },
      "source": [
        "nn_model_score = nn_model.evaluate(X_test, y_test)\n",
        "plot_metrics(nn_model_history)\n",
        "print(nn_model_score)"
      ],
      "execution_count": 20,
      "outputs": [
        {
          "output_type": "stream",
          "text": [
            "2671/2671 [==============================] - 19s 7ms/step - loss: 0.0026 - accuracy: 0.9995 - fn: 29.0000 - fp: 10.0000 - tn: 85297.0000 - tp: 107.0000 - precision: 0.9145 - recall: 0.7868 - auc: 0.9446 - aucpr: 0.8405\n",
            "[0.0025721031706780195, 0.9995435476303101, 29.0, 10.0, 85297.0, 107.0, 0.9145299196243286, 0.7867646813392639, 0.9445655345916748, 0.8405065536499023]\n"
          ],
          "name": "stdout"
        },
        {
          "output_type": "display_data",
          "data": {
            "image/png": "[encoded data removed]",
            "text/plain": [
              "<Figure size 1152x648 with 4 Axes>"
            ]
          },
          "metadata": {
            "tags": [],
            "needs_background": "light"
          }
        }
      ]
    },
    {
      "cell_type": "code",
      "metadata": {
        "colab": {
          "base_uri": "https://localhost:8080/"
        },
        "id": "4amUhyrSnOb-",
        "outputId": "3af87f78-8613-4aaf-f503-7b344a7b5e6b"
      },
      "source": [
        "y_train_pred_nn = nn_model.predict(X_train)\n",
        "y_test_pred_nn = nn_model.predict(X_test)\n",
        "\n",
        "print_score(y_train, y_train_pred_nn.round(), train=True)\n",
        "print_score(y_test, y_test_pred_nn.round(), train=False)\n",
        "\n",
        "scores = pd.DataFrame()\n",
        "scores['NN'] = aucpr(y_train, y_train_pred_nn), aucpr(y_test, y_test_pred_nn)\n",
        "scores = scores.rename(index={0:'train',1:'test'})"
      ],
      "execution_count": 8,
      "outputs": [
        {
          "output_type": "stream",
          "text": [
            "Train Result:\n",
            "================================================\n",
            "Accuracy Score: 99.96%\n",
            "_______________________________________________\n",
            "Classification Report:\n",
            "                       0           1  accuracy      macro avg   weighted avg\n",
            "precision       0.999648    0.982979  0.999624       0.991314       0.999618\n",
            "recall          0.999975    0.804878  0.999624       0.902426       0.999624\n",
            "f1-score        0.999812    0.885057  0.999624       0.942435       0.999605\n",
            "support    159204.000000  287.000000  0.999624  159491.000000  159491.000000\n",
            "_______________________________________________\n",
            "Confusion Matrix: \n",
            " [[159200      4]\n",
            " [    56    231]]\n",
            "\n",
            "Test Result:\n",
            "================================================\n",
            "Accuracy Score: 99.95%\n",
            "_______________________________________________\n",
            "Classification Report:\n",
            "                      0           1  accuracy     macro avg  weighted avg\n",
            "precision      0.999660    0.914530  0.999544      0.957095      0.999525\n",
            "recall         0.999883    0.786765  0.999544      0.893324      0.999544\n",
            "f1-score       0.999771    0.845850  0.999544      0.922811      0.999526\n",
            "support    85307.000000  136.000000  0.999544  85443.000000  85443.000000\n",
            "_______________________________________________\n",
            "Confusion Matrix: \n",
            " [[85297    10]\n",
            " [   29   107]]\n",
            "\n"
          ],
          "name": "stdout"
        }
      ]
    },
    {
      "cell_type": "markdown",
      "metadata": {
        "id": "5erA9w2zj1qn"
      },
      "source": [
        "## XGBoost"
      ]
    },
    {
      "cell_type": "code",
      "metadata": {
        "id": "43fUiylgjTFO"
      },
      "source": [
        "xgb_clf = XGBClassifier()\n",
        "xgb_clf.fit(X_train, y_train,\n",
        "            eval_set=[(X_validate, y_validate)],\n",
        "            eval_metric=['aucpr'], verbose=True)\n",
        "\n",
        "IPython.display.clear_output()"
      ],
      "execution_count": 9,
      "outputs": []
    },
    {
      "cell_type": "code",
      "metadata": {
        "colab": {
          "base_uri": "https://localhost:8080/"
        },
        "id": "14fDzK5goOPW",
        "outputId": "920ec3f9-5655-45b7-8252-3803ce8ac47a"
      },
      "source": [
        "y_train_pred_xgb = xgb_clf.predict(X_train)\n",
        "y_test_pred_xgb = xgb_clf.predict(X_test)\n",
        "\n",
        "print_score(y_train, y_train_pred_xgb, train=True)\n",
        "print_score(y_test, y_test_pred_xgb, train=False)\n",
        "\n",
        "scores['XGB'] = aucpr(y_train, y_train_pred_xgb), aucpr(y_test, y_test_pred_xgb)"
      ],
      "execution_count": 10,
      "outputs": [
        {
          "output_type": "stream",
          "text": [
            "Train Result:\n",
            "================================================\n",
            "Accuracy Score: 99.97%\n",
            "_______________________________________________\n",
            "Classification Report:\n",
            "                       0           1  accuracy      macro avg   weighted avg\n",
            "precision       0.999705    0.979592  0.999674       0.989648       0.999669\n",
            "recall          0.999969    0.836237  0.999674       0.918103       0.999674\n",
            "f1-score        0.999837    0.902256  0.999674       0.951046       0.999661\n",
            "support    159204.000000  287.000000  0.999674  159491.000000  159491.000000\n",
            "_______________________________________________\n",
            "Confusion Matrix: \n",
            " [[159199      5]\n",
            " [    47    240]]\n",
            "\n",
            "Test Result:\n",
            "================================================\n",
            "Accuracy Score: 99.96%\n",
            "_______________________________________________\n",
            "Classification Report:\n",
            "                      0           1  accuracy     macro avg  weighted avg\n",
            "precision      0.999730    0.941667  0.999649      0.970699      0.999638\n",
            "recall         0.999918    0.830882  0.999649      0.915400      0.999649\n",
            "f1-score       0.999824    0.882813  0.999649      0.941318      0.999638\n",
            "support    85307.000000  136.000000  0.999649  85443.000000  85443.000000\n",
            "_______________________________________________\n",
            "Confusion Matrix: \n",
            " [[85300     7]\n",
            " [   23   113]]\n",
            "\n"
          ],
          "name": "stdout"
        }
      ]
    },
    {
      "cell_type": "markdown",
      "metadata": {
        "id": "ce9dVEfqkJWQ"
      },
      "source": [
        "## CatBoost"
      ]
    },
    {
      "cell_type": "code",
      "metadata": {
        "id": "yHwp9h0jQcyB"
      },
      "source": [
        "cb_clf = CatBoostClassifier(objective='CrossEntropy', eval_metric=\"BalancedAccuracy\")\n",
        "\n",
        "cb_clf.fit(X_train, y_train,\n",
        "            eval_set=(X_validate, y_validate),\n",
        "            verbose=True)\n",
        "\n",
        "y_train_pred_cb = cb_clf.predict(X_train, prediction_type='Probability')\n",
        "y_test_pred_cb = cb_clf.predict(X_test, prediction_type='Probability')\n",
        "\n",
        "scores['CB'] = aucpr(y_train, y_train_pred_cb[:,1]), aucpr(y_test, y_test_pred_cb[:,1])\n",
        "\n",
        "IPython.display.clear_output()"
      ],
      "execution_count": 12,
      "outputs": []
    },
    {
      "cell_type": "code",
      "metadata": {
        "colab": {
          "base_uri": "https://localhost:8080/"
        },
        "id": "JZe8ueb_GPB2",
        "outputId": "e829386b-bd4e-4c97-a4a3-7253f27d5abe"
      },
      "source": [
        "print_score(y_train, y_train_pred_cb[:,1].round(), train=True)\n",
        "print_score(y_test, y_test_pred_cb[:,1].round(), train=False)"
      ],
      "execution_count": 13,
      "outputs": [
        {
          "output_type": "stream",
          "text": [
            "Train Result:\n",
            "================================================\n",
            "Accuracy Score: 99.97%\n",
            "_______________________________________________\n",
            "Classification Report:\n",
            "                       0           1  accuracy      macro avg   weighted avg\n",
            "precision       0.999686    0.983402  0.999661       0.991544       0.999657\n",
            "recall          0.999975    0.825784  0.999661       0.912879       0.999661\n",
            "f1-score        0.999830    0.897727  0.999661       0.948779       0.999647\n",
            "support    159204.000000  287.000000  0.999661  159491.000000  159491.000000\n",
            "_______________________________________________\n",
            "Confusion Matrix: \n",
            " [[159200      4]\n",
            " [    50    237]]\n",
            "\n",
            "Test Result:\n",
            "================================================\n",
            "Accuracy Score: 99.96%\n",
            "_______________________________________________\n",
            "Classification Report:\n",
            "                      0           1  accuracy     macro avg  weighted avg\n",
            "precision      0.999695    0.948276  0.999625      0.973986      0.999613\n",
            "recall         0.999930    0.808824  0.999625      0.904377      0.999625\n",
            "f1-score       0.999812    0.873016  0.999625      0.936414      0.999611\n",
            "support    85307.000000  136.000000  0.999625  85443.000000  85443.000000\n",
            "_______________________________________________\n",
            "Confusion Matrix: \n",
            " [[85301     6]\n",
            " [   26   110]]\n",
            "\n"
          ],
          "name": "stdout"
        }
      ]
    },
    {
      "cell_type": "markdown",
      "metadata": {
        "id": "WQC5lGdkk3Tm"
      },
      "source": [
        "## LightGBM"
      ]
    },
    {
      "cell_type": "code",
      "metadata": {
        "id": "WgA1HoMYs2ky",
        "colab": {
          "base_uri": "https://localhost:8080/"
        },
        "outputId": "b9103600-9a98-4e3d-b966-9bbb067f423e"
      },
      "source": [
        "lgbm_clf = LGBMClassifier()\n",
        "\n",
        "lgbm_clf.fit(X_train, y_train,\n",
        "            eval_set=(X_validate, y_validate),verbose=False)\n",
        "\n",
        "\n",
        "y_train_pred_lgbm = lgbm_clf.predict(X_train)\n",
        "y_test_pred_lgbm = lgbm_clf.predict(X_test)\n",
        "\n",
        "print_score(y_train, y_train_pred_lgbm, train=True)\n",
        "print_score(y_test, y_test_pred_lgbm, train=False)\n",
        "scores['lgbm'] = aucpr(y_train, y_train_pred_lgbm), aucpr(y_test, y_test_pred_lgbm)\n",
        "\n"
      ],
      "execution_count": 14,
      "outputs": [
        {
          "output_type": "stream",
          "text": [
            "Train Result:\n",
            "================================================\n",
            "Accuracy Score: 99.85%\n",
            "_______________________________________________\n",
            "Classification Report:\n",
            "                       0           1  accuracy      macro avg   weighted avg\n",
            "precision       0.999554    0.562500  0.998501       0.781027       0.998767\n",
            "recall          0.998945    0.752613  0.998501       0.875779       0.998501\n",
            "f1-score        0.999249    0.643815  0.998501       0.821532       0.998610\n",
            "support    159204.000000  287.000000  0.998501  159491.000000  159491.000000\n",
            "_______________________________________________\n",
            "Confusion Matrix: \n",
            " [[159036    168]\n",
            " [    71    216]]\n",
            "\n",
            "Test Result:\n",
            "================================================\n",
            "Accuracy Score: 99.67%\n",
            "_______________________________________________\n",
            "Classification Report:\n",
            "                      0           1  accuracy     macro avg  weighted avg\n",
            "precision      0.999565    0.288630  0.996711      0.644097      0.998434\n",
            "recall         0.997140    0.727941  0.996711      0.862540      0.996711\n",
            "f1-score       0.998351    0.413361  0.996711      0.705856      0.997420\n",
            "support    85307.000000  136.000000  0.996711  85443.000000  85443.000000\n",
            "_______________________________________________\n",
            "Confusion Matrix: \n",
            " [[85063   244]\n",
            " [   37    99]]\n",
            "\n"
          ],
          "name": "stdout"
        }
      ]
    },
    {
      "cell_type": "markdown",
      "metadata": {
        "id": "0E_o7CZBlKge"
      },
      "source": [
        "# Model Comparison"
      ]
    },
    {
      "cell_type": "code",
      "metadata": {
        "colab": {
          "base_uri": "https://localhost:8080/",
          "height": 111
        },
        "id": "UWgGTdiup9vV",
        "outputId": "290c4818-429a-47f6-c84a-522a784fb385"
      },
      "source": [
        "scores"
      ],
      "execution_count": 15,
      "outputs": [
        {
          "output_type": "execute_result",
          "data": {
            "text/html": [
              "<div>\n",
              "<style scoped>\n",
              "    .dataframe tbody tr th:only-of-type {\n",
              "        vertical-align: middle;\n",
              "    }\n",
              "\n",
              "    .dataframe tbody tr th {\n",
              "        vertical-align: top;\n",
              "    }\n",
              "\n",
              "    .dataframe thead th {\n",
              "        text-align: right;\n",
              "    }\n",
              "</style>\n",
              "<table border=\"1\" class=\"dataframe\">\n",
              "  <thead>\n",
              "    <tr style=\"text-align: right;\">\n",
              "      <th></th>\n",
              "      <th>NN</th>\n",
              "      <th>XGB</th>\n",
              "      <th>CB</th>\n",
              "      <th>lgbm</th>\n",
              "    </tr>\n",
              "  </thead>\n",
              "  <tbody>\n",
              "    <tr>\n",
              "      <th>train</th>\n",
              "      <td>0.939179</td>\n",
              "      <td>0.908062</td>\n",
              "      <td>0.877852</td>\n",
              "      <td>0.657779</td>\n",
              "    </tr>\n",
              "    <tr>\n",
              "      <th>test</th>\n",
              "      <td>0.858281</td>\n",
              "      <td>0.886409</td>\n",
              "      <td>0.866722</td>\n",
              "      <td>0.508502</td>\n",
              "    </tr>\n",
              "  </tbody>\n",
              "</table>\n",
              "</div>"
            ],
            "text/plain": [
              "             NN       XGB        CB      lgbm\n",
              "train  0.939179  0.908062  0.877852  0.657779\n",
              "test   0.858281  0.886409  0.866722  0.508502"
            ]
          },
          "metadata": {
            "tags": []
          },
          "execution_count": 15
        }
      ]
    },
    {
      "cell_type": "code",
      "metadata": {
        "colab": {
          "base_uri": "https://localhost:8080/",
          "height": 568
        },
        "id": "EyGasFeCl7kV",
        "outputId": "f0d7fc24-2007-45d0-976a-17612f376524"
      },
      "source": [
        "plot_prc(f\"Train NN AUC({scores.loc['train','NN']:.3})\", y_train, y_train_pred_nn, color=colors[0])\n",
        "plot_prc(f\"Test NN AUC({scores.loc['test','NN']:.3})\", y_test, y_test_pred_nn, color=colors[0], linestyle='--')\n",
        "plot_prc(f\"Train XGB AUC({scores.loc['train','XGB']:.3})\", y_train, y_train_pred_xgb, color=colors[1])\n",
        "plot_prc(f\"Test XGB AUC({scores.loc['test','XGB']:.3})\", y_test, y_test_pred_xgb, color=colors[1], linestyle='--')\n",
        "plot_prc(f\"Train CB AUC({scores.loc['train','CB']:.3})\", y_train, y_train_pred_cb[:,1], color=colors[2])\n",
        "plot_prc(f\"Test CB AUC({scores.loc['test','CB']:.3})\", y_test, y_test_pred_cb[:,1], color=colors[2], linestyle='--')\n",
        "plot_prc(f\"Train LGBM AUC({scores.loc['train','lgbm']:.3})\", y_train, y_train_pred_lgbm, color=colors[3])\n",
        "plot_prc(f\"Test LGBM AUC({scores.loc['test','lgbm']:.3})\", y_test, y_test_pred_lgbm, color=colors[3], linestyle='--')\n",
        "plt.legend(loc='lower right')"
      ],
      "execution_count": 21,
      "outputs": [
        {
          "output_type": "execute_result",
          "data": {
            "text/plain": [
              "<matplotlib.legend.Legend at 0x7f66a3a99510>"
            ]
          },
          "metadata": {
            "tags": []
          },
          "execution_count": 21
        },
        {
          "output_type": "display_data",
          "data": {
            "image/png": "[encoded data removed]",
            "text/plain": [
              "<Figure size 1152x648 with 1 Axes>"
            ]
          },
          "metadata": {
            "tags": [],
            "needs_background": "light"
          }
        }
      ]
    },
    {
      "cell_type": "markdown",
      "metadata": {
        "id": "Lq4d7dKCSLov"
      },
      "source": [
        "# Further experimentation\n",
        "\n",
        "**Hyperparameter tuning for parameters shown below**\n",
        "\n",
        "<style type=\"text/css\">\n",
        ".tg  {border-collapse:collapse;border-color:#9ABAD9;border-spacing:0;}\n",
        ".tg td{background-color:#EBF5FF;border-color:#9ABAD9;border-style:solid;border-width:1px;color:#444;\n",
        "  font-family:Arial, sans-serif;font-size:14px;overflow:hidden;padding:10px 5px;word-break:normal;}\n",
        ".tg th{background-color:#409cff;border-color:#9ABAD9;border-style:solid;border-width:1px;color:#fff;\n",
        "  font-family:Arial, sans-serif;font-size:14px;font-weight:normal;overflow:hidden;padding:10px 5px;word-break:normal;}\n",
        ".tg .tg-0pky{border-color:inherit;text-align:left;vertical-align:top}\n",
        ".tg .tg-f8tv{border-color:inherit;font-style:italic;text-align:left;vertical-align:top}\n",
        "</style>\n",
        "<table class=\"tg\">\n",
        "<thead>\n",
        "  <tr>\n",
        "    <th class=\"tg-0pky\">Function</th>\n",
        "    <th class=\"tg-0pky\">XGBoost</th>\n",
        "    <th class=\"tg-0pky\">CatBoost</th>\n",
        "    <th class=\"tg-0pky\">LightGBM</th>\n",
        "  </tr>\n",
        "</thead>\n",
        "<tbody>\n",
        "  <tr>\n",
        "    <td class=\"tg-f8tv\">Parameters<br>to control<br>overfitting</td>\n",
        "    <td class=\"tg-0pky\">1. learning_rate <br>2. max_depth<br>3. min_child_weight</td>\n",
        "    <td class=\"tg-0pky\">1. Learning_rate <br>2. Depth<br>3. l2-leaf-reg</td>\n",
        "    <td class=\"tg-0pky\">1. learning_rate<br>2. max_depth<br>3. min_data_in_leaf</td>\n",
        "  </tr>\n",
        "  <tr>\n",
        "    <td class=\"tg-f8tv\">Parameters for<br>cat values</td>\n",
        "    <td class=\"tg-0pky\">NA</td>\n",
        "    <td class=\"tg-0pky\">1. cat_features<br>2. one_hot_max_size</td>\n",
        "    <td class=\"tg-0pky\">1. categorical_feature</td>\n",
        "  </tr>\n",
        "  <tr>\n",
        "    <td class=\"tg-f8tv\">Parameters for<br>speed</td>\n",
        "    <td class=\"tg-0pky\">...</td>\n",
        "    <td class=\"tg-0pky\">...</td>\n",
        "    <td class=\"tg-0pky\">...</td>\n",
        "  </tr>\n",
        "</tbody>\n",
        "</table>\n",
        "\n",
        "\n",
        "\n",
        "\n",
        "\n",
        "\n",
        "\n",
        "\n",
        "\n",
        "\n"
      ]
    }
  ]
}