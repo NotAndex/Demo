{
  "nbformat": 4,
  "nbformat_minor": 0,
  "metadata": {
    "colab": {
      "name": "Supervised_anomaly_detection_comparison_of_models .ipynb",
      "provenance": [],
      "collapsed_sections": [
        "F93JOUPBh2-d"
      ],
      "toc_visible": true,
      "authorship_tag": "ABX9TyOehgHNHTKUCyWyPCD57QJk",
      "include_colab_link": true
    },
    "kernelspec": {
      "name": "python3",
      "display_name": "Python 3"
    },
    "language_info": {
      "name": "python"
    },
    "accelerator": "GPU"
  },
  "cells": [
    {
      "cell_type": "markdown",
      "metadata": {
        "id": "view-in-github",
        "colab_type": "text"
      },
      "source": [
        "<a href=\"https://colab.research.google.com/github/NotAndex/Demo/blob/main/Supervised_anomaly_detection_comparison_of_models_.ipynb\" target=\"_parent\"><img src=\"https://colab.research.google.com/assets/colab-badge.svg\" alt=\"Open In Colab\"/></a>"
      ]
    },
    {
      "cell_type": "code",
      "metadata": {
        "id": "eS4mc8qGgx1M"
      },
      "source": [
        "import pandas as pd\n",
        "import numpy as np\n",
        "\n",
        "\n",
        "%matplotlib inline\n",
        "import matplotlib as mpl\n",
        "import matplotlib.pyplot as plt\n",
        "import seaborn as sns\n",
        "\n",
        "import sklearn\n",
        "from sklearn.model_selection import train_test_split\n",
        "from sklearn.metrics import accuracy_score, confusion_matrix, classification_report, f1_score, precision_recall_curve\n",
        "from sklearn.preprocessing import Normalizer, MinMaxScaler\n",
        "from sklearn.pipeline import Pipeline\n",
        "\n",
        "#Models\n",
        "import tensorflow as tf\n",
        "from xgboost import XGBClassifier\n",
        "!pip install catboost\n",
        "from catboost import CatBoostClassifier\n",
        "\n",
        "#\n",
        "!pip install keras-tuner\n",
        "import keras_tuner as kt\n",
        "\n",
        "import IPython.display\n",
        "IPython.display.clear_output()\n",
        "\n",
        "colors = plt.rcParams['axes.prop_cycle'].by_key()['color']\n",
        "mpl.rcParams['figure.figsize'] = (16, 9)"
      ],
      "execution_count": 13,
      "outputs": []
    },
    {
      "cell_type": "markdown",
      "metadata": {
        "id": "q3sMP0w1hp4U"
      },
      "source": [
        "# Pre-Processing"
      ]
    },
    {
      "cell_type": "code",
      "metadata": {
        "id": "um1uRqsIhcbi"
      },
      "source": [
        "df = pd.read_csv('https://storage.googleapis.com/download.tensorflow.org/data/creditcard.csv')\n",
        "\n",
        "df.rename(columns={'Class':'label'}, inplace=True)\n",
        "df['log10_amount'] = np.log10(df.Amount + 0.00001)\n",
        "df = df.drop(['Time','Amount'],axis=1)\n",
        "\n",
        "X = df.drop('label', axis=1)\n",
        "y = df.label\n",
        "\n",
        "X_train, X_test, y_train, y_test = \\\n",
        "    train_test_split(X, y, test_size=0.3, random_state=42)\n",
        "    \n",
        "X_train, X_validate, y_train, y_validate = \\\n",
        "    train_test_split(X_train, y_train, test_size=0.2, random_state=42)\n",
        "   \n",
        "pipeline = Pipeline([('normalizer', Normalizer()),\n",
        "                     ('scaler', MinMaxScaler())])\n",
        "\n",
        "pipeline.fit(X_train)\n",
        "\n",
        "X_train_transformed = pipeline.transform(X_train)\n",
        "X_validate_transformed = pipeline.transform(X_validate)\n",
        "X_test_transformed = pipeline.transform(X_test)\n",
        "      \n",
        "fraud_weight = len(y_train[y_train == 1]) / len(y_train)\n",
        "no_fraud_weight = len(y_train[y_train == 0]) / len(y_train)"
      ],
      "execution_count": 2,
      "outputs": []
    },
    {
      "cell_type": "markdown",
      "metadata": {
        "id": "F93JOUPBh2-d"
      },
      "source": [
        "# Convenience Functions\n"
      ]
    },
    {
      "cell_type": "code",
      "metadata": {
        "id": "PuymvD8riGjs"
      },
      "source": [
        "def print_score(label, prediction, train=True):\n",
        "    if train:\n",
        "        clf_report = pd.DataFrame(classification_report(label, prediction, output_dict=True))\n",
        "        print(\"Train Result:\\n================================================\")\n",
        "        print(f\"Accuracy Score: {accuracy_score(label, prediction) * 100:.2f}%\")\n",
        "        print(\"_______________________________________________\")\n",
        "        print(f\"Classification Report:\\n{clf_report}\")\n",
        "        print(\"_______________________________________________\")\n",
        "        print(f\"Confusion Matrix: \\n {confusion_matrix(y_train, prediction)}\\n\")\n",
        "        \n",
        "    elif train==False:\n",
        "        clf_report = pd.DataFrame(classification_report(label, prediction, output_dict=True))\n",
        "        print(\"Test Result:\\n================================================\")        \n",
        "        print(f\"Accuracy Score: {accuracy_score(label, prediction) * 100:.2f}%\")\n",
        "        print(\"_______________________________________________\")\n",
        "        print(f\"Classification Report:\\n{clf_report}\")\n",
        "        print(\"_______________________________________________\")\n",
        "        print(f\"Confusion Matrix: \\n {confusion_matrix(label, prediction)}\\n\")\n",
        "\n",
        "def plot_metrics(history):\n",
        "  colors = plt.rcParams['axes.prop_cycle'].by_key()['color']\n",
        "  metrics = ['loss', 'aucpr', 'precision', 'recall']\n",
        "  for n, metric in enumerate(metrics):\n",
        "    name = metric.replace(\"_\",\" \").capitalize()\n",
        "    plt.subplot(2,2,n+1)\n",
        "    plt.plot(history.epoch, history.history[metric], color=colors[0], label='Train')\n",
        "    plt.plot(history.epoch, history.history['val_'+metric],\n",
        "             color=colors[0], linestyle=\"--\", label='Val')\n",
        "    plt.xlabel('Epoch')\n",
        "    plt.ylabel(name)\n",
        "    if metric == 'loss':\n",
        "      plt.ylim([0, plt.ylim()[1]])\n",
        "    elif metric == 'auc':\n",
        "      plt.ylim([0.8,1])\n",
        "    else:\n",
        "      plt.ylim([0,1])\n",
        "    plt.legend()\n",
        "\n",
        "def aucpr(labels, predictions):\n",
        "    precision, recall, _ = sklearn.metrics.precision_recall_curve(labels, predictions)\n",
        "    return(sklearn.metrics.auc(recall, precision))\n",
        "\n",
        "def plot_prc(name, labels, predictions, **kwargs):\n",
        "    precision, recall, _ = sklearn.metrics.precision_recall_curve(labels, predictions)\n",
        "    \n",
        "    plt.plot(precision, recall, label=name, linewidth=2, **kwargs)\n",
        "    plt.xlabel('Recall')\n",
        "    plt.ylabel('Precision')\n",
        "    plt.grid(True)\n",
        "    ax = plt.gca()\n",
        "    ax.set_aspect('equal')"
      ],
      "execution_count": 3,
      "outputs": []
    },
    {
      "cell_type": "markdown",
      "metadata": {
        "id": "gw5pfXCNiLdF"
      },
      "source": [
        "# Models"
      ]
    },
    {
      "cell_type": "markdown",
      "metadata": {
        "id": "AoUqpPNHiSWl"
      },
      "source": [
        "## ANN"
      ]
    },
    {
      "cell_type": "markdown",
      "metadata": {
        "id": "Ps7n9f3aGwbz"
      },
      "source": [
        "### Hyperparameter Tuning\n",
        "\n",
        "This section shows an exemplary implementation of Hyperparameter Tuning with keras_tuner. The parameters below are deterministic because only the output of the tuner should be emphasized.  "
      ]
    },
    {
      "cell_type": "code",
      "metadata": {
        "id": "eB3x-g0mT0l1",
        "colab": {
          "base_uri": "https://localhost:8080/"
        },
        "outputId": "8d273172-9b07-4d60-edff-38db9a820306"
      },
      "source": [
        "def model_builder(hp):\n",
        "    model = tf.keras.Sequential()\n",
        "  \n",
        "    first_l_units = hp.Int('first_l_units', min_value=256, max_value=256, step = 128)\n",
        "    second_l_units = hp.Int('second_l_units', min_value=256, max_value=256, step = 128)\n",
        "    third_l_units = hp.Int('third_l_units', min_value=256, max_value=256, step = 128)\n",
        "\n",
        "    model.add(tf.keras.layers.Dense(first_l_units, activation='relu', input_shape=(X_train.shape[-1],)))\n",
        "    model.add(tf.keras.layers.BatchNormalization())\n",
        "    model.add(tf.keras.layers.Dropout(0.3))\n",
        "    \n",
        "    model.add(tf.keras.layers.Dense(second_l_units, activation='relu'))\n",
        "    model.add(tf.keras.layers.BatchNormalization())\n",
        "    model.add(tf.keras.layers.Dropout(0.3))\n",
        "    model.add(tf.keras.layers.Dense(third_l_units, activation='relu'))\n",
        "    model.add(tf.keras.layers.BatchNormalization())\n",
        "    model.add(tf.keras.layers.Dropout(0.3))\n",
        "    \n",
        "    model.add(tf.keras.layers.Dense(1, activation='sigmoid'))\n",
        "    \n",
        "    METRICS = [\n",
        "    tf.keras.metrics.BinaryAccuracy(name='accuracy'),\n",
        "    tf.keras.metrics.FalseNegatives(name='fn'),\n",
        "    tf.keras.metrics.FalsePositives(name='fp'),\n",
        "    tf.keras.metrics.TrueNegatives(name='tn'),\n",
        "    tf.keras.metrics.TruePositives(name='tp'),\n",
        "    tf.keras.metrics.Precision(name='precision'),\n",
        "    tf.keras.metrics.Recall(name='recall'),\n",
        "    tf.keras.metrics.AUC(name='auc'),\n",
        "    tf.keras.metrics.AUC(name='aucpr', curve='PR'), # precision-recall curve\n",
        "    ]\n",
        "    \n",
        "    \n",
        "    model.compile(optimizer=tf.keras.optimizers.Adam(1e-3),\n",
        "              loss='binary_crossentropy', metrics=METRICS)\n",
        "    \n",
        "    return model\n",
        "\n",
        "\n",
        "\n",
        "\n",
        "tuner = kt.RandomSearch(model_builder,\n",
        "                     objective= kt.Objective('val_aucpr', direction=\"max\"),\n",
        "                     max_trials = 10,\n",
        "                     directory='my_dir',\n",
        "                     project_name='intro_to_kt'\n",
        "                     )\n",
        "\n",
        "early_stop = tf.keras.callbacks.EarlyStopping(\n",
        "    monitor='val_aucpr',\n",
        "    patience=10,\n",
        "    verbose=1, \n",
        "    mode='max',\n",
        "    restore_best_weights=True\n",
        ")      \n",
        "\n",
        "tuner.search(X_train, y_train,\n",
        "             validation_data=(X_validate, y_validate),\n",
        "             batch_size=2048, \n",
        "             epochs=100,\n",
        "             callbacks=[early_stop])"
      ],
      "execution_count": 4,
      "outputs": [
        {
          "output_type": "stream",
          "text": [
            "Trial 1 Complete [00h 00m 30s]\n",
            "val_aucpr: 0.7979006767272949\n",
            "\n",
            "Best val_aucpr So Far: 0.7979006767272949\n",
            "Total elapsed time: 00h 00m 30s\n",
            "INFO:tensorflow:Oracle triggered exit\n"
          ],
          "name": "stdout"
        }
      ]
    },
    {
      "cell_type": "markdown",
      "metadata": {
        "id": "TTFmkIZ3QjGo"
      },
      "source": [
        "Here you can see the output (the best hyperparameters) of the Hyperparameter tuning. Because we didn’t allow a range of parameters, the output is deterministic. -> model equals the nn_model defined below. "
      ]
    },
    {
      "cell_type": "code",
      "metadata": {
        "colab": {
          "base_uri": "https://localhost:8080/"
        },
        "id": "GoanpXGjITND",
        "outputId": "2f514850-3d06-47ee-d593-d491c293bc5a"
      },
      "source": [
        "best_hps=tuner.get_best_hyperparameters(num_trials=1)[0]\n",
        "model = tuner.hypermodel.build(best_hps)\n",
        "model.summary()"
      ],
      "execution_count": 5,
      "outputs": [
        {
          "output_type": "stream",
          "text": [
            "Model: \"sequential\"\n",
            "_________________________________________________________________\n",
            "Layer (type)                 Output Shape              Param #   \n",
            "=================================================================\n",
            "dense (Dense)                (None, 256)               7680      \n",
            "_________________________________________________________________\n",
            "batch_normalization (BatchNo (None, 256)               1024      \n",
            "_________________________________________________________________\n",
            "dropout (Dropout)            (None, 256)               0         \n",
            "_________________________________________________________________\n",
            "dense_1 (Dense)              (None, 256)               65792     \n",
            "_________________________________________________________________\n",
            "batch_normalization_1 (Batch (None, 256)               1024      \n",
            "_________________________________________________________________\n",
            "dropout_1 (Dropout)          (None, 256)               0         \n",
            "_________________________________________________________________\n",
            "dense_2 (Dense)              (None, 256)               65792     \n",
            "_________________________________________________________________\n",
            "batch_normalization_2 (Batch (None, 256)               1024      \n",
            "_________________________________________________________________\n",
            "dropout_2 (Dropout)          (None, 256)               0         \n",
            "_________________________________________________________________\n",
            "dense_3 (Dense)              (None, 1)                 257       \n",
            "=================================================================\n",
            "Total params: 142,593\n",
            "Trainable params: 141,057\n",
            "Non-trainable params: 1,536\n",
            "_________________________________________________________________\n"
          ],
          "name": "stdout"
        }
      ]
    },
    {
      "cell_type": "code",
      "metadata": {
        "id": "UxcU38WziVo1"
      },
      "source": [
        "nn_model = tf.keras.Sequential([\n",
        "    tf.keras.layers.Dense(256, activation='relu', input_shape=(X_train.shape[-1],)),\n",
        "    tf.keras.layers.BatchNormalization(),\n",
        "    tf.keras.layers.Dropout(0.3),\n",
        "    tf.keras.layers.Dense(256, activation='relu'),\n",
        "    tf.keras.layers.BatchNormalization(),\n",
        "    tf.keras.layers.Dropout(0.3),\n",
        "    tf.keras.layers.Dense(256, activation='relu'),\n",
        "    tf.keras.layers.BatchNormalization(),\n",
        "    tf.keras.layers.Dropout(0.3),\n",
        "    tf.keras.layers.Dense(1, activation='sigmoid'),\n",
        "])\n",
        "\n",
        "METRICS = [\n",
        "    tf.keras.metrics.BinaryAccuracy(name='accuracy'),\n",
        "    tf.keras.metrics.FalseNegatives(name='fn'),\n",
        "    tf.keras.metrics.FalsePositives(name='fp'),\n",
        "    tf.keras.metrics.TrueNegatives(name='tn'),\n",
        "    tf.keras.metrics.TruePositives(name='tp'),\n",
        "    tf.keras.metrics.Precision(name='precision'),\n",
        "    tf.keras.metrics.Recall(name='recall'),\n",
        "    tf.keras.metrics.AUC(name='auc'),\n",
        "    tf.keras.metrics.AUC(name='aucpr', curve='PR'), # precision-recall curve\n",
        "]\n",
        "\n",
        "nn_model.compile(optimizer=tf.keras.optimizers.Adam(1e-3),loss='binary_crossentropy', metrics=METRICS)\n",
        "\n",
        "early_stop = tf.keras.callbacks.EarlyStopping(\n",
        "    monitor='val_aucpr',\n",
        "    patience=10,\n",
        "    verbose=1, \n",
        "    mode='max',\n",
        "    restore_best_weights=True\n",
        ")\n",
        "\n",
        "save_model = tf.keras.callbacks.ModelCheckpoint(\n",
        "    filepath='Neural_net_best_weights.hdf5',\n",
        "    save_best_only=True,\n",
        "    monitor='val_aucpr',\n",
        "    verbose=0,\n",
        "    mode='max'\n",
        ")\n",
        "\n",
        "cb = [early_stop,save_model]\n",
        "\n",
        "nn_model_history = nn_model.fit(\n",
        "    X_train, y_train, \n",
        "    validation_data=(X_validate, y_validate),\n",
        "    batch_size=2048, \n",
        "    epochs=100, \n",
        "#   class_weight=class_weight,\n",
        "    callbacks=cb\n",
        ")\n",
        "\n",
        "IPython.display.clear_output()"
      ],
      "execution_count": 6,
      "outputs": []
    },
    {
      "cell_type": "code",
      "metadata": {
        "colab": {
          "base_uri": "https://localhost:8080/",
          "height": 337
        },
        "id": "MqkTvnvIjBRP",
        "outputId": "550e8989-9dd2-4ee3-941e-6ac0e4e8ae13"
      },
      "source": [
        "nn_model_score = nn_model.evaluate(X_test, y_test)\n",
        "plot_metrics(nn_model_history)\n",
        "print(nn_model_score)"
      ],
      "execution_count": 7,
      "outputs": [
        {
          "output_type": "stream",
          "text": [
            "2671/2671 [==============================] - 13s 5ms/step - loss: 0.0025 - accuracy: 0.9995 - fn: 38.0000 - fp: 7.0000 - tn: 85300.0000 - tp: 98.0000 - precision: 0.9333 - recall: 0.7206 - auc: 0.9556 - aucpr: 0.8498\n",
            "[0.0025083539076149464, 0.9994733333587646, 38.0, 7.0, 85300.0, 98.0, 0.9333333373069763, 0.720588207244873, 0.9556457996368408, 0.8498302698135376]\n"
          ],
          "name": "stdout"
        },
        {
          "output_type": "display_data",
          "data": {
            "image/png": "[encoded data removed]",
            "text/plain": [
              "<Figure size 432x288 with 4 Axes>"
            ]
          },
          "metadata": {
            "tags": [],
            "needs_background": "light"
          }
        }
      ]
    },
    {
      "cell_type": "code",
      "metadata": {
        "colab": {
          "base_uri": "https://localhost:8080/"
        },
        "id": "4amUhyrSnOb-",
        "outputId": "3eb3e72d-9025-41be-8dc5-5d9442dedfb7"
      },
      "source": [
        "y_train_pred_nn = nn_model.predict(X_train)\n",
        "y_test_pred_nn = nn_model.predict(X_test)\n",
        "\n",
        "print_score(y_train, y_train_pred_nn.round(), train=True)\n",
        "print_score(y_test, y_test_pred_nn.round(), train=False)\n",
        "\n",
        "scores = pd.DataFrame()\n",
        "scores['NN'] = aucpr(y_train, y_train_pred_nn), aucpr(y_test, y_test_pred_nn)\n",
        "scores = scores.rename(index={0:'train',1:'test'})"
      ],
      "execution_count": 8,
      "outputs": [
        {
          "output_type": "stream",
          "text": [
            "Train Result:\n",
            "================================================\n",
            "Accuracy Score: 99.95%\n",
            "_______________________________________________\n",
            "Classification Report:\n",
            "                       0           1  accuracy      macro avg   weighted avg\n",
            "precision       0.999529    0.968037  0.999486       0.983783       0.999472\n",
            "recall          0.999956    0.738676  0.999486       0.869316       0.999486\n",
            "f1-score        0.999743    0.837945  0.999486       0.918844       0.999451\n",
            "support    159204.000000  287.000000  0.999486  159491.000000  159491.000000\n",
            "_______________________________________________\n",
            "Confusion Matrix: \n",
            " [[159197      7]\n",
            " [    75    212]]\n",
            "\n",
            "Test Result:\n",
            "================================================\n",
            "Accuracy Score: 99.95%\n",
            "_______________________________________________\n",
            "Classification Report:\n",
            "                      0           1  accuracy     macro avg  weighted avg\n",
            "precision      0.999555    0.933333  0.999473      0.966444      0.999449\n",
            "recall         0.999918    0.720588  0.999473      0.860253      0.999473\n",
            "f1-score       0.999736    0.813278  0.999473      0.906507      0.999440\n",
            "support    85307.000000  136.000000  0.999473  85443.000000  85443.000000\n",
            "_______________________________________________\n",
            "Confusion Matrix: \n",
            " [[85300     7]\n",
            " [   38    98]]\n",
            "\n"
          ],
          "name": "stdout"
        }
      ]
    },
    {
      "cell_type": "markdown",
      "metadata": {
        "id": "5erA9w2zj1qn"
      },
      "source": [
        "## XGBoost"
      ]
    },
    {
      "cell_type": "code",
      "metadata": {
        "id": "43fUiylgjTFO"
      },
      "source": [
        "xgb_clf = XGBClassifier()\n",
        "xgb_clf.fit(X_train, y_train,\n",
        "            eval_set=[(X_validate, y_validate)],\n",
        "            eval_metric=['aucpr'], verbose=True)\n",
        "\n",
        "IPython.display.clear_output()"
      ],
      "execution_count": 9,
      "outputs": []
    },
    {
      "cell_type": "code",
      "metadata": {
        "colab": {
          "base_uri": "https://localhost:8080/"
        },
        "id": "14fDzK5goOPW",
        "outputId": "c0009b82-218b-4b86-892c-0121a742cc9b"
      },
      "source": [
        "y_train_pred_xgb = xgb_clf.predict(X_train)\n",
        "y_test_pred_xgb = xgb_clf.predict(X_test)\n",
        "\n",
        "print_score(y_train, y_train_pred_xgb, train=True)\n",
        "print_score(y_test, y_test_pred_xgb, train=False)\n",
        "scores['XGB'] = aucpr(y_train, y_train_pred_xgb), aucpr(y_test, y_test_pred_xgb)"
      ],
      "execution_count": 10,
      "outputs": [
        {
          "output_type": "stream",
          "text": [
            "Train Result:\n",
            "================================================\n",
            "Accuracy Score: 99.97%\n",
            "_______________________________________________\n",
            "Classification Report:\n",
            "                       0           1  accuracy      macro avg   weighted avg\n",
            "precision       0.999705    0.979592  0.999674       0.989648       0.999669\n",
            "recall          0.999969    0.836237  0.999674       0.918103       0.999674\n",
            "f1-score        0.999837    0.902256  0.999674       0.951046       0.999661\n",
            "support    159204.000000  287.000000  0.999674  159491.000000  159491.000000\n",
            "_______________________________________________\n",
            "Confusion Matrix: \n",
            " [[159199      5]\n",
            " [    47    240]]\n",
            "\n",
            "Test Result:\n",
            "================================================\n",
            "Accuracy Score: 99.96%\n",
            "_______________________________________________\n",
            "Classification Report:\n",
            "                      0           1  accuracy     macro avg  weighted avg\n",
            "precision      0.999730    0.941667  0.999649      0.970699      0.999638\n",
            "recall         0.999918    0.830882  0.999649      0.915400      0.999649\n",
            "f1-score       0.999824    0.882813  0.999649      0.941318      0.999638\n",
            "support    85307.000000  136.000000  0.999649  85443.000000  85443.000000\n",
            "_______________________________________________\n",
            "Confusion Matrix: \n",
            " [[85300     7]\n",
            " [   23   113]]\n",
            "\n"
          ],
          "name": "stdout"
        }
      ]
    },
    {
      "cell_type": "markdown",
      "metadata": {
        "id": "ce9dVEfqkJWQ"
      },
      "source": [
        "## CatBoost"
      ]
    },
    {
      "cell_type": "code",
      "metadata": {
        "id": "yHwp9h0jQcyB"
      },
      "source": [
        "cb_clf = CatBoostClassifier(eval_metric=\"BalancedAccuracy\")\n",
        "cb_clf.fit(X_train, y_train,\n",
        "            eval_set=(X_validate, y_validate),\n",
        "            verbose=True)\n",
        "\n",
        "y_train_pred_cb = cb_clf.predict(X_train)\n",
        "y_test_pred_cb = cb_clf.predict(X_test)\n",
        "\n",
        "print_score(y_train, y_train_pred_cb, train=True)\n",
        "print_score(y_test, y_test_pred_cb, train=False)\n",
        "scores['CB'] = aucpr(y_train, y_train_pred_cb), aucpr(y_test, y_test_pred_cb)"
      ],
      "execution_count": null,
      "outputs": []
    },
    {
      "cell_type": "markdown",
      "metadata": {
        "id": "WQC5lGdkk3Tm"
      },
      "source": [
        "## LightGBM (TBI...)"
      ]
    },
    {
      "cell_type": "markdown",
      "metadata": {
        "id": "0E_o7CZBlKge"
      },
      "source": [
        "# Model Comparison"
      ]
    },
    {
      "cell_type": "code",
      "metadata": {
        "colab": {
          "base_uri": "https://localhost:8080/",
          "height": 111
        },
        "id": "UWgGTdiup9vV",
        "outputId": "888b8aba-9951-4b1e-9f69-027df87d86bc"
      },
      "source": [
        "scores"
      ],
      "execution_count": 15,
      "outputs": [
        {
          "output_type": "execute_result",
          "data": {
            "text/html": [
              "<div>\n",
              "<style scoped>\n",
              "    .dataframe tbody tr th:only-of-type {\n",
              "        vertical-align: middle;\n",
              "    }\n",
              "\n",
              "    .dataframe tbody tr th {\n",
              "        vertical-align: top;\n",
              "    }\n",
              "\n",
              "    .dataframe thead th {\n",
              "        text-align: right;\n",
              "    }\n",
              "</style>\n",
              "<table border=\"1\" class=\"dataframe\">\n",
              "  <thead>\n",
              "    <tr style=\"text-align: right;\">\n",
              "      <th></th>\n",
              "      <th>NN</th>\n",
              "      <th>XGB</th>\n",
              "      <th>CB</th>\n",
              "    </tr>\n",
              "  </thead>\n",
              "  <tbody>\n",
              "    <tr>\n",
              "      <th>train</th>\n",
              "      <td>0.899979</td>\n",
              "      <td>0.908062</td>\n",
              "      <td>0.913614</td>\n",
              "    </tr>\n",
              "    <tr>\n",
              "      <th>test</th>\n",
              "      <td>0.860356</td>\n",
              "      <td>0.886409</td>\n",
              "      <td>0.882825</td>\n",
              "    </tr>\n",
              "  </tbody>\n",
              "</table>\n",
              "</div>"
            ],
            "text/plain": [
              "             NN       XGB        CB\n",
              "train  0.899979  0.908062  0.913614\n",
              "test   0.860356  0.886409  0.882825"
            ]
          },
          "metadata": {
            "tags": []
          },
          "execution_count": 15
        }
      ]
    },
    {
      "cell_type": "code",
      "metadata": {
        "colab": {
          "base_uri": "https://localhost:8080/",
          "height": 568
        },
        "id": "EyGasFeCl7kV",
        "outputId": "aadcb015-5602-4d41-fe79-b21108f6d466"
      },
      "source": [
        "plot_prc(f\"Train NN AUC({scores.loc['train','NN']:.3})\", y_train, y_train_pred_nn, color=colors[0])\n",
        "plot_prc(f\"Test NN AUC({scores.loc['test','NN']:.3})\", y_test, y_test_pred_nn, color=colors[0], linestyle='--')\n",
        "plot_prc(f\"Train XGB AUC({scores.loc['train','XGB']:.3})\", y_train, y_train_pred_xgb, color=colors[1])\n",
        "plot_prc(f\"Test XGB AUC({scores.loc['test','XGB']:.3})\", y_test, y_test_pred_xgb, color=colors[1], linestyle='--')\n",
        "plot_prc(f\"Train CB AUC({scores.loc['train','CB']:.3})\", y_train, y_train_pred_cb, color=colors[2])\n",
        "plot_prc(f\"Test CB AUC({scores.loc['test','CB']:.3})\", y_test, y_test_pred_cb, color=colors[2], linestyle='--')\n",
        "plt.legend(loc='lower right')"
      ],
      "execution_count": 16,
      "outputs": [
        {
          "output_type": "execute_result",
          "data": {
            "text/plain": [
              "<matplotlib.legend.Legend at 0x7f18a3119290>"
            ]
          },
          "metadata": {
            "tags": []
          },
          "execution_count": 16
        },
        {
          "output_type": "display_data",
          "data": {
            "image/png": "[encoded data removed]",
            "text/plain": [
              "<Figure size 1152x648 with 1 Axes>"
            ]
          },
          "metadata": {
            "tags": [],
            "needs_background": "light"
          }
        }
      ]
    },
    {
      "cell_type": "markdown",
      "metadata": {
        "id": "Lq4d7dKCSLov"
      },
      "source": [
        "# Further experimentation\n",
        "\n",
        "**Hyperparameter tuning for parameters shown below**\n",
        "\n",
        "<style type=\"text/css\">\n",
        ".tg  {border-collapse:collapse;border-color:#9ABAD9;border-spacing:0;}\n",
        ".tg td{background-color:#EBF5FF;border-color:#9ABAD9;border-style:solid;border-width:1px;color:#444;\n",
        "  font-family:Arial, sans-serif;font-size:14px;overflow:hidden;padding:10px 5px;word-break:normal;}\n",
        ".tg th{background-color:#409cff;border-color:#9ABAD9;border-style:solid;border-width:1px;color:#fff;\n",
        "  font-family:Arial, sans-serif;font-size:14px;font-weight:normal;overflow:hidden;padding:10px 5px;word-break:normal;}\n",
        ".tg .tg-0pky{border-color:inherit;text-align:left;vertical-align:top}\n",
        ".tg .tg-f8tv{border-color:inherit;font-style:italic;text-align:left;vertical-align:top}\n",
        "</style>\n",
        "<table class=\"tg\">\n",
        "<thead>\n",
        "  <tr>\n",
        "    <th class=\"tg-0pky\">Function</th>\n",
        "    <th class=\"tg-0pky\">XGBoost</th>\n",
        "    <th class=\"tg-0pky\">CatBoost</th>\n",
        "    <th class=\"tg-0pky\">LightGBM</th>\n",
        "  </tr>\n",
        "</thead>\n",
        "<tbody>\n",
        "  <tr>\n",
        "    <td class=\"tg-f8tv\">Parameters<br>to control<br>overfitting</td>\n",
        "    <td class=\"tg-0pky\">1. learning_rate <br>2. max_depth<br>3. min_child_weight</td>\n",
        "    <td class=\"tg-0pky\">1. Learning_rate <br>2. Depth<br>3. l2-leaf-reg</td>\n",
        "    <td class=\"tg-0pky\">1. learning_rate<br>2. max_depth<br>3. min_data_in_leaf</td>\n",
        "  </tr>\n",
        "  <tr>\n",
        "    <td class=\"tg-f8tv\">Parameters for<br>cat values</td>\n",
        "    <td class=\"tg-0pky\">NA</td>\n",
        "    <td class=\"tg-0pky\">1. cat_features<br>2. one_hot_max_size</td>\n",
        "    <td class=\"tg-0pky\">1. categorical_feature</td>\n",
        "  </tr>\n",
        "  <tr>\n",
        "    <td class=\"tg-f8tv\">Parameters for<br>speed</td>\n",
        "    <td class=\"tg-0pky\">...</td>\n",
        "    <td class=\"tg-0pky\">...</td>\n",
        "    <td class=\"tg-0pky\">...</td>\n",
        "  </tr>\n",
        "</tbody>\n",
        "</table>\n",
        "\n",
        "\n",
        "\n",
        "\n",
        "\n",
        "\n",
        "\n",
        "\n",
        "\n",
        "\n"
      ]
    }
  ]
}