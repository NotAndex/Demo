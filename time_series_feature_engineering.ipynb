{
  "nbformat": 4,
  "nbformat_minor": 0,
  "metadata": {
    "colab": {
      "name": "time_series_feature_engineering.ipynb",
      "provenance": [],
      "collapsed_sections": [],
      "toc_visible": true,
      "authorship_tag": "ABX9TyPs4PF6+EvB0bxJJ/XC0v2x",
      "include_colab_link": true
    },
    "kernelspec": {
      "name": "python3",
      "display_name": "Python 3"
    },
    "language_info": {
      "name": "python"
    }
  },
  "cells": [
    {
      "cell_type": "markdown",
      "metadata": {
        "id": "view-in-github",
        "colab_type": "text"
      },
      "source": [
        "<a href=\"https://colab.research.google.com/github/NotAndex/Demo/blob/main/time_series_feature_engineering.ipynb\" target=\"_parent\"><img src=\"https://colab.research.google.com/assets/colab-badge.svg\" alt=\"Open In Colab\"/></a>"
      ]
    },
    {
      "cell_type": "markdown",
      "metadata": {
        "id": "Lo75g1ZbQmpI"
      },
      "source": [
        "# 0 Preamble\n",
        "\n",
        "<table class=\"tfo-notebook-buttons\" align=\"left\">\n",
        "  <td>\n",
        "    <a target=\"_blank\" href=\"https://github.com/NotAndex/Demo/blob/main/time_series_feature_engineering.ipynb\"><img src=\"https://github.com/NotAndex/Demo/blob/main/images/GitHub-Mark-32px.png?raw=true\" />View this code on GitHub.com</a>\n",
        "  </td>\n",
        "\n",
        "  <td>\n",
        "    <a target=\"_blank\" href=\"https://github.com/NotAndex/Demo/blob/main/scientific_sources.md\"><img src=\"https://github.com/NotAndex/Demo/blob/main/images/GitHub-Mark-32px.png?raw=true\" />View scientific sources on GitHub.com</a>\n",
        "  </td>\n",
        "\n",
        "\n",
        "</table>\n"
      ]
    },
    {
      "cell_type": "markdown",
      "metadata": {
        "id": "1HCRiazZQpbo"
      },
      "source": [
        "# 1 Setup\n"
      ]
    },
    {
      "cell_type": "code",
      "metadata": {
        "id": "P2Lj1rXJRGP6"
      },
      "source": [
        "!pip install yfinance\n",
        "import yfinance as yf\n",
        "\n",
        "import numpy as np\n",
        "import pandas as pd\n",
        "import matplotlib.pyplot as plt\n",
        "import matplotlib as mpl\n",
        "import datetime\n",
        "\n",
        "from tensorflow.keras.utils import to_categorical"
      ],
      "execution_count": null,
      "outputs": []
    },
    {
      "cell_type": "markdown",
      "metadata": {
        "id": "tIaAHbdNQz2C"
      },
      "source": [
        "# 2 Data"
      ]
    },
    {
      "cell_type": "code",
      "metadata": {
        "id": "y1Aw_OdrSTcL"
      },
      "source": [
        "today = datetime.date.today()\n",
        "start_date = today - datetime.timedelta(days=365)\n",
        "symbol = 'BTC-USD'\n",
        "\n",
        "cc_data = yf.download(symbol, start=start_date, end=today)\n",
        "cc_data.reset_index(inplace=True,col_fill=('Date'))"
      ],
      "execution_count": null,
      "outputs": []
    },
    {
      "cell_type": "markdown",
      "metadata": {
        "id": "MQnbgfJ0Q-Cq"
      },
      "source": [
        "#3 Feature engineering\n",
        "\n",
        "In regards to Bitcoin data, Jaquart et al. (2020) defined five feature categories: \n",
        "* Technical features\n",
        "* Asset-based features\n",
        "* Blockchain-based features\n",
        "* Sentiment- and interest-based features\n",
        "\n",
        "* Other features\n",
        "\n",
        "For all raw features of these categories, Technical indicators can be engineered. technical\n",
        "indicators show properties that are not readily found in the raw features. For Example  Simple Moving Average (SMA), Exponential Moving Average\n",
        "(EMA), Standard Deviation (STD) and, Variance\n",
        "(VAR) etc. for Bitcoin Close Price or Volume for a given horizon (1d, 7d, 30d, 90d). Same for raw Blockchain-based features like Hashrate or Block time etc.\n",
        "\n"
      ]
    },
    {
      "cell_type": "markdown",
      "metadata": {
        "id": "JP12UkVESp2D"
      },
      "source": [
        "## 3.1 Date dependent features\n",
        "\n",
        "Most of the time one piece of information of time series is neglected. That is the information that is inherent in the date or timestamp. For example end of the week, the days before, after, or holidays themselves, and many more patterns of seasonality."
      ]
    },
    {
      "cell_type": "code",
      "metadata": {
        "id": "gmifnnsIX51s",
        "colab": {
          "base_uri": "https://localhost:8080/",
          "height": 227
        },
        "outputId": "5dd8d316-f7d7-4af8-9859-9619c05d8ab7"
      },
      "source": [
        "cc_data['year'] = cc_data['Date'].dt.year \n",
        "cc_data['quarter'] = cc_data['Date'].dt.quarter \n",
        "cc_data['month'] = cc_data['Date'].dt.month \n",
        "cc_data['week'] = cc_data['Date'].dt.isocalendar().week \n",
        "cc_data['day'] = cc_data['Date'].dt.day\n",
        "cc_data['wday'] = cc_data['Date'].dt.dayofweek\n",
        "\n",
        "cc_data.loc[0:5,:]"
      ],
      "execution_count": null,
      "outputs": [
        {
          "output_type": "execute_result",
          "data": {
            "text/html": [
              "<div>\n",
              "<style scoped>\n",
              "    .dataframe tbody tr th:only-of-type {\n",
              "        vertical-align: middle;\n",
              "    }\n",
              "\n",
              "    .dataframe tbody tr th {\n",
              "        vertical-align: top;\n",
              "    }\n",
              "\n",
              "    .dataframe thead th {\n",
              "        text-align: right;\n",
              "    }\n",
              "</style>\n",
              "<table border=\"1\" class=\"dataframe\">\n",
              "  <thead>\n",
              "    <tr style=\"text-align: right;\">\n",
              "      <th></th>\n",
              "      <th>Date</th>\n",
              "      <th>Open</th>\n",
              "      <th>High</th>\n",
              "      <th>Low</th>\n",
              "      <th>Close</th>\n",
              "      <th>Adj Close</th>\n",
              "      <th>Volume</th>\n",
              "      <th>year</th>\n",
              "      <th>quarter</th>\n",
              "      <th>month</th>\n",
              "      <th>week</th>\n",
              "      <th>day</th>\n",
              "      <th>wday</th>\n",
              "    </tr>\n",
              "  </thead>\n",
              "  <tbody>\n",
              "    <tr>\n",
              "      <th>0</th>\n",
              "      <td>2020-06-03</td>\n",
              "      <td>9533.760742</td>\n",
              "      <td>9682.859375</td>\n",
              "      <td>9471.846680</td>\n",
              "      <td>9656.717773</td>\n",
              "      <td>9656.717773</td>\n",
              "      <td>25007459262</td>\n",
              "      <td>2020</td>\n",
              "      <td>2</td>\n",
              "      <td>6</td>\n",
              "      <td>23</td>\n",
              "      <td>3</td>\n",
              "      <td>2</td>\n",
              "    </tr>\n",
              "    <tr>\n",
              "      <th>1</th>\n",
              "      <td>2020-06-04</td>\n",
              "      <td>9655.854492</td>\n",
              "      <td>9887.610352</td>\n",
              "      <td>9525.247070</td>\n",
              "      <td>9800.636719</td>\n",
              "      <td>9800.636719</td>\n",
              "      <td>25921805072</td>\n",
              "      <td>2020</td>\n",
              "      <td>2</td>\n",
              "      <td>6</td>\n",
              "      <td>23</td>\n",
              "      <td>4</td>\n",
              "      <td>3</td>\n",
              "    </tr>\n",
              "    <tr>\n",
              "      <th>2</th>\n",
              "      <td>2020-06-05</td>\n",
              "      <td>9800.215820</td>\n",
              "      <td>9869.237305</td>\n",
              "      <td>9663.216797</td>\n",
              "      <td>9665.533203</td>\n",
              "      <td>9665.533203</td>\n",
              "      <td>23509628646</td>\n",
              "      <td>2020</td>\n",
              "      <td>2</td>\n",
              "      <td>6</td>\n",
              "      <td>23</td>\n",
              "      <td>5</td>\n",
              "      <td>4</td>\n",
              "    </tr>\n",
              "    <tr>\n",
              "      <th>3</th>\n",
              "      <td>2020-06-06</td>\n",
              "      <td>9664.904297</td>\n",
              "      <td>9773.431641</td>\n",
              "      <td>9591.024414</td>\n",
              "      <td>9653.679688</td>\n",
              "      <td>9653.679688</td>\n",
              "      <td>20438419222</td>\n",
              "      <td>2020</td>\n",
              "      <td>2</td>\n",
              "      <td>6</td>\n",
              "      <td>23</td>\n",
              "      <td>6</td>\n",
              "      <td>5</td>\n",
              "    </tr>\n",
              "    <tr>\n",
              "      <th>4</th>\n",
              "      <td>2020-06-07</td>\n",
              "      <td>9653.002930</td>\n",
              "      <td>9768.498047</td>\n",
              "      <td>9458.150391</td>\n",
              "      <td>9758.852539</td>\n",
              "      <td>9758.852539</td>\n",
              "      <td>25015250846</td>\n",
              "      <td>2020</td>\n",
              "      <td>2</td>\n",
              "      <td>6</td>\n",
              "      <td>23</td>\n",
              "      <td>7</td>\n",
              "      <td>6</td>\n",
              "    </tr>\n",
              "    <tr>\n",
              "      <th>5</th>\n",
              "      <td>2020-06-08</td>\n",
              "      <td>9760.063477</td>\n",
              "      <td>9782.306641</td>\n",
              "      <td>9675.885742</td>\n",
              "      <td>9771.489258</td>\n",
              "      <td>9771.489258</td>\n",
              "      <td>21486346312</td>\n",
              "      <td>2020</td>\n",
              "      <td>2</td>\n",
              "      <td>6</td>\n",
              "      <td>24</td>\n",
              "      <td>8</td>\n",
              "      <td>0</td>\n",
              "    </tr>\n",
              "  </tbody>\n",
              "</table>\n",
              "</div>"
            ],
            "text/plain": [
              "        Date         Open         High          Low  ...  month  week  day  wday\n",
              "0 2020-06-03  9533.760742  9682.859375  9471.846680  ...      6    23    3     2\n",
              "1 2020-06-04  9655.854492  9887.610352  9525.247070  ...      6    23    4     3\n",
              "2 2020-06-05  9800.215820  9869.237305  9663.216797  ...      6    23    5     4\n",
              "3 2020-06-06  9664.904297  9773.431641  9591.024414  ...      6    23    6     5\n",
              "4 2020-06-07  9653.002930  9768.498047  9458.150391  ...      6    23    7     6\n",
              "5 2020-06-08  9760.063477  9782.306641  9675.885742  ...      6    24    8     0\n",
              "\n",
              "[6 rows x 13 columns]"
            ]
          },
          "metadata": {
            "tags": []
          },
          "execution_count": 4
        }
      ]
    },
    {
      "cell_type": "markdown",
      "metadata": {
        "id": "UuONd0wi5AVm"
      },
      "source": [
        "Since there is no predetermined (ordinal) relationship in the relevance of days or months we can encode its representation nominal via One-Hot encoding. Forcing an ordinal relationship with ordinal encoding and allowing the model to assume a natural ordering between categories may result in poor performance or unexpected results (predictions halfway between categories)."
      ]
    },
    {
      "cell_type": "code",
      "metadata": {
        "id": "REo4DoCacHtk"
      },
      "source": [
        "monthCat = pd.DataFrame(to_categorical(cc_data.loc[:,['month']]))\n",
        "cc_data = pd.concat([cc_data,monthCat.loc[:,1:]],axis=1)\n",
        "\n",
        "dayCat = pd.DataFrame(to_categorical(cc_data.loc[:,['wday']]),\n",
        "                          columns=[\"Monday\",\"Tuesday\",\"Wednesday\",\"Thursday\",\"Friday\",\"Saturday\",\"Sunday\"])\n",
        "cc_data = pd.concat([cc_data,dayCat],axis=1)"
      ],
      "execution_count": null,
      "outputs": []
    },
    {
      "cell_type": "code",
      "metadata": {
        "id": "V-NyKxJXE4cn",
        "colab": {
          "base_uri": "https://localhost:8080/",
          "height": 257
        },
        "outputId": "73e906a6-45da-4378-a130-d6304b0bde6d"
      },
      "source": [
        "cc_data.loc[0:6,[\"wday\",\"Monday\",\"Tuesday\",\"Wednesday\",\"Thursday\",\"Friday\",\"Saturday\",\"Sunday\"]]"
      ],
      "execution_count": null,
      "outputs": [
        {
          "output_type": "execute_result",
          "data": {
            "text/html": [
              "<div>\n",
              "<style scoped>\n",
              "    .dataframe tbody tr th:only-of-type {\n",
              "        vertical-align: middle;\n",
              "    }\n",
              "\n",
              "    .dataframe tbody tr th {\n",
              "        vertical-align: top;\n",
              "    }\n",
              "\n",
              "    .dataframe thead th {\n",
              "        text-align: right;\n",
              "    }\n",
              "</style>\n",
              "<table border=\"1\" class=\"dataframe\">\n",
              "  <thead>\n",
              "    <tr style=\"text-align: right;\">\n",
              "      <th></th>\n",
              "      <th>wday</th>\n",
              "      <th>Monday</th>\n",
              "      <th>Tuesday</th>\n",
              "      <th>Wednesday</th>\n",
              "      <th>Thursday</th>\n",
              "      <th>Friday</th>\n",
              "      <th>Saturday</th>\n",
              "      <th>Sunday</th>\n",
              "    </tr>\n",
              "  </thead>\n",
              "  <tbody>\n",
              "    <tr>\n",
              "      <th>0</th>\n",
              "      <td>2</td>\n",
              "      <td>0.0</td>\n",
              "      <td>0.0</td>\n",
              "      <td>1.0</td>\n",
              "      <td>0.0</td>\n",
              "      <td>0.0</td>\n",
              "      <td>0.0</td>\n",
              "      <td>0.0</td>\n",
              "    </tr>\n",
              "    <tr>\n",
              "      <th>1</th>\n",
              "      <td>3</td>\n",
              "      <td>0.0</td>\n",
              "      <td>0.0</td>\n",
              "      <td>0.0</td>\n",
              "      <td>1.0</td>\n",
              "      <td>0.0</td>\n",
              "      <td>0.0</td>\n",
              "      <td>0.0</td>\n",
              "    </tr>\n",
              "    <tr>\n",
              "      <th>2</th>\n",
              "      <td>4</td>\n",
              "      <td>0.0</td>\n",
              "      <td>0.0</td>\n",
              "      <td>0.0</td>\n",
              "      <td>0.0</td>\n",
              "      <td>1.0</td>\n",
              "      <td>0.0</td>\n",
              "      <td>0.0</td>\n",
              "    </tr>\n",
              "    <tr>\n",
              "      <th>3</th>\n",
              "      <td>5</td>\n",
              "      <td>0.0</td>\n",
              "      <td>0.0</td>\n",
              "      <td>0.0</td>\n",
              "      <td>0.0</td>\n",
              "      <td>0.0</td>\n",
              "      <td>1.0</td>\n",
              "      <td>0.0</td>\n",
              "    </tr>\n",
              "    <tr>\n",
              "      <th>4</th>\n",
              "      <td>6</td>\n",
              "      <td>0.0</td>\n",
              "      <td>0.0</td>\n",
              "      <td>0.0</td>\n",
              "      <td>0.0</td>\n",
              "      <td>0.0</td>\n",
              "      <td>0.0</td>\n",
              "      <td>1.0</td>\n",
              "    </tr>\n",
              "    <tr>\n",
              "      <th>5</th>\n",
              "      <td>0</td>\n",
              "      <td>1.0</td>\n",
              "      <td>0.0</td>\n",
              "      <td>0.0</td>\n",
              "      <td>0.0</td>\n",
              "      <td>0.0</td>\n",
              "      <td>0.0</td>\n",
              "      <td>0.0</td>\n",
              "    </tr>\n",
              "    <tr>\n",
              "      <th>6</th>\n",
              "      <td>1</td>\n",
              "      <td>0.0</td>\n",
              "      <td>1.0</td>\n",
              "      <td>0.0</td>\n",
              "      <td>0.0</td>\n",
              "      <td>0.0</td>\n",
              "      <td>0.0</td>\n",
              "      <td>0.0</td>\n",
              "    </tr>\n",
              "  </tbody>\n",
              "</table>\n",
              "</div>"
            ],
            "text/plain": [
              "   wday  Monday  Tuesday  Wednesday  Thursday  Friday  Saturday  Sunday\n",
              "0     2     0.0      0.0        1.0       0.0     0.0       0.0     0.0\n",
              "1     3     0.0      0.0        0.0       1.0     0.0       0.0     0.0\n",
              "2     4     0.0      0.0        0.0       0.0     1.0       0.0     0.0\n",
              "3     5     0.0      0.0        0.0       0.0     0.0       1.0     0.0\n",
              "4     6     0.0      0.0        0.0       0.0     0.0       0.0     1.0\n",
              "5     0     1.0      0.0        0.0       0.0     0.0       0.0     0.0\n",
              "6     1     0.0      1.0        0.0       0.0     0.0       0.0     0.0"
            ]
          },
          "metadata": {
            "tags": []
          },
          "execution_count": 6
        }
      ]
    },
    {
      "cell_type": "markdown",
      "metadata": {
        "id": "M9cZhkBbTWar"
      },
      "source": [
        "## 3.2 Technical features"
      ]
    },
    {
      "cell_type": "markdown",
      "metadata": {
        "id": "XyL0Hqbqri49"
      },
      "source": [
        "### 3.2.1 Highs and Lows for given time horizon"
      ]
    },
    {
      "cell_type": "code",
      "metadata": {
        "id": "KpgWlwvr4wrv"
      },
      "source": [
        "week_low = cc_data.groupby(pd.Grouper(key='Date', freq='W'))['Close'].idxmin()\n",
        "cc_data['weekly_low'] = 0\n",
        "cc_data.loc[week_low,['weekly_low']] = 1\n",
        "\n",
        "week_high = cc_data.groupby(pd.Grouper(key='Date', freq='W'))['Close'].idxmax()\n",
        "cc_data['weekly_high'] = 0\n",
        "cc_data.loc[week_high,['weekly_high']] = 1"
      ],
      "execution_count": null,
      "outputs": []
    },
    {
      "cell_type": "code",
      "metadata": {
        "colab": {
          "base_uri": "https://localhost:8080/",
          "height": 257
        },
        "id": "0g89-MTuqnrv",
        "outputId": "1fabe785-d8e6-4283-b384-6e874ac8ef7d"
      },
      "source": [
        "cc_data.loc[0:6,['Close','wday','weekly_low','weekly_high']]"
      ],
      "execution_count": null,
      "outputs": [
        {
          "output_type": "execute_result",
          "data": {
            "text/html": [
              "<div>\n",
              "<style scoped>\n",
              "    .dataframe tbody tr th:only-of-type {\n",
              "        vertical-align: middle;\n",
              "    }\n",
              "\n",
              "    .dataframe tbody tr th {\n",
              "        vertical-align: top;\n",
              "    }\n",
              "\n",
              "    .dataframe thead th {\n",
              "        text-align: right;\n",
              "    }\n",
              "</style>\n",
              "<table border=\"1\" class=\"dataframe\">\n",
              "  <thead>\n",
              "    <tr style=\"text-align: right;\">\n",
              "      <th></th>\n",
              "      <th>Close</th>\n",
              "      <th>wday</th>\n",
              "      <th>weekly_low</th>\n",
              "      <th>weekly_high</th>\n",
              "    </tr>\n",
              "  </thead>\n",
              "  <tbody>\n",
              "    <tr>\n",
              "      <th>0</th>\n",
              "      <td>9656.717773</td>\n",
              "      <td>2</td>\n",
              "      <td>0</td>\n",
              "      <td>0</td>\n",
              "    </tr>\n",
              "    <tr>\n",
              "      <th>1</th>\n",
              "      <td>9800.636719</td>\n",
              "      <td>3</td>\n",
              "      <td>0</td>\n",
              "      <td>1</td>\n",
              "    </tr>\n",
              "    <tr>\n",
              "      <th>2</th>\n",
              "      <td>9665.533203</td>\n",
              "      <td>4</td>\n",
              "      <td>0</td>\n",
              "      <td>0</td>\n",
              "    </tr>\n",
              "    <tr>\n",
              "      <th>3</th>\n",
              "      <td>9653.679688</td>\n",
              "      <td>5</td>\n",
              "      <td>1</td>\n",
              "      <td>0</td>\n",
              "    </tr>\n",
              "    <tr>\n",
              "      <th>4</th>\n",
              "      <td>9758.852539</td>\n",
              "      <td>6</td>\n",
              "      <td>0</td>\n",
              "      <td>0</td>\n",
              "    </tr>\n",
              "    <tr>\n",
              "      <th>5</th>\n",
              "      <td>9771.489258</td>\n",
              "      <td>0</td>\n",
              "      <td>0</td>\n",
              "      <td>0</td>\n",
              "    </tr>\n",
              "    <tr>\n",
              "      <th>6</th>\n",
              "      <td>9795.700195</td>\n",
              "      <td>1</td>\n",
              "      <td>0</td>\n",
              "      <td>0</td>\n",
              "    </tr>\n",
              "  </tbody>\n",
              "</table>\n",
              "</div>"
            ],
            "text/plain": [
              "         Close  wday  weekly_low  weekly_high\n",
              "0  9656.717773     2           0            0\n",
              "1  9800.636719     3           0            1\n",
              "2  9665.533203     4           0            0\n",
              "3  9653.679688     5           1            0\n",
              "4  9758.852539     6           0            0\n",
              "5  9771.489258     0           0            0\n",
              "6  9795.700195     1           0            0"
            ]
          },
          "metadata": {
            "tags": []
          },
          "execution_count": 8
        }
      ]
    },
    {
      "cell_type": "markdown",
      "metadata": {
        "id": "fGm_iGF4soL3"
      },
      "source": [
        "### 3.2.2 Up-Trend-, Down-Trend-, and Trend-Duration-Indicator incl. daily price change"
      ]
    },
    {
      "cell_type": "code",
      "metadata": {
        "id": "-v6hqZai0ow_"
      },
      "source": [
        "cc_data['up_trend_indicator'] = 0\n",
        "cc_data['down_trend_indicator'] = 0\n",
        "cc_data['trend_duration_indicator'] = 0\n",
        "cc_data['daily_change'] = 0\n",
        "count = 0\n",
        "for i in range(len(cc_data)):\n",
        "    if i == 0:\n",
        "        #first entry of the time series\n",
        "        cc_data.loc[i,'up_trend_indicator'] = 1\n",
        "        cc_data.loc[i,'down_trend_indicator'] = 1\n",
        "        cc_data.loc[i,'trend_duration_indicator'] = 0\n",
        "        cc_data.loc[i,'daily_change'] = 0   \n",
        "    else:\n",
        "\n",
        "        if (i > 0) and (cc_data.loc[i,'Close'] > cc_data.loc[i-1,'Close']):\n",
        "            cc_data.loc[i,'up_trend_indicator'] = 1\n",
        "            cc_data.loc[i,'down_trend_indicator'] = 0\n",
        "            cc_data.loc[i,'daily_change'] = cc_data.loc[i,'Close'] - cc_data.loc[i-1,'Close']\n",
        "            if (cc_data.loc[i-1,'up_trend_indicator'] == 1):\n",
        "                count += 1\n",
        "                cc_data.loc[i,'trend_duration_indicator'] = count\n",
        "            else:\n",
        "                count = 0\n",
        "\n",
        "        if(i > 0) and (cc_data.loc[i,'Close'] < cc_data.loc[i-1,'Close']):\n",
        "            cc_data.loc[i,'up_trend_indicator'] = 0\n",
        "            cc_data.loc[i,'down_trend_indicator'] = 1\n",
        "            cc_data.loc[i,'daily_change'] = cc_data.loc[i,'Close'] - cc_data.loc[i-1,'Close']\n",
        "            if (cc_data.loc[i-1,'up_trend_indicator'] == 0):\n",
        "                count += 1\n",
        "                cc_data.loc[i,'trend_duration_indicator'] = count\n",
        "            else:\n",
        "                count = 0"
      ],
      "execution_count": null,
      "outputs": []
    },
    {
      "cell_type": "code",
      "metadata": {
        "colab": {
          "base_uri": "https://localhost:8080/",
          "height": 257
        },
        "id": "TzmMqDNy0wBV",
        "outputId": "ab70d0bf-3918-4238-c631-ef2ee8ace7c6"
      },
      "source": [
        "cc_data.loc[0:6,['Date','Close','daily_change','up_trend_indicator','down_trend_indicator','trend_duration_indicator']]"
      ],
      "execution_count": null,
      "outputs": [
        {
          "output_type": "execute_result",
          "data": {
            "text/html": [
              "<div>\n",
              "<style scoped>\n",
              "    .dataframe tbody tr th:only-of-type {\n",
              "        vertical-align: middle;\n",
              "    }\n",
              "\n",
              "    .dataframe tbody tr th {\n",
              "        vertical-align: top;\n",
              "    }\n",
              "\n",
              "    .dataframe thead th {\n",
              "        text-align: right;\n",
              "    }\n",
              "</style>\n",
              "<table border=\"1\" class=\"dataframe\">\n",
              "  <thead>\n",
              "    <tr style=\"text-align: right;\">\n",
              "      <th></th>\n",
              "      <th>Date</th>\n",
              "      <th>Close</th>\n",
              "      <th>daily_change</th>\n",
              "      <th>up_trend_indicator</th>\n",
              "      <th>down_trend_indicator</th>\n",
              "      <th>trend_duration_indicator</th>\n",
              "    </tr>\n",
              "  </thead>\n",
              "  <tbody>\n",
              "    <tr>\n",
              "      <th>0</th>\n",
              "      <td>2020-06-03</td>\n",
              "      <td>9656.717773</td>\n",
              "      <td>0.000000</td>\n",
              "      <td>1</td>\n",
              "      <td>1</td>\n",
              "      <td>0</td>\n",
              "    </tr>\n",
              "    <tr>\n",
              "      <th>1</th>\n",
              "      <td>2020-06-04</td>\n",
              "      <td>9800.636719</td>\n",
              "      <td>143.918945</td>\n",
              "      <td>1</td>\n",
              "      <td>0</td>\n",
              "      <td>1</td>\n",
              "    </tr>\n",
              "    <tr>\n",
              "      <th>2</th>\n",
              "      <td>2020-06-05</td>\n",
              "      <td>9665.533203</td>\n",
              "      <td>-135.103516</td>\n",
              "      <td>0</td>\n",
              "      <td>1</td>\n",
              "      <td>0</td>\n",
              "    </tr>\n",
              "    <tr>\n",
              "      <th>3</th>\n",
              "      <td>2020-06-06</td>\n",
              "      <td>9653.679688</td>\n",
              "      <td>-11.853516</td>\n",
              "      <td>0</td>\n",
              "      <td>1</td>\n",
              "      <td>1</td>\n",
              "    </tr>\n",
              "    <tr>\n",
              "      <th>4</th>\n",
              "      <td>2020-06-07</td>\n",
              "      <td>9758.852539</td>\n",
              "      <td>105.172852</td>\n",
              "      <td>1</td>\n",
              "      <td>0</td>\n",
              "      <td>0</td>\n",
              "    </tr>\n",
              "    <tr>\n",
              "      <th>5</th>\n",
              "      <td>2020-06-08</td>\n",
              "      <td>9771.489258</td>\n",
              "      <td>12.636719</td>\n",
              "      <td>1</td>\n",
              "      <td>0</td>\n",
              "      <td>1</td>\n",
              "    </tr>\n",
              "    <tr>\n",
              "      <th>6</th>\n",
              "      <td>2020-06-09</td>\n",
              "      <td>9795.700195</td>\n",
              "      <td>24.210938</td>\n",
              "      <td>1</td>\n",
              "      <td>0</td>\n",
              "      <td>2</td>\n",
              "    </tr>\n",
              "  </tbody>\n",
              "</table>\n",
              "</div>"
            ],
            "text/plain": [
              "        Date        Close  ...  down_trend_indicator  trend_duration_indicator\n",
              "0 2020-06-03  9656.717773  ...                     1                         0\n",
              "1 2020-06-04  9800.636719  ...                     0                         1\n",
              "2 2020-06-05  9665.533203  ...                     1                         0\n",
              "3 2020-06-06  9653.679688  ...                     1                         1\n",
              "4 2020-06-07  9758.852539  ...                     0                         0\n",
              "5 2020-06-08  9771.489258  ...                     0                         1\n",
              "6 2020-06-09  9795.700195  ...                     0                         2\n",
              "\n",
              "[7 rows x 6 columns]"
            ]
          },
          "metadata": {
            "tags": []
          },
          "execution_count": 10
        }
      ]
    },
    {
      "cell_type": "markdown",
      "metadata": {
        "id": "rRjBr9DR3o83"
      },
      "source": [
        "### 3.2.3 Technical Indicators\n",
        "\n",
        "An implementation of all technical indicators can be found here: [Technical Analysis Library](https://technical-analysis-library-in-python.readthedocs.io/en/latest/ta.html)"
      ]
    },
    {
      "cell_type": "code",
      "metadata": {
        "id": "3aAk3yns4Fdt"
      },
      "source": [
        "cc_data['SMA_7'] = cc_data['Close'].rolling(window=7, min_periods=1).mean()\n",
        "cc_data['SMA_28'] = cc_data['Close'].rolling(window=28, min_periods=1).mean()\n",
        "\n",
        "cc_data['EMA_100'] = cc_data['Close'].ewm(span=100, adjust=False).mean()\n",
        "cc_data['EMA_200'] = cc_data['Close'].ewm(span=200, adjust=False).mean()"
      ],
      "execution_count": null,
      "outputs": []
    },
    {
      "cell_type": "markdown",
      "metadata": {
        "id": "_GkvE-jU_svY"
      },
      "source": [
        "### 3.2.4 Plots\n",
        "\n",
        "Some plots for visualisation."
      ]
    },
    {
      "cell_type": "code",
      "metadata": {
        "colab": {
          "base_uri": "https://localhost:8080/",
          "height": 630
        },
        "id": "ap67c8nd_-V9",
        "outputId": "499b690a-a9ef-4d23-f6e6-3cda22a8f8f6"
      },
      "source": [
        "mpl.rcParams['figure.figsize'] = (21, 10)\n",
        "mpl.rcParams['axes.grid'] = False\n",
        "\n",
        "\n",
        "fig0, ax = plt.subplots()\n",
        "ax.yaxis.set_major_formatter(mpl.ticker.StrMethodFormatter('{x:,.0f}$'))\n",
        "\n",
        "ax.plot(cc_data.loc[:,'Date'], cc_data.loc[:,'Close'], label = 'Close')\n",
        "ax.plot(cc_data.loc[:,'Date'], cc_data.loc[:,'SMA_7'],color=\"YELLOW\", label = 'SMA_7')\n",
        "ax.plot(cc_data.loc[:,'Date'], cc_data.loc[:,'SMA_28'],color=\"Orange\", label = 'SMA_28')\n",
        "ax.scatter(cc_data.loc[cc_data['up_trend_indicator'] == 1]['Date'],\n",
        "           cc_data.loc[cc_data['up_trend_indicator'] == 1]['Close'],\n",
        "           color = \"Green\",\n",
        "           marker = 6)\n",
        "ax.scatter(cc_data.loc[cc_data['up_trend_indicator'] == 0]['Date'],\n",
        "           cc_data.loc[cc_data['up_trend_indicator'] == 0]['Close'],\n",
        "           color = \"Red\" ,\n",
        "           marker = 7)\n",
        "ax.set_title((f'{symbol} from {start_date} to {today}'), fontsize = 20)\n",
        "ax.legend(fontsize=20)"
      ],
      "execution_count": null,
      "outputs": [
        {
          "output_type": "execute_result",
          "data": {
            "text/plain": [
              "<matplotlib.legend.Legend at 0x7f4a97ca2f50>"
            ]
          },
          "metadata": {
            "tags": []
          },
          "execution_count": 12
        },
        {
          "output_type": "display_data",
          "data": {
            "image/png": "[encoded data removed]",
            "text/plain": [
              "<Figure size 1512x720 with 1 Axes>"
            ]
          },
          "metadata": {
            "tags": [],
            "needs_background": "light"
          }
        }
      ]
    },
    {
      "cell_type": "code",
      "metadata": {
        "id": "NUYXm6upx4rM",
        "colab": {
          "base_uri": "https://localhost:8080/",
          "height": 337
        },
        "outputId": "cf4b7424-5db1-4372-fbd0-2573a0e1ebbe"
      },
      "source": [
        "mpl.rcParams['figure.figsize'] = (21, 5)\n",
        "\n",
        "fig1, ax = plt.subplots()\n",
        "\n",
        "ax.bar(cc_data.loc[cc_data['up_trend_indicator'] == 1]['Date'],\n",
        "       (cc_data.loc[cc_data['up_trend_indicator'] == 1]['trend_duration_indicator'])+1, color = 'b', width = 1)\n",
        "ax.bar(cc_data.loc[cc_data['up_trend_indicator'] == 0]['Date'],\n",
        "       ((cc_data.loc[cc_data['up_trend_indicator'] == 0]['trend_duration_indicator'])+1)*-1, color = 'r', width = 1)"
      ],
      "execution_count": null,
      "outputs": [
        {
          "output_type": "execute_result",
          "data": {
            "text/plain": [
              "<BarContainer object of 162 artists>"
            ]
          },
          "metadata": {
            "tags": []
          },
          "execution_count": 14
        },
        {
          "output_type": "display_data",
          "data": {
            "image/png": "[encoded data removed]",
            "text/plain": [
              "<Figure size 1512x360 with 1 Axes>"
            ]
          },
          "metadata": {
            "tags": [],
            "needs_background": "light"
          }
        }
      ]
    },
    {
      "cell_type": "markdown",
      "metadata": {
        "id": "fkwHM6Sy2Bam"
      },
      "source": [
        "## 3.3 Asset-based features\n",
        "\n",
        "Since Cryptocurrencies are no closed market, the movement of different financial assets like gold or stock markets could have an important impact on the Crypto market. It can be tedious to analyze all the different possibilities and work out significant correlations maybe even undiscovered short-term causalities. Precisely these can ultimately account for the competitive advantage in the predictions. But there is no question that patterns change, hence an automated and streamlined process is needed to filter relevant inputs.\n",
        "\n",
        "For example Jaquart et al (2021) are using [MSCI Word returns](https://www.msci.com/real-time-index-data-search), [SNP 500 returns](https://finance.yahoo.com/quote/%5EGSPC?p=%5EGSPC), [Gold returns](https://finance.yahoo.com/quote/GC%3DF?p=GC%3DF), [Crude Oil WTI retruns](https://finance.yahoo.com/quote/CL%3DF?p=CL%3DF), etc.\n"
      ]
    },
    {
      "cell_type": "markdown",
      "metadata": {
        "id": "jBzz5ET2eLFy"
      },
      "source": [
        "## 3.4  Blockchain-based features\n",
        "\n",
        "Many blockchain-based features are freely available at [bitinfocharts.com/bitcoin/](https://bitinfocharts.com/bitcoin/). Following are some examples:\n",
        "\n",
        "*   **Transactions:** The number of sent and received Bitcoin payments\n",
        "*   **Block size:** Transactional information cryptographically linked in the blockchain.\n",
        "*   **Block time:** The time required to mine one block.\n",
        "*   **Hashrate:** The daily total computational capacity of the Bitcoin network.\n",
        "*   **Difficulty:** The daily average mining difficulty. The difficulty is computed by the network   after a specified number of blocks have been created so that the time it requires\n",
        "to mine a block remains around 10 min\n",
        "*   **Median transaction value:** The median value of the transactions in Bitcoin\n",
        "*   **Avg. transaction value:** The Average value of the transactions in Bitcoin\n",
        "*   **Median transaction fee:** The median of transaction fees in Bitcoin\n",
        "*   **Avg. transaction fee:** The average of transaction fees in Bitcoin\n",
        "*   **etc.**\n",
        "\n"
      ]
    },
    {
      "cell_type": "markdown",
      "metadata": {
        "id": "e2XZMZcNyzJs"
      },
      "source": [
        "## 3.5 Sentiment- and interest-based features\n"
      ]
    },
    {
      "cell_type": "markdown",
      "metadata": {
        "id": "-l3Du0IJxuYE"
      },
      "source": [
        "### 3.5.1 Crypto Fear & Greed Index\n",
        "\n",
        "The crypto market behaviour is very emotional. People tend to get greedy when the market is rising which results in FOMO (Fear of missing out). Also, people often sell their coins in irrational reaction of seeing red numbers. \n",
        "\n",
        "A source for the Fear & Greed Index can be for example [alternative.me/crypto/api/](https://alternative.me/crypto/api/). The composition of the index inputs is documented here: [alternative.me/crypto/fear-and-greed-index/](https://alternative.me/crypto/fear-and-greed-index/).\n",
        "\n",
        "<img src=\"https://alternative.me/crypto/fear-and-greed-index.png\" width=\"400\" alt=\"Latest Crypto Fear & Greed Index\" />\n"
      ]
    },
    {
      "cell_type": "markdown",
      "metadata": {
        "id": "Z0JZCHpC6w1D"
      },
      "source": [
        "### 3.5.2 Twitter\n",
        "\n",
        "As described by Symeonidis et al (2018) and used by Jaquart et al (2021) the sentiment and further the strength of emotion in regards to bitcoin can be estimated and extracted from tweets via Natural Language Processing. Jaquart et al (2021) used [Google Natural Language API](https://cloud.google.com/natural-language/docs).\n",
        "\n",
        "Another feature is [Tweets per day](https://bitinfocharts.com/comparison/bitcoin-tweets.html) count for #Bitcoin.\n",
        "\n",
        "\n",
        "\n",
        "\n",
        "\n",
        "\n"
      ]
    }
  ]
}