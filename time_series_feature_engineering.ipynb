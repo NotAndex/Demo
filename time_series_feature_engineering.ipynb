{
  "nbformat": 4,
  "nbformat_minor": 0,
  "metadata": {
    "colab": {
      "name": "time_series_feature_engineering.ipynb",
      "provenance": [],
      "collapsed_sections": [],
      "authorship_tag": "ABX9TyOfA02qKB5mWL9Gk7lH/v4j",
      "include_colab_link": true
    },
    "kernelspec": {
      "name": "python3",
      "display_name": "Python 3"
    },
    "language_info": {
      "name": "python"
    }
  },
  "cells": [
    {
      "cell_type": "markdown",
      "metadata": {
        "id": "view-in-github",
        "colab_type": "text"
      },
      "source": [
        "<a href=\"https://colab.research.google.com/github/NotAndex/Demo/blob/main/time_series_feature_engineering.ipynb\" target=\"_parent\"><img src=\"https://colab.research.google.com/assets/colab-badge.svg\" alt=\"Open In Colab\"/></a>"
      ]
    },
    {
      "cell_type": "markdown",
      "metadata": {
        "id": "Lo75g1ZbQmpI"
      },
      "source": [
        "# 0"
      ]
    },
    {
      "cell_type": "markdown",
      "metadata": {
        "id": "1HCRiazZQpbo"
      },
      "source": [
        "# 1 Setup\n"
      ]
    },
    {
      "cell_type": "code",
      "metadata": {
        "id": "P2Lj1rXJRGP6"
      },
      "source": [
        "!pip install yfinance\n",
        "import yfinance as yf\n",
        "\n",
        "import numpy as np\n",
        "import pandas as pd\n",
        "import datetime\n",
        "\n",
        "from tensorflow.keras.utils import to_categorical"
      ],
      "execution_count": null,
      "outputs": []
    },
    {
      "cell_type": "markdown",
      "metadata": {
        "id": "tIaAHbdNQz2C"
      },
      "source": [
        "# 2 Data"
      ]
    },
    {
      "cell_type": "code",
      "metadata": {
        "id": "y1Aw_OdrSTcL"
      },
      "source": [
        "today = datetime.date.today()\n",
        "start_date = today - datetime.timedelta(days=365*3)\n",
        "symbol = 'BTC-USD'\n",
        "\n",
        "cc_data = yf.download(symbol, start=start_date, end=today)\n",
        "cc_data.reset_index(inplace=True,col_fill=('Date'))"
      ],
      "execution_count": null,
      "outputs": []
    },
    {
      "cell_type": "markdown",
      "metadata": {
        "id": "MQnbgfJ0Q-Cq"
      },
      "source": [
        "#3 Feature engineering examples"
      ]
    },
    {
      "cell_type": "markdown",
      "metadata": {
        "id": "JP12UkVESp2D"
      },
      "source": [
        "## 3.1 Date dependent features"
      ]
    },
    {
      "cell_type": "code",
      "metadata": {
        "id": "gmifnnsIX51s",
        "outputId": "1d9974ec-1f43-4239-e227-4781349746b8",
        "colab": {
          "base_uri": "https://localhost:8080/",
          "height": 227
        }
      },
      "source": [
        "cc_data['year'] = cc_data['Date'].dt.year \n",
        "cc_data['quarter'] = cc_data['Date'].dt.quarter \n",
        "cc_data['month'] = cc_data['Date'].dt.month \n",
        "cc_data['week'] = cc_data['Date'].dt.isocalendar().week \n",
        "cc_data['day'] = cc_data['Date'].dt.day\n",
        "cc_data['wday'] = cc_data['Date'].dt.dayofweek\n",
        "\n",
        "cc_data.loc[0:5,:]"
      ],
      "execution_count": 33,
      "outputs": [
        {
          "output_type": "execute_result",
          "data": {
            "text/html": [
              "<div>\n",
              "<style scoped>\n",
              "    .dataframe tbody tr th:only-of-type {\n",
              "        vertical-align: middle;\n",
              "    }\n",
              "\n",
              "    .dataframe tbody tr th {\n",
              "        vertical-align: top;\n",
              "    }\n",
              "\n",
              "    .dataframe thead th {\n",
              "        text-align: right;\n",
              "    }\n",
              "</style>\n",
              "<table border=\"1\" class=\"dataframe\">\n",
              "  <thead>\n",
              "    <tr style=\"text-align: right;\">\n",
              "      <th></th>\n",
              "      <th>Date</th>\n",
              "      <th>Open</th>\n",
              "      <th>High</th>\n",
              "      <th>Low</th>\n",
              "      <th>Close</th>\n",
              "      <th>Adj Close</th>\n",
              "      <th>Volume</th>\n",
              "      <th>year</th>\n",
              "      <th>quarter</th>\n",
              "      <th>month</th>\n",
              "      <th>week</th>\n",
              "      <th>day</th>\n",
              "      <th>wday</th>\n",
              "    </tr>\n",
              "  </thead>\n",
              "  <tbody>\n",
              "    <tr>\n",
              "      <th>0</th>\n",
              "      <td>2018-06-03</td>\n",
              "      <td>7632.089844</td>\n",
              "      <td>7754.890137</td>\n",
              "      <td>7613.040039</td>\n",
              "      <td>7720.250000</td>\n",
              "      <td>7720.250000</td>\n",
              "      <td>4851760128</td>\n",
              "      <td>2018</td>\n",
              "      <td>2</td>\n",
              "      <td>6</td>\n",
              "      <td>22</td>\n",
              "      <td>3</td>\n",
              "      <td>6</td>\n",
              "    </tr>\n",
              "    <tr>\n",
              "      <th>1</th>\n",
              "      <td>2018-06-04</td>\n",
              "      <td>7722.529785</td>\n",
              "      <td>7753.819824</td>\n",
              "      <td>7474.040039</td>\n",
              "      <td>7514.470215</td>\n",
              "      <td>7514.470215</td>\n",
              "      <td>4993169920</td>\n",
              "      <td>2018</td>\n",
              "      <td>2</td>\n",
              "      <td>6</td>\n",
              "      <td>23</td>\n",
              "      <td>4</td>\n",
              "      <td>0</td>\n",
              "    </tr>\n",
              "    <tr>\n",
              "      <th>2</th>\n",
              "      <td>2018-06-05</td>\n",
              "      <td>7500.899902</td>\n",
              "      <td>7643.229980</td>\n",
              "      <td>7397.000000</td>\n",
              "      <td>7633.759766</td>\n",
              "      <td>7633.759766</td>\n",
              "      <td>4961739776</td>\n",
              "      <td>2018</td>\n",
              "      <td>2</td>\n",
              "      <td>6</td>\n",
              "      <td>23</td>\n",
              "      <td>5</td>\n",
              "      <td>1</td>\n",
              "    </tr>\n",
              "    <tr>\n",
              "      <th>3</th>\n",
              "      <td>2018-06-06</td>\n",
              "      <td>7625.970215</td>\n",
              "      <td>7680.430176</td>\n",
              "      <td>7502.009766</td>\n",
              "      <td>7653.979980</td>\n",
              "      <td>7653.979980</td>\n",
              "      <td>4692259840</td>\n",
              "      <td>2018</td>\n",
              "      <td>2</td>\n",
              "      <td>6</td>\n",
              "      <td>23</td>\n",
              "      <td>6</td>\n",
              "      <td>2</td>\n",
              "    </tr>\n",
              "    <tr>\n",
              "      <th>4</th>\n",
              "      <td>2018-06-07</td>\n",
              "      <td>7650.819824</td>\n",
              "      <td>7741.270020</td>\n",
              "      <td>7650.819824</td>\n",
              "      <td>7678.240234</td>\n",
              "      <td>7678.240234</td>\n",
              "      <td>4485799936</td>\n",
              "      <td>2018</td>\n",
              "      <td>2</td>\n",
              "      <td>6</td>\n",
              "      <td>23</td>\n",
              "      <td>7</td>\n",
              "      <td>3</td>\n",
              "    </tr>\n",
              "    <tr>\n",
              "      <th>5</th>\n",
              "      <td>2018-06-08</td>\n",
              "      <td>7685.140137</td>\n",
              "      <td>7698.189941</td>\n",
              "      <td>7558.399902</td>\n",
              "      <td>7624.919922</td>\n",
              "      <td>7624.919922</td>\n",
              "      <td>4227579904</td>\n",
              "      <td>2018</td>\n",
              "      <td>2</td>\n",
              "      <td>6</td>\n",
              "      <td>23</td>\n",
              "      <td>8</td>\n",
              "      <td>4</td>\n",
              "    </tr>\n",
              "  </tbody>\n",
              "</table>\n",
              "</div>"
            ],
            "text/plain": [
              "        Date         Open         High          Low  ...  month  week  day  wday\n",
              "0 2018-06-03  7632.089844  7754.890137  7613.040039  ...      6    22    3     6\n",
              "1 2018-06-04  7722.529785  7753.819824  7474.040039  ...      6    23    4     0\n",
              "2 2018-06-05  7500.899902  7643.229980  7397.000000  ...      6    23    5     1\n",
              "3 2018-06-06  7625.970215  7680.430176  7502.009766  ...      6    23    6     2\n",
              "4 2018-06-07  7650.819824  7741.270020  7650.819824  ...      6    23    7     3\n",
              "5 2018-06-08  7685.140137  7698.189941  7558.399902  ...      6    23    8     4\n",
              "\n",
              "[6 rows x 13 columns]"
            ]
          },
          "metadata": {
            "tags": []
          },
          "execution_count": 33
        }
      ]
    },
    {
      "cell_type": "markdown",
      "metadata": {
        "id": "UuONd0wi5AVm"
      },
      "source": [
        "Since there is no predetermined (ordinal) relationship in the relevance of days or months we can encode its representation nominal via One-Hot encoding. Forcing an ordinal relationship via an ordinal encoding and allowing the model to assume a natural ordering between categories may result in poor performance or unexpected results (predictions halfway between categories)."
      ]
    },
    {
      "cell_type": "code",
      "metadata": {
        "id": "REo4DoCacHtk"
      },
      "source": [
        "monthCat = pd.DataFrame(to_categorical(cc_data.loc[:,['month']]))\n",
        "cc_data = pd.concat([cc_data,monthCat.loc[:,1:]],axis=1)\n",
        "\n",
        "dayCat = pd.DataFrame(to_categorical(cc_data.loc[:,['wday']]),\n",
        "                          columns=[\"Monday\",\"Tuesday\",\"Wednesday\",\"Thursday\",\"Friday\",\"Saturday\",\"Sunday\"])\n",
        "cc_data = pd.concat([cc_data,dayCat],axis=1)"
      ],
      "execution_count": 34,
      "outputs": []
    },
    {
      "cell_type": "code",
      "metadata": {
        "id": "V-NyKxJXE4cn",
        "outputId": "e3ff4dd9-b0ce-4f19-ddd1-663acacaf46f",
        "colab": {
          "base_uri": "https://localhost:8080/",
          "height": 257
        }
      },
      "source": [
        "cc_data.loc[0:6,[\"wday\",\"Monday\",\"Tuesday\",\"Wednesday\",\"Thursday\",\"Friday\",\"Saturday\",\"Sunday\"]]"
      ],
      "execution_count": 35,
      "outputs": [
        {
          "output_type": "execute_result",
          "data": {
            "text/html": [
              "<div>\n",
              "<style scoped>\n",
              "    .dataframe tbody tr th:only-of-type {\n",
              "        vertical-align: middle;\n",
              "    }\n",
              "\n",
              "    .dataframe tbody tr th {\n",
              "        vertical-align: top;\n",
              "    }\n",
              "\n",
              "    .dataframe thead th {\n",
              "        text-align: right;\n",
              "    }\n",
              "</style>\n",
              "<table border=\"1\" class=\"dataframe\">\n",
              "  <thead>\n",
              "    <tr style=\"text-align: right;\">\n",
              "      <th></th>\n",
              "      <th>wday</th>\n",
              "      <th>Monday</th>\n",
              "      <th>Tuesday</th>\n",
              "      <th>Wednesday</th>\n",
              "      <th>Thursday</th>\n",
              "      <th>Friday</th>\n",
              "      <th>Saturday</th>\n",
              "      <th>Sunday</th>\n",
              "    </tr>\n",
              "  </thead>\n",
              "  <tbody>\n",
              "    <tr>\n",
              "      <th>0</th>\n",
              "      <td>6</td>\n",
              "      <td>0.0</td>\n",
              "      <td>0.0</td>\n",
              "      <td>0.0</td>\n",
              "      <td>0.0</td>\n",
              "      <td>0.0</td>\n",
              "      <td>0.0</td>\n",
              "      <td>1.0</td>\n",
              "    </tr>\n",
              "    <tr>\n",
              "      <th>1</th>\n",
              "      <td>0</td>\n",
              "      <td>1.0</td>\n",
              "      <td>0.0</td>\n",
              "      <td>0.0</td>\n",
              "      <td>0.0</td>\n",
              "      <td>0.0</td>\n",
              "      <td>0.0</td>\n",
              "      <td>0.0</td>\n",
              "    </tr>\n",
              "    <tr>\n",
              "      <th>2</th>\n",
              "      <td>1</td>\n",
              "      <td>0.0</td>\n",
              "      <td>1.0</td>\n",
              "      <td>0.0</td>\n",
              "      <td>0.0</td>\n",
              "      <td>0.0</td>\n",
              "      <td>0.0</td>\n",
              "      <td>0.0</td>\n",
              "    </tr>\n",
              "    <tr>\n",
              "      <th>3</th>\n",
              "      <td>2</td>\n",
              "      <td>0.0</td>\n",
              "      <td>0.0</td>\n",
              "      <td>1.0</td>\n",
              "      <td>0.0</td>\n",
              "      <td>0.0</td>\n",
              "      <td>0.0</td>\n",
              "      <td>0.0</td>\n",
              "    </tr>\n",
              "    <tr>\n",
              "      <th>4</th>\n",
              "      <td>3</td>\n",
              "      <td>0.0</td>\n",
              "      <td>0.0</td>\n",
              "      <td>0.0</td>\n",
              "      <td>1.0</td>\n",
              "      <td>0.0</td>\n",
              "      <td>0.0</td>\n",
              "      <td>0.0</td>\n",
              "    </tr>\n",
              "    <tr>\n",
              "      <th>5</th>\n",
              "      <td>4</td>\n",
              "      <td>0.0</td>\n",
              "      <td>0.0</td>\n",
              "      <td>0.0</td>\n",
              "      <td>0.0</td>\n",
              "      <td>1.0</td>\n",
              "      <td>0.0</td>\n",
              "      <td>0.0</td>\n",
              "    </tr>\n",
              "    <tr>\n",
              "      <th>6</th>\n",
              "      <td>5</td>\n",
              "      <td>0.0</td>\n",
              "      <td>0.0</td>\n",
              "      <td>0.0</td>\n",
              "      <td>0.0</td>\n",
              "      <td>0.0</td>\n",
              "      <td>1.0</td>\n",
              "      <td>0.0</td>\n",
              "    </tr>\n",
              "  </tbody>\n",
              "</table>\n",
              "</div>"
            ],
            "text/plain": [
              "   wday  Monday  Tuesday  Wednesday  Thursday  Friday  Saturday  Sunday\n",
              "0     6     0.0      0.0        0.0       0.0     0.0       0.0     1.0\n",
              "1     0     1.0      0.0        0.0       0.0     0.0       0.0     0.0\n",
              "2     1     0.0      1.0        0.0       0.0     0.0       0.0     0.0\n",
              "3     2     0.0      0.0        1.0       0.0     0.0       0.0     0.0\n",
              "4     3     0.0      0.0        0.0       1.0     0.0       0.0     0.0\n",
              "5     4     0.0      0.0        0.0       0.0     1.0       0.0     0.0\n",
              "6     5     0.0      0.0        0.0       0.0     0.0       1.0     0.0"
            ]
          },
          "metadata": {
            "tags": []
          },
          "execution_count": 35
        }
      ]
    },
    {
      "cell_type": "markdown",
      "metadata": {
        "id": "M9cZhkBbTWar"
      },
      "source": [
        "# 3.2 Technical features (Indicators **$f_{x}$**)"
      ]
    },
    {
      "cell_type": "code",
      "metadata": {
        "id": "KpgWlwvr4wrv"
      },
      "source": [
        ""
      ],
      "execution_count": null,
      "outputs": []
    },
    {
      "cell_type": "markdown",
      "metadata": {
        "id": "MrxXBlO4TWkS"
      },
      "source": [
        "# 3.3 External Features\n",
        "e.g Sentinment"
      ]
    }
  ]
}