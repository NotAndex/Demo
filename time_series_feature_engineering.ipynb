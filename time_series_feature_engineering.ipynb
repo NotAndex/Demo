{
  "nbformat": 4,
  "nbformat_minor": 0,
  "metadata": {
    "colab": {
      "name": "time_series_feature_engineering.ipynb",
      "provenance": [],
      "collapsed_sections": [],
      "toc_visible": true,
      "authorship_tag": "ABX9TyO1v5RczDpVoEd5UvH9eFdg",
      "include_colab_link": true
    },
    "kernelspec": {
      "name": "python3",
      "display_name": "Python 3"
    },
    "language_info": {
      "name": "python"
    }
  },
  "cells": [
    {
      "cell_type": "markdown",
      "metadata": {
        "id": "view-in-github",
        "colab_type": "text"
      },
      "source": [
        "<a href=\"https://colab.research.google.com/github/NotAndex/Demo/blob/main/time_series_feature_engineering.ipynb\" target=\"_parent\"><img src=\"https://colab.research.google.com/assets/colab-badge.svg\" alt=\"Open In Colab\"/></a>"
      ]
    },
    {
      "cell_type": "markdown",
      "metadata": {
        "id": "Lo75g1ZbQmpI"
      },
      "source": [
        "# 0 Preamble\n",
        "---\n",
        "\n",
        "<table class=\"tfo-notebook-buttons\" align=\"left\">\n",
        "  <td>\n",
        "    <a target=\"_blank\" href=\"https://github.com/NotAndex/Demo/blob/main/time_series_feature_engineering.ipynb\"><img src=\"https://github.com/NotAndex/Demo/blob/main/images/GitHub-Mark-32px.png?raw=true\" />View this code on GitHub.com</a>\n",
        "  </td>\n",
        "\n",
        "  <td>\n",
        "    <a target=\"_blank\" href=\"https://github.com/NotAndex/Demo/blob/main/scientific_sources.md\"><img src=\"https://github.com/NotAndex/Demo/blob/main/images/GitHub-Mark-32px.png?raw=true\" />View scientific sources on GitHub.com</a>\n",
        "  </td>\n",
        "\n",
        "\n",
        "</table>\n"
      ]
    },
    {
      "cell_type": "markdown",
      "metadata": {
        "id": "1HCRiazZQpbo"
      },
      "source": [
        "# 1 Setup\n",
        "---\n"
      ]
    },
    {
      "cell_type": "code",
      "metadata": {
        "id": "P2Lj1rXJRGP6"
      },
      "source": [
        "!pip install yfinance\n",
        "import yfinance as yf\n",
        "\n",
        "import numpy as np\n",
        "import pandas as pd\n",
        "import matplotlib.pyplot as plt\n",
        "import matplotlib as mpl\n",
        "import datetime\n",
        "\n",
        "from tensorflow.keras.utils import to_categorical\n",
        "\n",
        "import IPython\n",
        "import IPython.display\n",
        "IPython.display.clear_output()"
      ],
      "execution_count": 71,
      "outputs": []
    },
    {
      "cell_type": "markdown",
      "metadata": {
        "id": "tIaAHbdNQz2C"
      },
      "source": [
        "# 2 Data\n",
        "---"
      ]
    },
    {
      "cell_type": "code",
      "metadata": {
        "id": "y1Aw_OdrSTcL"
      },
      "source": [
        "today = datetime.date.today()\n",
        "start_date = today - datetime.timedelta(days=365)\n",
        "symbol = 'BTC-USD'\n",
        "\n",
        "cc_data = yf.download(symbol, start=start_date, end=today)\n",
        "cc_data.reset_index(inplace=True,col_fill=('Date'))"
      ],
      "execution_count": null,
      "outputs": []
    },
    {
      "cell_type": "markdown",
      "metadata": {
        "id": "MQnbgfJ0Q-Cq"
      },
      "source": [
        "#3 Feature engineering\n",
        "---\n",
        "\n",
        "In regards to Bitcoin data, Jaquart et al. (2020) defined five feature categories: \n",
        "* Technical features\n",
        "* Asset-based features\n",
        "* Blockchain-based features\n",
        "* Sentiment- and interest-based features\n",
        "\n",
        "* Other features\n",
        "\n",
        "For all raw features of these categories, Technical indicators can be engineered. technical\n",
        "indicators show properties that are not readily found in the raw features. For Example  Simple Moving Average (SMA), Exponential Moving Average\n",
        "(EMA), Standard Deviation (STD) and, Variance\n",
        "(VAR) etc. for Bitcoin Close Price or Volume for a given horizon (1d, 7d, 30d, 90d). Same for raw Blockchain-based features like Hashrate or Block time etc.\n",
        "\n"
      ]
    },
    {
      "cell_type": "markdown",
      "metadata": {
        "id": "JP12UkVESp2D"
      },
      "source": [
        "## 3.1 Date dependent features\n",
        "---\n",
        "\n",
        "Most of the time one piece of information of time series is neglected. That is the information that is inherent in the date or timestamp. For example end of the week, the days before, after, or holidays themselves, and many more patterns of seasonality."
      ]
    },
    {
      "cell_type": "code",
      "metadata": {
        "id": "gmifnnsIX51s",
        "colab": {
          "base_uri": "https://localhost:8080/",
          "height": 232
        },
        "outputId": "8ac2ab29-e1c2-4d78-88dd-6c0d724ccdd1"
      },
      "source": [
        "cc_data['year'] = cc_data['Date'].dt.year \n",
        "cc_data['quarter'] = cc_data['Date'].dt.quarter \n",
        "cc_data['month'] = cc_data['Date'].dt.month \n",
        "cc_data['week'] = cc_data['Date'].dt.isocalendar().week \n",
        "cc_data['day'] = cc_data['Date'].dt.day\n",
        "cc_data['wday'] = cc_data['Date'].dt.dayofweek\n",
        "\n",
        "cc_data.loc[0:5,:]"
      ],
      "execution_count": 73,
      "outputs": [
        {
          "output_type": "execute_result",
          "data": {
            "text/html": [
              "<div>\n",
              "<style scoped>\n",
              "    .dataframe tbody tr th:only-of-type {\n",
              "        vertical-align: middle;\n",
              "    }\n",
              "\n",
              "    .dataframe tbody tr th {\n",
              "        vertical-align: top;\n",
              "    }\n",
              "\n",
              "    .dataframe thead th {\n",
              "        text-align: right;\n",
              "    }\n",
              "</style>\n",
              "<table border=\"1\" class=\"dataframe\">\n",
              "  <thead>\n",
              "    <tr style=\"text-align: right;\">\n",
              "      <th></th>\n",
              "      <th>Date</th>\n",
              "      <th>Open</th>\n",
              "      <th>High</th>\n",
              "      <th>Low</th>\n",
              "      <th>Close</th>\n",
              "      <th>Adj Close</th>\n",
              "      <th>Volume</th>\n",
              "      <th>year</th>\n",
              "      <th>quarter</th>\n",
              "      <th>month</th>\n",
              "      <th>week</th>\n",
              "      <th>day</th>\n",
              "      <th>wday</th>\n",
              "    </tr>\n",
              "  </thead>\n",
              "  <tbody>\n",
              "    <tr>\n",
              "      <th>0</th>\n",
              "      <td>2020-07-27</td>\n",
              "      <td>9905.217773</td>\n",
              "      <td>11298.221680</td>\n",
              "      <td>9903.969727</td>\n",
              "      <td>10990.873047</td>\n",
              "      <td>10990.873047</td>\n",
              "      <td>35359749590</td>\n",
              "      <td>2020</td>\n",
              "      <td>3</td>\n",
              "      <td>7</td>\n",
              "      <td>31</td>\n",
              "      <td>27</td>\n",
              "      <td>0</td>\n",
              "    </tr>\n",
              "    <tr>\n",
              "      <th>1</th>\n",
              "      <td>2020-07-28</td>\n",
              "      <td>11017.463867</td>\n",
              "      <td>11204.327148</td>\n",
              "      <td>10632.631836</td>\n",
              "      <td>10912.823242</td>\n",
              "      <td>10912.823242</td>\n",
              "      <td>28766551142</td>\n",
              "      <td>2020</td>\n",
              "      <td>3</td>\n",
              "      <td>7</td>\n",
              "      <td>31</td>\n",
              "      <td>28</td>\n",
              "      <td>1</td>\n",
              "    </tr>\n",
              "    <tr>\n",
              "      <th>2</th>\n",
              "      <td>2020-07-29</td>\n",
              "      <td>10912.953125</td>\n",
              "      <td>11304.397461</td>\n",
              "      <td>10856.141602</td>\n",
              "      <td>11100.467773</td>\n",
              "      <td>11100.467773</td>\n",
              "      <td>24617249715</td>\n",
              "      <td>2020</td>\n",
              "      <td>3</td>\n",
              "      <td>7</td>\n",
              "      <td>31</td>\n",
              "      <td>29</td>\n",
              "      <td>2</td>\n",
              "    </tr>\n",
              "    <tr>\n",
              "      <th>3</th>\n",
              "      <td>2020-07-30</td>\n",
              "      <td>11099.833008</td>\n",
              "      <td>11169.356445</td>\n",
              "      <td>10895.455078</td>\n",
              "      <td>11111.213867</td>\n",
              "      <td>11111.213867</td>\n",
              "      <td>22857247901</td>\n",
              "      <td>2020</td>\n",
              "      <td>3</td>\n",
              "      <td>7</td>\n",
              "      <td>31</td>\n",
              "      <td>30</td>\n",
              "      <td>3</td>\n",
              "    </tr>\n",
              "    <tr>\n",
              "      <th>4</th>\n",
              "      <td>2020-07-31</td>\n",
              "      <td>11110.210938</td>\n",
              "      <td>11415.864258</td>\n",
              "      <td>10987.053711</td>\n",
              "      <td>11323.466797</td>\n",
              "      <td>11323.466797</td>\n",
              "      <td>23160469766</td>\n",
              "      <td>2020</td>\n",
              "      <td>3</td>\n",
              "      <td>7</td>\n",
              "      <td>31</td>\n",
              "      <td>31</td>\n",
              "      <td>4</td>\n",
              "    </tr>\n",
              "    <tr>\n",
              "      <th>5</th>\n",
              "      <td>2020-08-01</td>\n",
              "      <td>11322.570312</td>\n",
              "      <td>11794.775391</td>\n",
              "      <td>11239.682617</td>\n",
              "      <td>11759.592773</td>\n",
              "      <td>11759.592773</td>\n",
              "      <td>26075670303</td>\n",
              "      <td>2020</td>\n",
              "      <td>3</td>\n",
              "      <td>8</td>\n",
              "      <td>31</td>\n",
              "      <td>1</td>\n",
              "      <td>5</td>\n",
              "    </tr>\n",
              "  </tbody>\n",
              "</table>\n",
              "</div>"
            ],
            "text/plain": [
              "        Date          Open          High           Low  ...  month  week  day  wday\n",
              "0 2020-07-27   9905.217773  11298.221680   9903.969727  ...      7    31   27     0\n",
              "1 2020-07-28  11017.463867  11204.327148  10632.631836  ...      7    31   28     1\n",
              "2 2020-07-29  10912.953125  11304.397461  10856.141602  ...      7    31   29     2\n",
              "3 2020-07-30  11099.833008  11169.356445  10895.455078  ...      7    31   30     3\n",
              "4 2020-07-31  11110.210938  11415.864258  10987.053711  ...      7    31   31     4\n",
              "5 2020-08-01  11322.570312  11794.775391  11239.682617  ...      8    31    1     5\n",
              "\n",
              "[6 rows x 13 columns]"
            ]
          },
          "metadata": {
            "tags": []
          },
          "execution_count": 73
        }
      ]
    },
    {
      "cell_type": "markdown",
      "metadata": {
        "id": "UuONd0wi5AVm"
      },
      "source": [
        "Since there is no predetermined (ordinal) relationship in the relevance of days or months we can encode its representation nominal via One-Hot encoding. Forcing an ordinal relationship with ordinal encoding and allowing the model to assume a natural ordering between categories may result in poor performance or unexpected results (predictions halfway between categories)."
      ]
    },
    {
      "cell_type": "code",
      "metadata": {
        "id": "REo4DoCacHtk"
      },
      "source": [
        "monthCat = pd.DataFrame(to_categorical(cc_data.loc[:,['month']]))\n",
        "cc_data = pd.concat([cc_data,monthCat.loc[:,1:]],axis=1)\n",
        "\n",
        "dayCat = pd.DataFrame(to_categorical(cc_data.loc[:,['wday']]),\n",
        "                          columns=[\"Monday\",\"Tuesday\",\"Wednesday\",\"Thursday\",\"Friday\",\"Saturday\",\"Sunday\"])\n",
        "cc_data = pd.concat([cc_data,dayCat],axis=1)"
      ],
      "execution_count": 74,
      "outputs": []
    },
    {
      "cell_type": "code",
      "metadata": {
        "id": "V-NyKxJXE4cn",
        "colab": {
          "base_uri": "https://localhost:8080/",
          "height": 263
        },
        "outputId": "6ee58ad4-c930-47c7-c310-3ecc0cd996e7"
      },
      "source": [
        "cc_data.loc[0:6,[\"wday\",\"Monday\",\"Tuesday\",\"Wednesday\",\"Thursday\",\"Friday\",\"Saturday\",\"Sunday\"]]"
      ],
      "execution_count": 75,
      "outputs": [
        {
          "output_type": "execute_result",
          "data": {
            "text/html": [
              "<div>\n",
              "<style scoped>\n",
              "    .dataframe tbody tr th:only-of-type {\n",
              "        vertical-align: middle;\n",
              "    }\n",
              "\n",
              "    .dataframe tbody tr th {\n",
              "        vertical-align: top;\n",
              "    }\n",
              "\n",
              "    .dataframe thead th {\n",
              "        text-align: right;\n",
              "    }\n",
              "</style>\n",
              "<table border=\"1\" class=\"dataframe\">\n",
              "  <thead>\n",
              "    <tr style=\"text-align: right;\">\n",
              "      <th></th>\n",
              "      <th>wday</th>\n",
              "      <th>Monday</th>\n",
              "      <th>Tuesday</th>\n",
              "      <th>Wednesday</th>\n",
              "      <th>Thursday</th>\n",
              "      <th>Friday</th>\n",
              "      <th>Saturday</th>\n",
              "      <th>Sunday</th>\n",
              "    </tr>\n",
              "  </thead>\n",
              "  <tbody>\n",
              "    <tr>\n",
              "      <th>0</th>\n",
              "      <td>0</td>\n",
              "      <td>1.0</td>\n",
              "      <td>0.0</td>\n",
              "      <td>0.0</td>\n",
              "      <td>0.0</td>\n",
              "      <td>0.0</td>\n",
              "      <td>0.0</td>\n",
              "      <td>0.0</td>\n",
              "    </tr>\n",
              "    <tr>\n",
              "      <th>1</th>\n",
              "      <td>1</td>\n",
              "      <td>0.0</td>\n",
              "      <td>1.0</td>\n",
              "      <td>0.0</td>\n",
              "      <td>0.0</td>\n",
              "      <td>0.0</td>\n",
              "      <td>0.0</td>\n",
              "      <td>0.0</td>\n",
              "    </tr>\n",
              "    <tr>\n",
              "      <th>2</th>\n",
              "      <td>2</td>\n",
              "      <td>0.0</td>\n",
              "      <td>0.0</td>\n",
              "      <td>1.0</td>\n",
              "      <td>0.0</td>\n",
              "      <td>0.0</td>\n",
              "      <td>0.0</td>\n",
              "      <td>0.0</td>\n",
              "    </tr>\n",
              "    <tr>\n",
              "      <th>3</th>\n",
              "      <td>3</td>\n",
              "      <td>0.0</td>\n",
              "      <td>0.0</td>\n",
              "      <td>0.0</td>\n",
              "      <td>1.0</td>\n",
              "      <td>0.0</td>\n",
              "      <td>0.0</td>\n",
              "      <td>0.0</td>\n",
              "    </tr>\n",
              "    <tr>\n",
              "      <th>4</th>\n",
              "      <td>4</td>\n",
              "      <td>0.0</td>\n",
              "      <td>0.0</td>\n",
              "      <td>0.0</td>\n",
              "      <td>0.0</td>\n",
              "      <td>1.0</td>\n",
              "      <td>0.0</td>\n",
              "      <td>0.0</td>\n",
              "    </tr>\n",
              "    <tr>\n",
              "      <th>5</th>\n",
              "      <td>5</td>\n",
              "      <td>0.0</td>\n",
              "      <td>0.0</td>\n",
              "      <td>0.0</td>\n",
              "      <td>0.0</td>\n",
              "      <td>0.0</td>\n",
              "      <td>1.0</td>\n",
              "      <td>0.0</td>\n",
              "    </tr>\n",
              "    <tr>\n",
              "      <th>6</th>\n",
              "      <td>6</td>\n",
              "      <td>0.0</td>\n",
              "      <td>0.0</td>\n",
              "      <td>0.0</td>\n",
              "      <td>0.0</td>\n",
              "      <td>0.0</td>\n",
              "      <td>0.0</td>\n",
              "      <td>1.0</td>\n",
              "    </tr>\n",
              "  </tbody>\n",
              "</table>\n",
              "</div>"
            ],
            "text/plain": [
              "   wday  Monday  Tuesday  Wednesday  Thursday  Friday  Saturday  Sunday\n",
              "0     0     1.0      0.0        0.0       0.0     0.0       0.0     0.0\n",
              "1     1     0.0      1.0        0.0       0.0     0.0       0.0     0.0\n",
              "2     2     0.0      0.0        1.0       0.0     0.0       0.0     0.0\n",
              "3     3     0.0      0.0        0.0       1.0     0.0       0.0     0.0\n",
              "4     4     0.0      0.0        0.0       0.0     1.0       0.0     0.0\n",
              "5     5     0.0      0.0        0.0       0.0     0.0       1.0     0.0\n",
              "6     6     0.0      0.0        0.0       0.0     0.0       0.0     1.0"
            ]
          },
          "metadata": {
            "tags": []
          },
          "execution_count": 75
        }
      ]
    },
    {
      "cell_type": "markdown",
      "metadata": {
        "id": "LJ2Mfl_0rtLl"
      },
      "source": [
        "## 3.2 Lag Features\n",
        "\n",
        "Prediction models without memory function (feedforward networks, random forests, gradient boosting classifiers), require input in form of a one-dimensional vector with one observation per feature. Lagged features are implemented to provide temporal information for the models about the past. In general, for all features (Technical, Asset-based, Blockchain-based, Sentiment- and interest-based) corresponding lag features can be enigneered. (Jaquart et al, 2021)\n",
        "\n",
        "\n"
      ]
    },
    {
      "cell_type": "code",
      "metadata": {
        "colab": {
          "base_uri": "https://localhost:8080/",
          "height": 662
        },
        "id": "-mFnFpJhuRql",
        "outputId": "7d87f18b-b151-4f32-daa2-427435f0d168"
      },
      "source": [
        "pred_len = 5\n",
        "lag_feat = 5\n",
        "\n",
        "# add simple lag features as column in Dataframe\n",
        "def addLagFeature(data, colName, lag):\n",
        "    data[f'{colName} t-{lag}'] = data.loc[:,colName].shift(lag).fillna(0)\n",
        "    return(data)\n",
        "\n",
        "# add aggregated mean lag features as column in Dataframe\n",
        "def addLagMeanAggFeature(data, colName, start, window):\n",
        "   data[f'{colName} t-[{start}-{start+window-1}]'] = data[colName].rolling(window=window).mean().shift(start).fillna(0)\n",
        "   return(data)\n",
        "\n",
        "cc_data_lag_demo = cc_data.loc[:,['Date','Close']]\n",
        "\n",
        "for i in range(lag_feat):\n",
        "    cc_data_lag_demo = addLagFeature(cc_data_lag_demo, 'Close', i+pred_len)\n",
        "    \n",
        "\n",
        "cc_data_lag_demo = addLagMeanAggFeature(cc_data_lag_demo,'Close',10,5)\n",
        "cc_data_lag_demo = addLagMeanAggFeature(cc_data_lag_demo,'Close',15,5)\n",
        "\n",
        "cc_data_lag_demo.iloc[:20,:]"
      ],
      "execution_count": 84,
      "outputs": [
        {
          "output_type": "execute_result",
          "data": {
            "text/html": [
              "<div>\n",
              "<style scoped>\n",
              "    .dataframe tbody tr th:only-of-type {\n",
              "        vertical-align: middle;\n",
              "    }\n",
              "\n",
              "    .dataframe tbody tr th {\n",
              "        vertical-align: top;\n",
              "    }\n",
              "\n",
              "    .dataframe thead th {\n",
              "        text-align: right;\n",
              "    }\n",
              "</style>\n",
              "<table border=\"1\" class=\"dataframe\">\n",
              "  <thead>\n",
              "    <tr style=\"text-align: right;\">\n",
              "      <th></th>\n",
              "      <th>Date</th>\n",
              "      <th>Close</th>\n",
              "      <th>Close t-5</th>\n",
              "      <th>Close t-6</th>\n",
              "      <th>Close t-7</th>\n",
              "      <th>Close t-8</th>\n",
              "      <th>Close t-9</th>\n",
              "      <th>Close t-[10-14]</th>\n",
              "      <th>Close t-[15-19]</th>\n",
              "    </tr>\n",
              "  </thead>\n",
              "  <tbody>\n",
              "    <tr>\n",
              "      <th>0</th>\n",
              "      <td>2020-07-27</td>\n",
              "      <td>10990.873047</td>\n",
              "      <td>0.000000</td>\n",
              "      <td>0.000000</td>\n",
              "      <td>0.000000</td>\n",
              "      <td>0.000000</td>\n",
              "      <td>0.000000</td>\n",
              "      <td>0.000000</td>\n",
              "      <td>0.000000</td>\n",
              "    </tr>\n",
              "    <tr>\n",
              "      <th>1</th>\n",
              "      <td>2020-07-28</td>\n",
              "      <td>10912.823242</td>\n",
              "      <td>0.000000</td>\n",
              "      <td>0.000000</td>\n",
              "      <td>0.000000</td>\n",
              "      <td>0.000000</td>\n",
              "      <td>0.000000</td>\n",
              "      <td>0.000000</td>\n",
              "      <td>0.000000</td>\n",
              "    </tr>\n",
              "    <tr>\n",
              "      <th>2</th>\n",
              "      <td>2020-07-29</td>\n",
              "      <td>11100.467773</td>\n",
              "      <td>0.000000</td>\n",
              "      <td>0.000000</td>\n",
              "      <td>0.000000</td>\n",
              "      <td>0.000000</td>\n",
              "      <td>0.000000</td>\n",
              "      <td>0.000000</td>\n",
              "      <td>0.000000</td>\n",
              "    </tr>\n",
              "    <tr>\n",
              "      <th>3</th>\n",
              "      <td>2020-07-30</td>\n",
              "      <td>11111.213867</td>\n",
              "      <td>0.000000</td>\n",
              "      <td>0.000000</td>\n",
              "      <td>0.000000</td>\n",
              "      <td>0.000000</td>\n",
              "      <td>0.000000</td>\n",
              "      <td>0.000000</td>\n",
              "      <td>0.000000</td>\n",
              "    </tr>\n",
              "    <tr>\n",
              "      <th>4</th>\n",
              "      <td>2020-07-31</td>\n",
              "      <td>11323.466797</td>\n",
              "      <td>0.000000</td>\n",
              "      <td>0.000000</td>\n",
              "      <td>0.000000</td>\n",
              "      <td>0.000000</td>\n",
              "      <td>0.000000</td>\n",
              "      <td>0.000000</td>\n",
              "      <td>0.000000</td>\n",
              "    </tr>\n",
              "    <tr>\n",
              "      <th>5</th>\n",
              "      <td>2020-08-01</td>\n",
              "      <td>11759.592773</td>\n",
              "      <td>10990.873047</td>\n",
              "      <td>0.000000</td>\n",
              "      <td>0.000000</td>\n",
              "      <td>0.000000</td>\n",
              "      <td>0.000000</td>\n",
              "      <td>0.000000</td>\n",
              "      <td>0.000000</td>\n",
              "    </tr>\n",
              "    <tr>\n",
              "      <th>6</th>\n",
              "      <td>2020-08-02</td>\n",
              "      <td>11053.614258</td>\n",
              "      <td>10912.823242</td>\n",
              "      <td>10990.873047</td>\n",
              "      <td>0.000000</td>\n",
              "      <td>0.000000</td>\n",
              "      <td>0.000000</td>\n",
              "      <td>0.000000</td>\n",
              "      <td>0.000000</td>\n",
              "    </tr>\n",
              "    <tr>\n",
              "      <th>7</th>\n",
              "      <td>2020-08-03</td>\n",
              "      <td>11246.348633</td>\n",
              "      <td>11100.467773</td>\n",
              "      <td>10912.823242</td>\n",
              "      <td>10990.873047</td>\n",
              "      <td>0.000000</td>\n",
              "      <td>0.000000</td>\n",
              "      <td>0.000000</td>\n",
              "      <td>0.000000</td>\n",
              "    </tr>\n",
              "    <tr>\n",
              "      <th>8</th>\n",
              "      <td>2020-08-04</td>\n",
              "      <td>11205.892578</td>\n",
              "      <td>11111.213867</td>\n",
              "      <td>11100.467773</td>\n",
              "      <td>10912.823242</td>\n",
              "      <td>10990.873047</td>\n",
              "      <td>0.000000</td>\n",
              "      <td>0.000000</td>\n",
              "      <td>0.000000</td>\n",
              "    </tr>\n",
              "    <tr>\n",
              "      <th>9</th>\n",
              "      <td>2020-08-05</td>\n",
              "      <td>11747.022461</td>\n",
              "      <td>11323.466797</td>\n",
              "      <td>11111.213867</td>\n",
              "      <td>11100.467773</td>\n",
              "      <td>10912.823242</td>\n",
              "      <td>10990.873047</td>\n",
              "      <td>0.000000</td>\n",
              "      <td>0.000000</td>\n",
              "    </tr>\n",
              "    <tr>\n",
              "      <th>10</th>\n",
              "      <td>2020-08-06</td>\n",
              "      <td>11779.773438</td>\n",
              "      <td>11759.592773</td>\n",
              "      <td>11323.466797</td>\n",
              "      <td>11111.213867</td>\n",
              "      <td>11100.467773</td>\n",
              "      <td>10912.823242</td>\n",
              "      <td>0.000000</td>\n",
              "      <td>0.000000</td>\n",
              "    </tr>\n",
              "    <tr>\n",
              "      <th>11</th>\n",
              "      <td>2020-08-07</td>\n",
              "      <td>11601.472656</td>\n",
              "      <td>11053.614258</td>\n",
              "      <td>11759.592773</td>\n",
              "      <td>11323.466797</td>\n",
              "      <td>11111.213867</td>\n",
              "      <td>11100.467773</td>\n",
              "      <td>0.000000</td>\n",
              "      <td>0.000000</td>\n",
              "    </tr>\n",
              "    <tr>\n",
              "      <th>12</th>\n",
              "      <td>2020-08-08</td>\n",
              "      <td>11754.045898</td>\n",
              "      <td>11246.348633</td>\n",
              "      <td>11053.614258</td>\n",
              "      <td>11759.592773</td>\n",
              "      <td>11323.466797</td>\n",
              "      <td>11111.213867</td>\n",
              "      <td>0.000000</td>\n",
              "      <td>0.000000</td>\n",
              "    </tr>\n",
              "    <tr>\n",
              "      <th>13</th>\n",
              "      <td>2020-08-09</td>\n",
              "      <td>11675.739258</td>\n",
              "      <td>11205.892578</td>\n",
              "      <td>11246.348633</td>\n",
              "      <td>11053.614258</td>\n",
              "      <td>11759.592773</td>\n",
              "      <td>11323.466797</td>\n",
              "      <td>0.000000</td>\n",
              "      <td>0.000000</td>\n",
              "    </tr>\n",
              "    <tr>\n",
              "      <th>14</th>\n",
              "      <td>2020-08-10</td>\n",
              "      <td>11878.111328</td>\n",
              "      <td>11747.022461</td>\n",
              "      <td>11205.892578</td>\n",
              "      <td>11246.348633</td>\n",
              "      <td>11053.614258</td>\n",
              "      <td>11759.592773</td>\n",
              "      <td>11087.768945</td>\n",
              "      <td>0.000000</td>\n",
              "    </tr>\n",
              "    <tr>\n",
              "      <th>15</th>\n",
              "      <td>2020-08-11</td>\n",
              "      <td>11410.525391</td>\n",
              "      <td>11779.773438</td>\n",
              "      <td>11747.022461</td>\n",
              "      <td>11205.892578</td>\n",
              "      <td>11246.348633</td>\n",
              "      <td>11053.614258</td>\n",
              "      <td>11241.512891</td>\n",
              "      <td>0.000000</td>\n",
              "    </tr>\n",
              "    <tr>\n",
              "      <th>16</th>\n",
              "      <td>2020-08-12</td>\n",
              "      <td>11584.934570</td>\n",
              "      <td>11601.472656</td>\n",
              "      <td>11779.773438</td>\n",
              "      <td>11747.022461</td>\n",
              "      <td>11205.892578</td>\n",
              "      <td>11246.348633</td>\n",
              "      <td>11269.671094</td>\n",
              "      <td>0.000000</td>\n",
              "    </tr>\n",
              "    <tr>\n",
              "      <th>17</th>\n",
              "      <td>2020-08-13</td>\n",
              "      <td>11784.137695</td>\n",
              "      <td>11754.045898</td>\n",
              "      <td>11601.472656</td>\n",
              "      <td>11779.773438</td>\n",
              "      <td>11747.022461</td>\n",
              "      <td>11205.892578</td>\n",
              "      <td>11298.847266</td>\n",
              "      <td>0.000000</td>\n",
              "    </tr>\n",
              "    <tr>\n",
              "      <th>18</th>\n",
              "      <td>2020-08-14</td>\n",
              "      <td>11768.871094</td>\n",
              "      <td>11675.739258</td>\n",
              "      <td>11754.045898</td>\n",
              "      <td>11601.472656</td>\n",
              "      <td>11779.773438</td>\n",
              "      <td>11747.022461</td>\n",
              "      <td>11317.783008</td>\n",
              "      <td>0.000000</td>\n",
              "    </tr>\n",
              "    <tr>\n",
              "      <th>19</th>\n",
              "      <td>2020-08-15</td>\n",
              "      <td>11865.698242</td>\n",
              "      <td>11878.111328</td>\n",
              "      <td>11675.739258</td>\n",
              "      <td>11754.045898</td>\n",
              "      <td>11601.472656</td>\n",
              "      <td>11779.773438</td>\n",
              "      <td>11402.494141</td>\n",
              "      <td>11087.768945</td>\n",
              "    </tr>\n",
              "  </tbody>\n",
              "</table>\n",
              "</div>"
            ],
            "text/plain": [
              "         Date         Close  ...  Close t-[10-14]  Close t-[15-19]\n",
              "0  2020-07-27  10990.873047  ...         0.000000         0.000000\n",
              "1  2020-07-28  10912.823242  ...         0.000000         0.000000\n",
              "2  2020-07-29  11100.467773  ...         0.000000         0.000000\n",
              "3  2020-07-30  11111.213867  ...         0.000000         0.000000\n",
              "4  2020-07-31  11323.466797  ...         0.000000         0.000000\n",
              "5  2020-08-01  11759.592773  ...         0.000000         0.000000\n",
              "6  2020-08-02  11053.614258  ...         0.000000         0.000000\n",
              "7  2020-08-03  11246.348633  ...         0.000000         0.000000\n",
              "8  2020-08-04  11205.892578  ...         0.000000         0.000000\n",
              "9  2020-08-05  11747.022461  ...         0.000000         0.000000\n",
              "10 2020-08-06  11779.773438  ...         0.000000         0.000000\n",
              "11 2020-08-07  11601.472656  ...         0.000000         0.000000\n",
              "12 2020-08-08  11754.045898  ...         0.000000         0.000000\n",
              "13 2020-08-09  11675.739258  ...         0.000000         0.000000\n",
              "14 2020-08-10  11878.111328  ...     11087.768945         0.000000\n",
              "15 2020-08-11  11410.525391  ...     11241.512891         0.000000\n",
              "16 2020-08-12  11584.934570  ...     11269.671094         0.000000\n",
              "17 2020-08-13  11784.137695  ...     11298.847266         0.000000\n",
              "18 2020-08-14  11768.871094  ...     11317.783008         0.000000\n",
              "19 2020-08-15  11865.698242  ...     11402.494141     11087.768945\n",
              "\n",
              "[20 rows x 9 columns]"
            ]
          },
          "metadata": {
            "tags": []
          },
          "execution_count": 84
        }
      ]
    },
    {
      "cell_type": "markdown",
      "metadata": {
        "id": "M9cZhkBbTWar"
      },
      "source": [
        "## 3.3 Technical features\n",
        "---"
      ]
    },
    {
      "cell_type": "markdown",
      "metadata": {
        "id": "XyL0Hqbqri49"
      },
      "source": [
        "### 3.3.1 Highs and Lows for given time horizon\n",
        "---"
      ]
    },
    {
      "cell_type": "code",
      "metadata": {
        "id": "KpgWlwvr4wrv"
      },
      "source": [
        "week_low = cc_data.groupby(pd.Grouper(key='Date', freq='W'))['Close'].idxmin()\n",
        "cc_data['weekly_low'] = 0\n",
        "cc_data.loc[week_low,['weekly_low']] = 1\n",
        "\n",
        "week_high = cc_data.groupby(pd.Grouper(key='Date', freq='W'))['Close'].idxmax()\n",
        "cc_data['weekly_high'] = 0\n",
        "cc_data.loc[week_high,['weekly_high']] = 1"
      ],
      "execution_count": 77,
      "outputs": []
    },
    {
      "cell_type": "code",
      "metadata": {
        "colab": {
          "base_uri": "https://localhost:8080/",
          "height": 263
        },
        "id": "0g89-MTuqnrv",
        "outputId": "437a59e0-a489-48ff-df7b-c024ffc3d47f"
      },
      "source": [
        "cc_data.loc[0:6,['Close','wday','weekly_low','weekly_high']]"
      ],
      "execution_count": 78,
      "outputs": [
        {
          "output_type": "execute_result",
          "data": {
            "text/html": [
              "<div>\n",
              "<style scoped>\n",
              "    .dataframe tbody tr th:only-of-type {\n",
              "        vertical-align: middle;\n",
              "    }\n",
              "\n",
              "    .dataframe tbody tr th {\n",
              "        vertical-align: top;\n",
              "    }\n",
              "\n",
              "    .dataframe thead th {\n",
              "        text-align: right;\n",
              "    }\n",
              "</style>\n",
              "<table border=\"1\" class=\"dataframe\">\n",
              "  <thead>\n",
              "    <tr style=\"text-align: right;\">\n",
              "      <th></th>\n",
              "      <th>Close</th>\n",
              "      <th>wday</th>\n",
              "      <th>weekly_low</th>\n",
              "      <th>weekly_high</th>\n",
              "    </tr>\n",
              "  </thead>\n",
              "  <tbody>\n",
              "    <tr>\n",
              "      <th>0</th>\n",
              "      <td>10990.873047</td>\n",
              "      <td>0</td>\n",
              "      <td>0</td>\n",
              "      <td>0</td>\n",
              "    </tr>\n",
              "    <tr>\n",
              "      <th>1</th>\n",
              "      <td>10912.823242</td>\n",
              "      <td>1</td>\n",
              "      <td>1</td>\n",
              "      <td>0</td>\n",
              "    </tr>\n",
              "    <tr>\n",
              "      <th>2</th>\n",
              "      <td>11100.467773</td>\n",
              "      <td>2</td>\n",
              "      <td>0</td>\n",
              "      <td>0</td>\n",
              "    </tr>\n",
              "    <tr>\n",
              "      <th>3</th>\n",
              "      <td>11111.213867</td>\n",
              "      <td>3</td>\n",
              "      <td>0</td>\n",
              "      <td>0</td>\n",
              "    </tr>\n",
              "    <tr>\n",
              "      <th>4</th>\n",
              "      <td>11323.466797</td>\n",
              "      <td>4</td>\n",
              "      <td>0</td>\n",
              "      <td>0</td>\n",
              "    </tr>\n",
              "    <tr>\n",
              "      <th>5</th>\n",
              "      <td>11759.592773</td>\n",
              "      <td>5</td>\n",
              "      <td>0</td>\n",
              "      <td>1</td>\n",
              "    </tr>\n",
              "    <tr>\n",
              "      <th>6</th>\n",
              "      <td>11053.614258</td>\n",
              "      <td>6</td>\n",
              "      <td>0</td>\n",
              "      <td>0</td>\n",
              "    </tr>\n",
              "  </tbody>\n",
              "</table>\n",
              "</div>"
            ],
            "text/plain": [
              "          Close  wday  weekly_low  weekly_high\n",
              "0  10990.873047     0           0            0\n",
              "1  10912.823242     1           1            0\n",
              "2  11100.467773     2           0            0\n",
              "3  11111.213867     3           0            0\n",
              "4  11323.466797     4           0            0\n",
              "5  11759.592773     5           0            1\n",
              "6  11053.614258     6           0            0"
            ]
          },
          "metadata": {
            "tags": []
          },
          "execution_count": 78
        }
      ]
    },
    {
      "cell_type": "markdown",
      "metadata": {
        "id": "fGm_iGF4soL3"
      },
      "source": [
        "### 3.3.2 Up-Trend-, Down-Trend-, and Trend-Duration-Indicator incl. daily price change\n",
        "---"
      ]
    },
    {
      "cell_type": "code",
      "metadata": {
        "id": "-v6hqZai0ow_"
      },
      "source": [
        "cc_data['up_trend_indicator'] = 0\n",
        "cc_data['down_trend_indicator'] = 0\n",
        "cc_data['trend_duration_indicator'] = 0\n",
        "cc_data['daily_change'] = 0\n",
        "count = 0\n",
        "for i in range(len(cc_data)):\n",
        "    if i == 0:\n",
        "        #first entry of the time series\n",
        "        cc_data.loc[i,'up_trend_indicator'] = 1\n",
        "        cc_data.loc[i,'down_trend_indicator'] = 1\n",
        "        cc_data.loc[i,'trend_duration_indicator'] = 0\n",
        "        cc_data.loc[i,'daily_change'] = 0   \n",
        "    else:\n",
        "\n",
        "        if (i > 0) and (cc_data.loc[i,'Close'] > cc_data.loc[i-1,'Close']):\n",
        "            cc_data.loc[i,'up_trend_indicator'] = 1\n",
        "            cc_data.loc[i,'down_trend_indicator'] = 0\n",
        "            cc_data.loc[i,'daily_change'] = cc_data.loc[i,'Close'] - cc_data.loc[i-1,'Close']\n",
        "            if (cc_data.loc[i-1,'up_trend_indicator'] == 1):\n",
        "                count += 1\n",
        "                cc_data.loc[i,'trend_duration_indicator'] = count\n",
        "            else:\n",
        "                count = 0\n",
        "\n",
        "        if(i > 0) and (cc_data.loc[i,'Close'] < cc_data.loc[i-1,'Close']):\n",
        "            cc_data.loc[i,'up_trend_indicator'] = 0\n",
        "            cc_data.loc[i,'down_trend_indicator'] = 1\n",
        "            cc_data.loc[i,'daily_change'] = cc_data.loc[i,'Close'] - cc_data.loc[i-1,'Close']\n",
        "            if (cc_data.loc[i-1,'up_trend_indicator'] == 0):\n",
        "                count += 1\n",
        "                cc_data.loc[i,'trend_duration_indicator'] = count\n",
        "            else:\n",
        "                count = 0"
      ],
      "execution_count": 79,
      "outputs": []
    },
    {
      "cell_type": "code",
      "metadata": {
        "colab": {
          "base_uri": "https://localhost:8080/",
          "height": 263
        },
        "id": "TzmMqDNy0wBV",
        "outputId": "064e1795-7ba5-41a5-fc76-dbebf2e4d3bd"
      },
      "source": [
        "cc_data.loc[0:6,['Date','Close','daily_change','up_trend_indicator','down_trend_indicator','trend_duration_indicator']]"
      ],
      "execution_count": 80,
      "outputs": [
        {
          "output_type": "execute_result",
          "data": {
            "text/html": [
              "<div>\n",
              "<style scoped>\n",
              "    .dataframe tbody tr th:only-of-type {\n",
              "        vertical-align: middle;\n",
              "    }\n",
              "\n",
              "    .dataframe tbody tr th {\n",
              "        vertical-align: top;\n",
              "    }\n",
              "\n",
              "    .dataframe thead th {\n",
              "        text-align: right;\n",
              "    }\n",
              "</style>\n",
              "<table border=\"1\" class=\"dataframe\">\n",
              "  <thead>\n",
              "    <tr style=\"text-align: right;\">\n",
              "      <th></th>\n",
              "      <th>Date</th>\n",
              "      <th>Close</th>\n",
              "      <th>daily_change</th>\n",
              "      <th>up_trend_indicator</th>\n",
              "      <th>down_trend_indicator</th>\n",
              "      <th>trend_duration_indicator</th>\n",
              "    </tr>\n",
              "  </thead>\n",
              "  <tbody>\n",
              "    <tr>\n",
              "      <th>0</th>\n",
              "      <td>2020-07-27</td>\n",
              "      <td>10990.873047</td>\n",
              "      <td>0.000000</td>\n",
              "      <td>1</td>\n",
              "      <td>1</td>\n",
              "      <td>0</td>\n",
              "    </tr>\n",
              "    <tr>\n",
              "      <th>1</th>\n",
              "      <td>2020-07-28</td>\n",
              "      <td>10912.823242</td>\n",
              "      <td>-78.049805</td>\n",
              "      <td>0</td>\n",
              "      <td>1</td>\n",
              "      <td>0</td>\n",
              "    </tr>\n",
              "    <tr>\n",
              "      <th>2</th>\n",
              "      <td>2020-07-29</td>\n",
              "      <td>11100.467773</td>\n",
              "      <td>187.644531</td>\n",
              "      <td>1</td>\n",
              "      <td>0</td>\n",
              "      <td>0</td>\n",
              "    </tr>\n",
              "    <tr>\n",
              "      <th>3</th>\n",
              "      <td>2020-07-30</td>\n",
              "      <td>11111.213867</td>\n",
              "      <td>10.746094</td>\n",
              "      <td>1</td>\n",
              "      <td>0</td>\n",
              "      <td>1</td>\n",
              "    </tr>\n",
              "    <tr>\n",
              "      <th>4</th>\n",
              "      <td>2020-07-31</td>\n",
              "      <td>11323.466797</td>\n",
              "      <td>212.252930</td>\n",
              "      <td>1</td>\n",
              "      <td>0</td>\n",
              "      <td>2</td>\n",
              "    </tr>\n",
              "    <tr>\n",
              "      <th>5</th>\n",
              "      <td>2020-08-01</td>\n",
              "      <td>11759.592773</td>\n",
              "      <td>436.125977</td>\n",
              "      <td>1</td>\n",
              "      <td>0</td>\n",
              "      <td>3</td>\n",
              "    </tr>\n",
              "    <tr>\n",
              "      <th>6</th>\n",
              "      <td>2020-08-02</td>\n",
              "      <td>11053.614258</td>\n",
              "      <td>-705.978516</td>\n",
              "      <td>0</td>\n",
              "      <td>1</td>\n",
              "      <td>0</td>\n",
              "    </tr>\n",
              "  </tbody>\n",
              "</table>\n",
              "</div>"
            ],
            "text/plain": [
              "        Date         Close  ...  down_trend_indicator  trend_duration_indicator\n",
              "0 2020-07-27  10990.873047  ...                     1                         0\n",
              "1 2020-07-28  10912.823242  ...                     1                         0\n",
              "2 2020-07-29  11100.467773  ...                     0                         0\n",
              "3 2020-07-30  11111.213867  ...                     0                         1\n",
              "4 2020-07-31  11323.466797  ...                     0                         2\n",
              "5 2020-08-01  11759.592773  ...                     0                         3\n",
              "6 2020-08-02  11053.614258  ...                     1                         0\n",
              "\n",
              "[7 rows x 6 columns]"
            ]
          },
          "metadata": {
            "tags": []
          },
          "execution_count": 80
        }
      ]
    },
    {
      "cell_type": "markdown",
      "metadata": {
        "id": "rRjBr9DR3o83"
      },
      "source": [
        "### 3.3.3 Technical Indicators\n",
        "---\n",
        "\n",
        "An implementation of most used technical indicators can be found here: [Technical Analysis Library](https://technical-analysis-library-in-python.readthedocs.io/en/latest/ta.html)"
      ]
    },
    {
      "cell_type": "code",
      "metadata": {
        "id": "3aAk3yns4Fdt"
      },
      "source": [
        "cc_data['SMA_7'] = cc_data['Close'].rolling(window=7, min_periods=1).mean()\n",
        "cc_data['SMA_28'] = cc_data['Close'].rolling(window=28, min_periods=1).mean()\n",
        "\n",
        "cc_data['EMA_100'] = cc_data['Close'].ewm(span=100, adjust=False).mean()\n",
        "cc_data['EMA_200'] = cc_data['Close'].ewm(span=200, adjust=False).mean()"
      ],
      "execution_count": 81,
      "outputs": []
    },
    {
      "cell_type": "markdown",
      "metadata": {
        "id": "_GkvE-jU_svY"
      },
      "source": [
        "### 3.3.4 Plots\n",
        "---\n",
        "\n",
        "Some plots for visualisation."
      ]
    },
    {
      "cell_type": "code",
      "metadata": {
        "colab": {
          "base_uri": "https://localhost:8080/",
          "height": 630
        },
        "id": "ap67c8nd_-V9",
        "outputId": "bd08e4b9-b165-4037-d990-dbb932e84134"
      },
      "source": [
        "mpl.rcParams['figure.figsize'] = (21, 10)\n",
        "mpl.rcParams['axes.grid'] = False\n",
        "\n",
        "\n",
        "fig0, ax = plt.subplots()\n",
        "ax.yaxis.set_major_formatter(mpl.ticker.StrMethodFormatter('{x:,.0f}$'))\n",
        "\n",
        "ax.plot(cc_data.loc[:,'Date'], cc_data.loc[:,'Close'], label = 'Close')\n",
        "ax.plot(cc_data.loc[:,'Date'], cc_data.loc[:,'SMA_7'],color=\"YELLOW\", label = 'SMA_7')\n",
        "ax.plot(cc_data.loc[:,'Date'], cc_data.loc[:,'SMA_28'],color=\"Orange\", label = 'SMA_28')\n",
        "ax.scatter(cc_data.loc[cc_data['up_trend_indicator'] == 1]['Date'],\n",
        "           cc_data.loc[cc_data['up_trend_indicator'] == 1]['Close'],\n",
        "           color = \"Green\",\n",
        "           marker = 6)\n",
        "ax.scatter(cc_data.loc[cc_data['up_trend_indicator'] == 0]['Date'],\n",
        "           cc_data.loc[cc_data['up_trend_indicator'] == 0]['Close'],\n",
        "           color = \"Red\" ,\n",
        "           marker = 7)\n",
        "ax.set_title((f'{symbol} from {start_date} to {today}'), fontsize = 20)\n",
        "ax.legend(fontsize=20)"
      ],
      "execution_count": 82,
      "outputs": [
        {
          "output_type": "execute_result",
          "data": {
            "text/plain": [
              "<matplotlib.legend.Legend at 0x7f1f86ef9250>"
            ]
          },
          "metadata": {
            "tags": []
          },
          "execution_count": 82
        },
        {
          "output_type": "display_data",
          "data": {
            "image/png": "[encoded data removed]",
            "text/plain": [
              "<Figure size 1512x720 with 1 Axes>"
            ]
          },
          "metadata": {
            "tags": [],
            "needs_background": "light"
          }
        }
      ]
    },
    {
      "cell_type": "code",
      "metadata": {
        "id": "NUYXm6upx4rM",
        "colab": {
          "base_uri": "https://localhost:8080/",
          "height": 337
        },
        "outputId": "168d2723-9e54-4c56-cfff-b3b4a1771ef1"
      },
      "source": [
        "mpl.rcParams['figure.figsize'] = (21, 5)\n",
        "\n",
        "fig1, ax = plt.subplots()\n",
        "\n",
        "ax.bar(cc_data.loc[cc_data['up_trend_indicator'] == 1]['Date'],\n",
        "       (cc_data.loc[cc_data['up_trend_indicator'] == 1]['trend_duration_indicator'])+1, color = 'b', width = 1)\n",
        "ax.bar(cc_data.loc[cc_data['up_trend_indicator'] == 0]['Date'],\n",
        "       ((cc_data.loc[cc_data['up_trend_indicator'] == 0]['trend_duration_indicator'])+1)*-1, color = 'r', width = 1)"
      ],
      "execution_count": 83,
      "outputs": [
        {
          "output_type": "execute_result",
          "data": {
            "text/plain": [
              "<BarContainer object of 160 artists>"
            ]
          },
          "metadata": {
            "tags": []
          },
          "execution_count": 83
        },
        {
          "output_type": "display_data",
          "data": {
            "image/png": "[encoded data removed]",
            "text/plain": [
              "<Figure size 1512x360 with 1 Axes>"
            ]
          },
          "metadata": {
            "tags": [],
            "needs_background": "light"
          }
        }
      ]
    },
    {
      "cell_type": "markdown",
      "metadata": {
        "id": "fkwHM6Sy2Bam"
      },
      "source": [
        "## 3.4 Asset-based features\n",
        "---\n",
        "\n",
        "Since Cryptocurrencies are no closed market, the movement of different financial assets like gold or stock markets could have an important impact on the Crypto market. It can be tedious to analyze all the different possibilities and work out significant correlations maybe even undiscovered short-term causalities. Precisely these can ultimately account for the competitive advantage in the predictions. But there is no question that patterns change, hence an automated and streamlined process is needed to filter relevant inputs.\n",
        "\n",
        "For example Jaquart et al (2021) are using [MSCI Word returns](https://www.msci.com/real-time-index-data-search), [SNP 500 returns](https://finance.yahoo.com/quote/%5EGSPC?p=%5EGSPC), [Gold returns](https://finance.yahoo.com/quote/GC%3DF?p=GC%3DF), [Crude Oil WTI retruns](https://finance.yahoo.com/quote/CL%3DF?p=CL%3DF), etc.\n"
      ]
    },
    {
      "cell_type": "markdown",
      "metadata": {
        "id": "jBzz5ET2eLFy"
      },
      "source": [
        "## 3.5  Blockchain-based features\n",
        "---\n",
        "\n",
        "Many blockchain-based features are freely available at [bitinfocharts.com/bitcoin/](https://bitinfocharts.com/bitcoin/). Following are some examples:\n",
        "\n",
        "*   **Transactions:** The number of sent and received Bitcoin payments\n",
        "*   **Block size:** Transactional information cryptographically linked in the blockchain.\n",
        "*   **Block time:** The time required to mine one block.\n",
        "*   **Hashrate:** The daily total computational capacity of the Bitcoin network.\n",
        "*   **Difficulty:** The daily average mining difficulty. The difficulty is computed by the network   after a specified number of blocks have been created so that the time it requires\n",
        "to mine a block remains around 10 min\n",
        "*   **Median transaction value:** The median value of the transactions in Bitcoin\n",
        "*   **Avg. transaction value:** The Average value of the transactions in Bitcoin\n",
        "*   **Median transaction fee:** The median of transaction fees in Bitcoin\n",
        "*   **Avg. transaction fee:** The average of transaction fees in Bitcoin\n",
        "*   **etc.**\n",
        "\n"
      ]
    },
    {
      "cell_type": "markdown",
      "metadata": {
        "id": "e2XZMZcNyzJs"
      },
      "source": [
        "## 3.6 Sentiment- and interest-based features\n",
        "---\n"
      ]
    },
    {
      "cell_type": "markdown",
      "metadata": {
        "id": "-l3Du0IJxuYE"
      },
      "source": [
        "### 3.6.1 Crypto Fear & Greed Index\n",
        "---\n",
        "\n",
        "The crypto market behaviour is very emotional. People tend to get greedy when the market is rising which results in FOMO (Fear of missing out). Also, people often sell their coins in irrational reaction of seeing red numbers. \n",
        "\n",
        "A source for the Fear & Greed Index can be for example [alternative.me/crypto/api/](https://alternative.me/crypto/api/). The composition of the index inputs is documented here: [alternative.me/crypto/fear-and-greed-index/](https://alternative.me/crypto/fear-and-greed-index/).\n",
        "\n",
        "<img src=\"https://alternative.me/crypto/fear-and-greed-index.png\" width=\"400\" alt=\"Latest Crypto Fear & Greed Index\" />\n"
      ]
    },
    {
      "cell_type": "markdown",
      "metadata": {
        "id": "Z0JZCHpC6w1D"
      },
      "source": [
        "### 3.6.2 Twitter\n",
        "---\n",
        "\n",
        "As described by Symeonidis et al (2018) and used by Jaquart et al (2021) the sentiment and further the strength of emotion in regards to bitcoin can be estimated and extracted from tweets via Natural Language Processing. Jaquart et al (2021) used [Google Natural Language API](https://cloud.google.com/natural-language/docs).\n",
        "\n",
        "Another feature is [Tweets per day](https://bitinfocharts.com/comparison/bitcoin-tweets.html) count for #Bitcoin.\n",
        "\n",
        "\n",
        "\n",
        "\n",
        "\n",
        "\n"
      ]
    },
    {
      "cell_type": "markdown",
      "metadata": {
        "id": "SbZ2W2trAyTO"
      },
      "source": [
        "### 3.6.3 Google Trends\n",
        "---\n",
        "\n",
        "General interest in Bitcoin via Google queries: [Google Trends - Bitcoin](https://trends.google.com/trends/explore?date=all&q=%2Fm%2F05p0rrx)\n",
        "\n",
        "\n",
        "\n"
      ]
    }
  ]
}