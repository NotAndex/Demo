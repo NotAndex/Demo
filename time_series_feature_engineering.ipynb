{
  "nbformat": 4,
  "nbformat_minor": 0,
  "metadata": {
    "colab": {
      "name": "time_series_feature_engineering.ipynb",
      "provenance": [],
      "collapsed_sections": [],
      "toc_visible": true,
      "authorship_tag": "ABX9TyOSL7c0y5piQxBq3XYEdryz",
      "include_colab_link": true
    },
    "kernelspec": {
      "name": "python3",
      "display_name": "Python 3"
    },
    "language_info": {
      "name": "python"
    }
  },
  "cells": [
    {
      "cell_type": "markdown",
      "metadata": {
        "id": "view-in-github",
        "colab_type": "text"
      },
      "source": [
        "<a href=\"https://colab.research.google.com/github/NotAndex/Demo/blob/main/time_series_feature_engineering.ipynb\" target=\"_parent\"><img src=\"https://colab.research.google.com/assets/colab-badge.svg\" alt=\"Open In Colab\"/></a>"
      ]
    },
    {
      "cell_type": "markdown",
      "metadata": {
        "id": "Lo75g1ZbQmpI"
      },
      "source": [
        "# 0"
      ]
    },
    {
      "cell_type": "markdown",
      "metadata": {
        "id": "1HCRiazZQpbo"
      },
      "source": [
        "# 1 Setup\n"
      ]
    },
    {
      "cell_type": "code",
      "metadata": {
        "id": "P2Lj1rXJRGP6",
        "outputId": "2b8b7974-3925-489b-860e-8bef80751669",
        "colab": {
          "base_uri": "https://localhost:8080/"
        }
      },
      "source": [
        "!pip install yfinance\n",
        "import yfinance as yf\n",
        "\n",
        "import numpy as np\n",
        "import pandas as pd\n",
        "import matplotlib.pyplot as plt\n",
        "import matplotlib as mpl\n",
        "import datetime\n",
        "\n",
        "from tensorflow.keras.utils import to_categorical"
      ],
      "execution_count": 44,
      "outputs": [
        {
          "output_type": "stream",
          "text": [
            "Requirement already satisfied: yfinance in /usr/local/lib/python3.7/dist-packages (0.1.59)\n",
            "Requirement already satisfied: pandas>=0.24 in /usr/local/lib/python3.7/dist-packages (from yfinance) (1.1.5)\n",
            "Requirement already satisfied: requests>=2.20 in /usr/local/lib/python3.7/dist-packages (from yfinance) (2.23.0)\n",
            "Requirement already satisfied: lxml>=4.5.1 in /usr/local/lib/python3.7/dist-packages (from yfinance) (4.6.3)\n",
            "Requirement already satisfied: multitasking>=0.0.7 in /usr/local/lib/python3.7/dist-packages (from yfinance) (0.0.9)\n",
            "Requirement already satisfied: numpy>=1.15 in /usr/local/lib/python3.7/dist-packages (from yfinance) (1.19.5)\n",
            "Requirement already satisfied: pytz>=2017.2 in /usr/local/lib/python3.7/dist-packages (from pandas>=0.24->yfinance) (2018.9)\n",
            "Requirement already satisfied: python-dateutil>=2.7.3 in /usr/local/lib/python3.7/dist-packages (from pandas>=0.24->yfinance) (2.8.1)\n",
            "Requirement already satisfied: certifi>=2017.4.17 in /usr/local/lib/python3.7/dist-packages (from requests>=2.20->yfinance) (2020.12.5)\n",
            "Requirement already satisfied: urllib3!=1.25.0,!=1.25.1,<1.26,>=1.21.1 in /usr/local/lib/python3.7/dist-packages (from requests>=2.20->yfinance) (1.24.3)\n",
            "Requirement already satisfied: idna<3,>=2.5 in /usr/local/lib/python3.7/dist-packages (from requests>=2.20->yfinance) (2.10)\n",
            "Requirement already satisfied: chardet<4,>=3.0.2 in /usr/local/lib/python3.7/dist-packages (from requests>=2.20->yfinance) (3.0.4)\n",
            "Requirement already satisfied: six>=1.5 in /usr/local/lib/python3.7/dist-packages (from python-dateutil>=2.7.3->pandas>=0.24->yfinance) (1.15.0)\n"
          ],
          "name": "stdout"
        }
      ]
    },
    {
      "cell_type": "markdown",
      "metadata": {
        "id": "tIaAHbdNQz2C"
      },
      "source": [
        "# 2 Data"
      ]
    },
    {
      "cell_type": "code",
      "metadata": {
        "id": "y1Aw_OdrSTcL",
        "outputId": "37a74849-a9e3-4e56-977f-2e817dd1ef23",
        "colab": {
          "base_uri": "https://localhost:8080/"
        }
      },
      "source": [
        "today = datetime.date.today()\n",
        "start_date = today - datetime.timedelta(days=365)\n",
        "symbol = 'BTC-USD'\n",
        "\n",
        "cc_data = yf.download(symbol, start=start_date, end=today)\n",
        "cc_data.reset_index(inplace=True,col_fill=('Date'))"
      ],
      "execution_count": 34,
      "outputs": [
        {
          "output_type": "stream",
          "text": [
            "\r[*********************100%***********************]  1 of 1 completed\n"
          ],
          "name": "stdout"
        }
      ]
    },
    {
      "cell_type": "markdown",
      "metadata": {
        "id": "MQnbgfJ0Q-Cq"
      },
      "source": [
        "#3 Feature engineering examples"
      ]
    },
    {
      "cell_type": "markdown",
      "metadata": {
        "id": "JP12UkVESp2D"
      },
      "source": [
        "## 3.1 Date dependent features"
      ]
    },
    {
      "cell_type": "code",
      "metadata": {
        "id": "gmifnnsIX51s",
        "colab": {
          "base_uri": "https://localhost:8080/",
          "height": 227
        },
        "outputId": "1a287cc1-574c-4bcd-c283-fa785fc945be"
      },
      "source": [
        "cc_data['year'] = cc_data['Date'].dt.year \n",
        "cc_data['quarter'] = cc_data['Date'].dt.quarter \n",
        "cc_data['month'] = cc_data['Date'].dt.month \n",
        "cc_data['week'] = cc_data['Date'].dt.isocalendar().week \n",
        "cc_data['day'] = cc_data['Date'].dt.day\n",
        "cc_data['wday'] = cc_data['Date'].dt.dayofweek\n",
        "\n",
        "cc_data.loc[0:5,:]"
      ],
      "execution_count": 35,
      "outputs": [
        {
          "output_type": "execute_result",
          "data": {
            "text/html": [
              "<div>\n",
              "<style scoped>\n",
              "    .dataframe tbody tr th:only-of-type {\n",
              "        vertical-align: middle;\n",
              "    }\n",
              "\n",
              "    .dataframe tbody tr th {\n",
              "        vertical-align: top;\n",
              "    }\n",
              "\n",
              "    .dataframe thead th {\n",
              "        text-align: right;\n",
              "    }\n",
              "</style>\n",
              "<table border=\"1\" class=\"dataframe\">\n",
              "  <thead>\n",
              "    <tr style=\"text-align: right;\">\n",
              "      <th></th>\n",
              "      <th>Date</th>\n",
              "      <th>Open</th>\n",
              "      <th>High</th>\n",
              "      <th>Low</th>\n",
              "      <th>Close</th>\n",
              "      <th>Adj Close</th>\n",
              "      <th>Volume</th>\n",
              "      <th>year</th>\n",
              "      <th>quarter</th>\n",
              "      <th>month</th>\n",
              "      <th>week</th>\n",
              "      <th>day</th>\n",
              "      <th>wday</th>\n",
              "    </tr>\n",
              "  </thead>\n",
              "  <tbody>\n",
              "    <tr>\n",
              "      <th>0</th>\n",
              "      <td>2020-06-03</td>\n",
              "      <td>9533.760742</td>\n",
              "      <td>9682.859375</td>\n",
              "      <td>9471.846680</td>\n",
              "      <td>9656.717773</td>\n",
              "      <td>9656.717773</td>\n",
              "      <td>25007459262</td>\n",
              "      <td>2020</td>\n",
              "      <td>2</td>\n",
              "      <td>6</td>\n",
              "      <td>23</td>\n",
              "      <td>3</td>\n",
              "      <td>2</td>\n",
              "    </tr>\n",
              "    <tr>\n",
              "      <th>1</th>\n",
              "      <td>2020-06-04</td>\n",
              "      <td>9655.854492</td>\n",
              "      <td>9887.610352</td>\n",
              "      <td>9525.247070</td>\n",
              "      <td>9800.636719</td>\n",
              "      <td>9800.636719</td>\n",
              "      <td>25921805072</td>\n",
              "      <td>2020</td>\n",
              "      <td>2</td>\n",
              "      <td>6</td>\n",
              "      <td>23</td>\n",
              "      <td>4</td>\n",
              "      <td>3</td>\n",
              "    </tr>\n",
              "    <tr>\n",
              "      <th>2</th>\n",
              "      <td>2020-06-05</td>\n",
              "      <td>9800.215820</td>\n",
              "      <td>9869.237305</td>\n",
              "      <td>9663.216797</td>\n",
              "      <td>9665.533203</td>\n",
              "      <td>9665.533203</td>\n",
              "      <td>23509628646</td>\n",
              "      <td>2020</td>\n",
              "      <td>2</td>\n",
              "      <td>6</td>\n",
              "      <td>23</td>\n",
              "      <td>5</td>\n",
              "      <td>4</td>\n",
              "    </tr>\n",
              "    <tr>\n",
              "      <th>3</th>\n",
              "      <td>2020-06-06</td>\n",
              "      <td>9664.904297</td>\n",
              "      <td>9773.431641</td>\n",
              "      <td>9591.024414</td>\n",
              "      <td>9653.679688</td>\n",
              "      <td>9653.679688</td>\n",
              "      <td>20438419222</td>\n",
              "      <td>2020</td>\n",
              "      <td>2</td>\n",
              "      <td>6</td>\n",
              "      <td>23</td>\n",
              "      <td>6</td>\n",
              "      <td>5</td>\n",
              "    </tr>\n",
              "    <tr>\n",
              "      <th>4</th>\n",
              "      <td>2020-06-07</td>\n",
              "      <td>9653.002930</td>\n",
              "      <td>9768.498047</td>\n",
              "      <td>9458.150391</td>\n",
              "      <td>9758.852539</td>\n",
              "      <td>9758.852539</td>\n",
              "      <td>25015250846</td>\n",
              "      <td>2020</td>\n",
              "      <td>2</td>\n",
              "      <td>6</td>\n",
              "      <td>23</td>\n",
              "      <td>7</td>\n",
              "      <td>6</td>\n",
              "    </tr>\n",
              "    <tr>\n",
              "      <th>5</th>\n",
              "      <td>2020-06-08</td>\n",
              "      <td>9760.063477</td>\n",
              "      <td>9782.306641</td>\n",
              "      <td>9675.885742</td>\n",
              "      <td>9771.489258</td>\n",
              "      <td>9771.489258</td>\n",
              "      <td>21486346312</td>\n",
              "      <td>2020</td>\n",
              "      <td>2</td>\n",
              "      <td>6</td>\n",
              "      <td>24</td>\n",
              "      <td>8</td>\n",
              "      <td>0</td>\n",
              "    </tr>\n",
              "  </tbody>\n",
              "</table>\n",
              "</div>"
            ],
            "text/plain": [
              "        Date         Open         High          Low  ...  month  week  day  wday\n",
              "0 2020-06-03  9533.760742  9682.859375  9471.846680  ...      6    23    3     2\n",
              "1 2020-06-04  9655.854492  9887.610352  9525.247070  ...      6    23    4     3\n",
              "2 2020-06-05  9800.215820  9869.237305  9663.216797  ...      6    23    5     4\n",
              "3 2020-06-06  9664.904297  9773.431641  9591.024414  ...      6    23    6     5\n",
              "4 2020-06-07  9653.002930  9768.498047  9458.150391  ...      6    23    7     6\n",
              "5 2020-06-08  9760.063477  9782.306641  9675.885742  ...      6    24    8     0\n",
              "\n",
              "[6 rows x 13 columns]"
            ]
          },
          "metadata": {
            "tags": []
          },
          "execution_count": 35
        }
      ]
    },
    {
      "cell_type": "markdown",
      "metadata": {
        "id": "UuONd0wi5AVm"
      },
      "source": [
        "Since there is no predetermined (ordinal) relationship in the relevance of days or months we can encode its representation nominal via One-Hot encoding. Forcing an ordinal relationship with ordinal encoding and allowing the model to assume a natural ordering between categories may result in poor performance or unexpected results (predictions halfway between categories)."
      ]
    },
    {
      "cell_type": "code",
      "metadata": {
        "id": "REo4DoCacHtk"
      },
      "source": [
        "monthCat = pd.DataFrame(to_categorical(cc_data.loc[:,['month']]))\n",
        "cc_data = pd.concat([cc_data,monthCat.loc[:,1:]],axis=1)\n",
        "\n",
        "dayCat = pd.DataFrame(to_categorical(cc_data.loc[:,['wday']]),\n",
        "                          columns=[\"Monday\",\"Tuesday\",\"Wednesday\",\"Thursday\",\"Friday\",\"Saturday\",\"Sunday\"])\n",
        "cc_data = pd.concat([cc_data,dayCat],axis=1)"
      ],
      "execution_count": 36,
      "outputs": []
    },
    {
      "cell_type": "code",
      "metadata": {
        "id": "V-NyKxJXE4cn",
        "colab": {
          "base_uri": "https://localhost:8080/",
          "height": 257
        },
        "outputId": "4ba363b4-0950-4043-c6d2-112cb2f88e35"
      },
      "source": [
        "cc_data.loc[0:6,[\"wday\",\"Monday\",\"Tuesday\",\"Wednesday\",\"Thursday\",\"Friday\",\"Saturday\",\"Sunday\"]]"
      ],
      "execution_count": 37,
      "outputs": [
        {
          "output_type": "execute_result",
          "data": {
            "text/html": [
              "<div>\n",
              "<style scoped>\n",
              "    .dataframe tbody tr th:only-of-type {\n",
              "        vertical-align: middle;\n",
              "    }\n",
              "\n",
              "    .dataframe tbody tr th {\n",
              "        vertical-align: top;\n",
              "    }\n",
              "\n",
              "    .dataframe thead th {\n",
              "        text-align: right;\n",
              "    }\n",
              "</style>\n",
              "<table border=\"1\" class=\"dataframe\">\n",
              "  <thead>\n",
              "    <tr style=\"text-align: right;\">\n",
              "      <th></th>\n",
              "      <th>wday</th>\n",
              "      <th>Monday</th>\n",
              "      <th>Tuesday</th>\n",
              "      <th>Wednesday</th>\n",
              "      <th>Thursday</th>\n",
              "      <th>Friday</th>\n",
              "      <th>Saturday</th>\n",
              "      <th>Sunday</th>\n",
              "    </tr>\n",
              "  </thead>\n",
              "  <tbody>\n",
              "    <tr>\n",
              "      <th>0</th>\n",
              "      <td>2</td>\n",
              "      <td>0.0</td>\n",
              "      <td>0.0</td>\n",
              "      <td>1.0</td>\n",
              "      <td>0.0</td>\n",
              "      <td>0.0</td>\n",
              "      <td>0.0</td>\n",
              "      <td>0.0</td>\n",
              "    </tr>\n",
              "    <tr>\n",
              "      <th>1</th>\n",
              "      <td>3</td>\n",
              "      <td>0.0</td>\n",
              "      <td>0.0</td>\n",
              "      <td>0.0</td>\n",
              "      <td>1.0</td>\n",
              "      <td>0.0</td>\n",
              "      <td>0.0</td>\n",
              "      <td>0.0</td>\n",
              "    </tr>\n",
              "    <tr>\n",
              "      <th>2</th>\n",
              "      <td>4</td>\n",
              "      <td>0.0</td>\n",
              "      <td>0.0</td>\n",
              "      <td>0.0</td>\n",
              "      <td>0.0</td>\n",
              "      <td>1.0</td>\n",
              "      <td>0.0</td>\n",
              "      <td>0.0</td>\n",
              "    </tr>\n",
              "    <tr>\n",
              "      <th>3</th>\n",
              "      <td>5</td>\n",
              "      <td>0.0</td>\n",
              "      <td>0.0</td>\n",
              "      <td>0.0</td>\n",
              "      <td>0.0</td>\n",
              "      <td>0.0</td>\n",
              "      <td>1.0</td>\n",
              "      <td>0.0</td>\n",
              "    </tr>\n",
              "    <tr>\n",
              "      <th>4</th>\n",
              "      <td>6</td>\n",
              "      <td>0.0</td>\n",
              "      <td>0.0</td>\n",
              "      <td>0.0</td>\n",
              "      <td>0.0</td>\n",
              "      <td>0.0</td>\n",
              "      <td>0.0</td>\n",
              "      <td>1.0</td>\n",
              "    </tr>\n",
              "    <tr>\n",
              "      <th>5</th>\n",
              "      <td>0</td>\n",
              "      <td>1.0</td>\n",
              "      <td>0.0</td>\n",
              "      <td>0.0</td>\n",
              "      <td>0.0</td>\n",
              "      <td>0.0</td>\n",
              "      <td>0.0</td>\n",
              "      <td>0.0</td>\n",
              "    </tr>\n",
              "    <tr>\n",
              "      <th>6</th>\n",
              "      <td>1</td>\n",
              "      <td>0.0</td>\n",
              "      <td>1.0</td>\n",
              "      <td>0.0</td>\n",
              "      <td>0.0</td>\n",
              "      <td>0.0</td>\n",
              "      <td>0.0</td>\n",
              "      <td>0.0</td>\n",
              "    </tr>\n",
              "  </tbody>\n",
              "</table>\n",
              "</div>"
            ],
            "text/plain": [
              "   wday  Monday  Tuesday  Wednesday  Thursday  Friday  Saturday  Sunday\n",
              "0     2     0.0      0.0        1.0       0.0     0.0       0.0     0.0\n",
              "1     3     0.0      0.0        0.0       1.0     0.0       0.0     0.0\n",
              "2     4     0.0      0.0        0.0       0.0     1.0       0.0     0.0\n",
              "3     5     0.0      0.0        0.0       0.0     0.0       1.0     0.0\n",
              "4     6     0.0      0.0        0.0       0.0     0.0       0.0     1.0\n",
              "5     0     1.0      0.0        0.0       0.0     0.0       0.0     0.0\n",
              "6     1     0.0      1.0        0.0       0.0     0.0       0.0     0.0"
            ]
          },
          "metadata": {
            "tags": []
          },
          "execution_count": 37
        }
      ]
    },
    {
      "cell_type": "markdown",
      "metadata": {
        "id": "M9cZhkBbTWar"
      },
      "source": [
        "# 3.2 Technical features (Indicators **$f_{x}$**)"
      ]
    },
    {
      "cell_type": "markdown",
      "metadata": {
        "id": "XyL0Hqbqri49"
      },
      "source": [
        "### 3.2.1 Highs and Lows for given time horizon"
      ]
    },
    {
      "cell_type": "code",
      "metadata": {
        "id": "KpgWlwvr4wrv"
      },
      "source": [
        "week_low = cc_data.groupby(pd.Grouper(key='Date', freq='W'))['Close'].idxmin()\n",
        "cc_data['weekly_low'] = 0\n",
        "cc_data.loc[week_low,['weekly_low']] = 1\n",
        "\n",
        "week_high = cc_data.groupby(pd.Grouper(key='Date', freq='W'))['Close'].idxmax()\n",
        "cc_data['weekly_high'] = 0\n",
        "cc_data.loc[week_high,['weekly_high']] = 1"
      ],
      "execution_count": 38,
      "outputs": []
    },
    {
      "cell_type": "code",
      "metadata": {
        "id": "0g89-MTuqnrv",
        "outputId": "a7bcd404-2dc4-4eff-9a1a-d80f172fa7c8",
        "colab": {
          "base_uri": "https://localhost:8080/",
          "height": 257
        }
      },
      "source": [
        "cc_data.loc[0:6,['Close','wday','weekly_low','weekly_high']]"
      ],
      "execution_count": 39,
      "outputs": [
        {
          "output_type": "execute_result",
          "data": {
            "text/html": [
              "<div>\n",
              "<style scoped>\n",
              "    .dataframe tbody tr th:only-of-type {\n",
              "        vertical-align: middle;\n",
              "    }\n",
              "\n",
              "    .dataframe tbody tr th {\n",
              "        vertical-align: top;\n",
              "    }\n",
              "\n",
              "    .dataframe thead th {\n",
              "        text-align: right;\n",
              "    }\n",
              "</style>\n",
              "<table border=\"1\" class=\"dataframe\">\n",
              "  <thead>\n",
              "    <tr style=\"text-align: right;\">\n",
              "      <th></th>\n",
              "      <th>Close</th>\n",
              "      <th>wday</th>\n",
              "      <th>weekly_low</th>\n",
              "      <th>weekly_high</th>\n",
              "    </tr>\n",
              "  </thead>\n",
              "  <tbody>\n",
              "    <tr>\n",
              "      <th>0</th>\n",
              "      <td>9656.717773</td>\n",
              "      <td>2</td>\n",
              "      <td>0</td>\n",
              "      <td>0</td>\n",
              "    </tr>\n",
              "    <tr>\n",
              "      <th>1</th>\n",
              "      <td>9800.636719</td>\n",
              "      <td>3</td>\n",
              "      <td>0</td>\n",
              "      <td>1</td>\n",
              "    </tr>\n",
              "    <tr>\n",
              "      <th>2</th>\n",
              "      <td>9665.533203</td>\n",
              "      <td>4</td>\n",
              "      <td>0</td>\n",
              "      <td>0</td>\n",
              "    </tr>\n",
              "    <tr>\n",
              "      <th>3</th>\n",
              "      <td>9653.679688</td>\n",
              "      <td>5</td>\n",
              "      <td>1</td>\n",
              "      <td>0</td>\n",
              "    </tr>\n",
              "    <tr>\n",
              "      <th>4</th>\n",
              "      <td>9758.852539</td>\n",
              "      <td>6</td>\n",
              "      <td>0</td>\n",
              "      <td>0</td>\n",
              "    </tr>\n",
              "    <tr>\n",
              "      <th>5</th>\n",
              "      <td>9771.489258</td>\n",
              "      <td>0</td>\n",
              "      <td>0</td>\n",
              "      <td>0</td>\n",
              "    </tr>\n",
              "    <tr>\n",
              "      <th>6</th>\n",
              "      <td>9795.700195</td>\n",
              "      <td>1</td>\n",
              "      <td>0</td>\n",
              "      <td>0</td>\n",
              "    </tr>\n",
              "  </tbody>\n",
              "</table>\n",
              "</div>"
            ],
            "text/plain": [
              "         Close  wday  weekly_low  weekly_high\n",
              "0  9656.717773     2           0            0\n",
              "1  9800.636719     3           0            1\n",
              "2  9665.533203     4           0            0\n",
              "3  9653.679688     5           1            0\n",
              "4  9758.852539     6           0            0\n",
              "5  9771.489258     0           0            0\n",
              "6  9795.700195     1           0            0"
            ]
          },
          "metadata": {
            "tags": []
          },
          "execution_count": 39
        }
      ]
    },
    {
      "cell_type": "markdown",
      "metadata": {
        "id": "fGm_iGF4soL3"
      },
      "source": [
        "### 3.2.2 "
      ]
    },
    {
      "cell_type": "code",
      "metadata": {
        "id": "-v6hqZai0ow_"
      },
      "source": [
        "cc_data['up_trend_indicator'] = 0\n",
        "cc_data['down_trend_indicator'] = 0\n",
        "cc_data['trend_duration_indicator'] = 0\n",
        "cc_data['daily_change'] = 0\n",
        "count = 0\n",
        "for i in range(len(cc_data)):\n",
        "    if i == 0:\n",
        "        #first entry of the time series\n",
        "        cc_data.loc[i,'up_trend_indicator'] = 1\n",
        "        cc_data.loc[i,'down_trend_indicator'] = 1\n",
        "        cc_data.loc[i,'trend_duration_indicator'] = 0\n",
        "        cc_data.loc[i,'daily_change'] = 0   \n",
        "    else:\n",
        "\n",
        "        if (i > 0) and (cc_data.loc[i,'Close'] > cc_data.loc[i-1,'Close']):\n",
        "            cc_data.loc[i,'up_trend_indicator'] = 1\n",
        "            cc_data.loc[i,'down_trend_indicator'] = 0\n",
        "            cc_data.loc[i,'daily_change'] = cc_data.loc[i,'Close'] - cc_data.loc[i-1,'Close']\n",
        "            if (cc_data.loc[i-1,'up_trend_indicator'] == 1):\n",
        "                count += 1\n",
        "                cc_data.loc[i,'trend_duration_indicator'] = count\n",
        "            else:\n",
        "                count = 0\n",
        "\n",
        "        if(i > 0) and (cc_data.loc[i,'Close'] < cc_data.loc[i-1,'Close']):\n",
        "            cc_data.loc[i,'up_trend_indicator'] = 0\n",
        "            cc_data.loc[i,'down_trend_indicator'] = 1\n",
        "            cc_data.loc[i,'daily_change'] = cc_data.loc[i,'Close'] - cc_data.loc[i-1,'Close']\n",
        "            if (cc_data.loc[i-1,'up_trend_indicator'] == 0):\n",
        "                count += 1\n",
        "                cc_data.loc[i,'trend_duration_indicator'] = count\n",
        "            else:\n",
        "                count = 0"
      ],
      "execution_count": 40,
      "outputs": []
    },
    {
      "cell_type": "code",
      "metadata": {
        "id": "TzmMqDNy0wBV",
        "outputId": "14d8d23c-2d6e-4d83-91cf-1851d05b7c4c",
        "colab": {
          "base_uri": "https://localhost:8080/",
          "height": 257
        }
      },
      "source": [
        "cc_data.loc[0:6,['Date','Close','daily_change','up_trend_indicator','down_trend_indicator','trend_duration_indicator']]"
      ],
      "execution_count": 41,
      "outputs": [
        {
          "output_type": "execute_result",
          "data": {
            "text/html": [
              "<div>\n",
              "<style scoped>\n",
              "    .dataframe tbody tr th:only-of-type {\n",
              "        vertical-align: middle;\n",
              "    }\n",
              "\n",
              "    .dataframe tbody tr th {\n",
              "        vertical-align: top;\n",
              "    }\n",
              "\n",
              "    .dataframe thead th {\n",
              "        text-align: right;\n",
              "    }\n",
              "</style>\n",
              "<table border=\"1\" class=\"dataframe\">\n",
              "  <thead>\n",
              "    <tr style=\"text-align: right;\">\n",
              "      <th></th>\n",
              "      <th>Date</th>\n",
              "      <th>Close</th>\n",
              "      <th>daily_change</th>\n",
              "      <th>up_trend_indicator</th>\n",
              "      <th>down_trend_indicator</th>\n",
              "      <th>trend_duration_indicator</th>\n",
              "    </tr>\n",
              "  </thead>\n",
              "  <tbody>\n",
              "    <tr>\n",
              "      <th>0</th>\n",
              "      <td>2020-06-03</td>\n",
              "      <td>9656.717773</td>\n",
              "      <td>0.000000</td>\n",
              "      <td>1</td>\n",
              "      <td>1</td>\n",
              "      <td>0</td>\n",
              "    </tr>\n",
              "    <tr>\n",
              "      <th>1</th>\n",
              "      <td>2020-06-04</td>\n",
              "      <td>9800.636719</td>\n",
              "      <td>143.918945</td>\n",
              "      <td>1</td>\n",
              "      <td>0</td>\n",
              "      <td>1</td>\n",
              "    </tr>\n",
              "    <tr>\n",
              "      <th>2</th>\n",
              "      <td>2020-06-05</td>\n",
              "      <td>9665.533203</td>\n",
              "      <td>-135.103516</td>\n",
              "      <td>0</td>\n",
              "      <td>1</td>\n",
              "      <td>0</td>\n",
              "    </tr>\n",
              "    <tr>\n",
              "      <th>3</th>\n",
              "      <td>2020-06-06</td>\n",
              "      <td>9653.679688</td>\n",
              "      <td>-11.853516</td>\n",
              "      <td>0</td>\n",
              "      <td>1</td>\n",
              "      <td>1</td>\n",
              "    </tr>\n",
              "    <tr>\n",
              "      <th>4</th>\n",
              "      <td>2020-06-07</td>\n",
              "      <td>9758.852539</td>\n",
              "      <td>105.172852</td>\n",
              "      <td>1</td>\n",
              "      <td>0</td>\n",
              "      <td>0</td>\n",
              "    </tr>\n",
              "    <tr>\n",
              "      <th>5</th>\n",
              "      <td>2020-06-08</td>\n",
              "      <td>9771.489258</td>\n",
              "      <td>12.636719</td>\n",
              "      <td>1</td>\n",
              "      <td>0</td>\n",
              "      <td>1</td>\n",
              "    </tr>\n",
              "    <tr>\n",
              "      <th>6</th>\n",
              "      <td>2020-06-09</td>\n",
              "      <td>9795.700195</td>\n",
              "      <td>24.210938</td>\n",
              "      <td>1</td>\n",
              "      <td>0</td>\n",
              "      <td>2</td>\n",
              "    </tr>\n",
              "  </tbody>\n",
              "</table>\n",
              "</div>"
            ],
            "text/plain": [
              "        Date        Close  ...  down_trend_indicator  trend_duration_indicator\n",
              "0 2020-06-03  9656.717773  ...                     1                         0\n",
              "1 2020-06-04  9800.636719  ...                     0                         1\n",
              "2 2020-06-05  9665.533203  ...                     1                         0\n",
              "3 2020-06-06  9653.679688  ...                     1                         1\n",
              "4 2020-06-07  9758.852539  ...                     0                         0\n",
              "5 2020-06-08  9771.489258  ...                     0                         1\n",
              "6 2020-06-09  9795.700195  ...                     0                         2\n",
              "\n",
              "[7 rows x 6 columns]"
            ]
          },
          "metadata": {
            "tags": []
          },
          "execution_count": 41
        }
      ]
    },
    {
      "cell_type": "markdown",
      "metadata": {
        "id": "rRjBr9DR3o83"
      },
      "source": [
        "### 3.2.3"
      ]
    },
    {
      "cell_type": "code",
      "metadata": {
        "id": "3aAk3yns4Fdt"
      },
      "source": [
        "cc_data['SMA_7'] = cc_data['Close'].rolling(window=7, min_periods=1).mean()\n",
        "cc_data['SMA_28'] = cc_data['Close'].rolling(window=28, min_periods=1).mean()\n",
        "\n",
        "cc_data['EMA_100'] = cc_data['Close'].ewm(span=100, adjust=False).mean()\n",
        "cc_data['EMA_200'] = cc_data['Close'].ewm(span=200, adjust=False).mean()"
      ],
      "execution_count": 42,
      "outputs": []
    },
    {
      "cell_type": "markdown",
      "metadata": {
        "id": "MrxXBlO4TWkS"
      },
      "source": [
        "# 3.3 External Features\n",
        "e.g Sentinment"
      ]
    },
    {
      "cell_type": "markdown",
      "metadata": {
        "id": "_GkvE-jU_svY"
      },
      "source": [
        "# 4 Plots"
      ]
    },
    {
      "cell_type": "code",
      "metadata": {
        "id": "ap67c8nd_-V9",
        "outputId": "3f59dea6-d855-4d3e-cb3d-35621198ac5e",
        "colab": {
          "base_uri": "https://localhost:8080/",
          "height": 303
        }
      },
      "source": [
        "fig0, ax = plt.subplots()\n",
        "ax.yaxis.set_major_formatter(mpl.ticker.StrMethodFormatter('{x:,.0f}$'))\n",
        "\n",
        "ax.plot(cc_data.loc[:,'Date'], cc_data.loc[:,'Close'], label = 'Close')\n",
        "ax.scatter(cc_data.loc[cc_data['up_trend_indicator'] == 1]['Date'],\n",
        "           cc_data.loc[cc_data['up_trend_indicator'] == 1]['Close'],\n",
        "           color = \"Green\",\n",
        "           marker = 6)\n",
        "ax.scatter(cc_data.loc[cc_data['up_trend_indicator'] == 0]['Date'],\n",
        "           cc_data.loc[cc_data['up_trend_indicator'] == 0]['Close'],\n",
        "           color = \"Red\" ,\n",
        "           marker = 7)\n",
        "ax.set_title((f'{symbol} from {start_date} to {today}'), fontsize = 20)\n",
        "ax.legend(fontsize=20)"
      ],
      "execution_count": 48,
      "outputs": [
        {
          "output_type": "execute_result",
          "data": {
            "text/plain": [
              "<matplotlib.legend.Legend at 0x7fc1a419b350>"
            ]
          },
          "metadata": {
            "tags": []
          },
          "execution_count": 48
        },
        {
          "output_type": "display_data",
          "data": {
            "image/png": "[encoded data removed]",
            "text/plain": [
              "<Figure size 432x288 with 1 Axes>"
            ]
          },
          "metadata": {
            "tags": [],
            "needs_background": "light"
          }
        }
      ]
    }
  ]
}