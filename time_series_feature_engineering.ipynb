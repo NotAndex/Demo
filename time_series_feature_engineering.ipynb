{
  "nbformat": 4,
  "nbformat_minor": 0,
  "metadata": {
    "colab": {
      "name": "time_series_feature_engineering.ipynb",
      "provenance": [],
      "collapsed_sections": [],
      "authorship_tag": "ABX9TyMmTjnk5fbrTT4MtFwhBOdE",
      "include_colab_link": true
    },
    "kernelspec": {
      "name": "python3",
      "display_name": "Python 3"
    },
    "language_info": {
      "name": "python"
    }
  },
  "cells": [
    {
      "cell_type": "markdown",
      "metadata": {
        "id": "view-in-github",
        "colab_type": "text"
      },
      "source": [
        "<a href=\"https://colab.research.google.com/github/NotAndex/Demo/blob/main/time_series_feature_engineering.ipynb\" target=\"_parent\"><img src=\"https://colab.research.google.com/assets/colab-badge.svg\" alt=\"Open In Colab\"/></a>"
      ]
    },
    {
      "cell_type": "markdown",
      "metadata": {
        "id": "Lo75g1ZbQmpI"
      },
      "source": [
        "# 0"
      ]
    },
    {
      "cell_type": "markdown",
      "metadata": {
        "id": "1HCRiazZQpbo"
      },
      "source": [
        "# 1 Setup\n"
      ]
    },
    {
      "cell_type": "code",
      "metadata": {
        "id": "P2Lj1rXJRGP6"
      },
      "source": [
        "!pip install yfinance\n",
        "import yfinance as yf\n",
        "\n",
        "import numpy as np\n",
        "import pandas as pd\n",
        "import datetime"
      ],
      "execution_count": null,
      "outputs": []
    },
    {
      "cell_type": "markdown",
      "metadata": {
        "id": "tIaAHbdNQz2C"
      },
      "source": [
        "# 2 Data"
      ]
    },
    {
      "cell_type": "code",
      "metadata": {
        "colab": {
          "base_uri": "https://localhost:8080/"
        },
        "id": "y1Aw_OdrSTcL",
        "outputId": "68e916bc-2128-4582-828c-9c314e4965a5"
      },
      "source": [
        "today = datetime.date.today()\n",
        "start_date = today - datetime.timedelta(days=365*3)\n",
        "symbol = 'BTC-USD'\n",
        "\n",
        "cc_data = yf.download(symbol, start=start_date, end=today)\n",
        "cc_data.reset_index(inplace=True,col_fill=('Date'))"
      ],
      "execution_count": 4,
      "outputs": [
        {
          "output_type": "stream",
          "text": [
            "\r[*********************100%***********************]  1 of 1 completed\n"
          ],
          "name": "stdout"
        }
      ]
    },
    {
      "cell_type": "markdown",
      "metadata": {
        "id": "MQnbgfJ0Q-Cq"
      },
      "source": [
        "#3 Feature engineering examples"
      ]
    },
    {
      "cell_type": "markdown",
      "metadata": {
        "id": "JP12UkVESp2D"
      },
      "source": [
        "## 3.1 Date dependent features"
      ]
    },
    {
      "cell_type": "markdown",
      "metadata": {
        "id": "M9cZhkBbTWar"
      },
      "source": [
        "# 3.2 Technical features (Indicators **$f_{x}$**)"
      ]
    },
    {
      "cell_type": "markdown",
      "metadata": {
        "id": "MrxXBlO4TWkS"
      },
      "source": [
        "# 3.3 External Features\n",
        "e.g Sentinment"
      ]
    }
  ]
}